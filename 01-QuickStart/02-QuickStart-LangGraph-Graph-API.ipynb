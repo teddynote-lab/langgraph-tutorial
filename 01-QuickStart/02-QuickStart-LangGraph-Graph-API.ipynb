{
 "cells": [
  {
   "cell_type": "markdown",
   "metadata": {},
   "source": [
    "# 🔧 LangGraph Graph API\n",
    "\n",
    "## 📚 개요\n",
    "\n",
    "이 튜토리얼은 LangGraph의 핵심인 Graph API의 모든 개념을 깊이 있게 다룹니다. LangGraph는 에이전트 워크플로우를 **그래프**로 모델링하며, 이를 통해 복잡한 상태 기계와 멀티 에이전트 시스템을 구축할 수 있습니다.\n",
    "\n",
    "## 🎯 학습 목표\n",
    "\n",
    "1. **그래프 기본 개념** 이해 - State, Nodes, Edges의 핵심 구성요소\n",
    "2. **상태 관리** 마스터 - 스키마 정의, 리듀서 함수, 메시지 처리\n",
    "3. **노드** 심화 학습 - 다양한 노드 타입과 캐싱\n",
    "4. **엣지와 라우팅** - 조건부 라우팅과 동적 제어 흐름\n",
    "5. **고급 기능** - Send, Command를 활용한 복잡한 워크플로우\n",
    "\n",
    "## 🔑 핵심 개념 미리보기\n",
    "\n",
    "```\n",
    "┌─────────────────────────────────────────────────────────┐\n",
    "│                    LangGraph Graph API                   │\n",
    "├──────────────┬──────────────┬──────────────────────────┤\n",
    "│    State     │    Nodes     │         Edges            │\n",
    "├──────────────┼──────────────┼──────────────────────────┤\n",
    "│ • Schema     │ • Functions  │ • Normal Edges           │\n",
    "│ • Reducers   │ • START/END  │ • Conditional Edges      │\n",
    "│ • Messages   │ • Caching    │ • Entry/Exit Points      │\n",
    "│              │              │ • Send & Command         │\n",
    "└──────────────┴──────────────┴──────────────────────────┘\n",
    "```\n",
    "\n",
    "## 💡 중요 원칙\n",
    "\n",
    "> **\"노드는 작업을 수행하고, 엣지는 다음에 무엇을 할지 결정한다\"**\n",
    "> \n",
    "> _Nodes do the work, edges tell what to do next_"
   ]
  },
  {
   "cell_type": "markdown",
   "metadata": {},
   "source": [
    "## 환경 설정"
   ]
  },
  {
   "cell_type": "code",
   "execution_count": 1,
   "metadata": {},
   "outputs": [
    {
     "data": {
      "text/plain": [
       "True"
      ]
     },
     "execution_count": 1,
     "metadata": {},
     "output_type": "execute_result"
    }
   ],
   "source": [
    "# API KEY를 환경변수로 관리하기 위한 설정 파일\n",
    "from dotenv import load_dotenv\n",
    "\n",
    "# API KEY 정보로드\n",
    "load_dotenv()"
   ]
  },
  {
   "cell_type": "code",
   "execution_count": 2,
   "metadata": {},
   "outputs": [
    {
     "name": "stdout",
     "output_type": "stream",
     "text": [
      "LangSmith 추적을 시작합니다.\n",
      "[프로젝트명]\n",
      "LangGraph-Tutorial\n"
     ]
    }
   ],
   "source": [
    "# LangSmith 추적을 설정합니다. https://smith.langchain.com\n",
    "from langchain_teddynote import logging\n",
    "\n",
    "# 프로젝트 이름을 입력합니다.\n",
    "logging.langsmith(\"LangGraph-Tutorial\")"
   ]
  },
  {
   "cell_type": "markdown",
   "metadata": {},
   "source": [
    "---\n",
    "\n",
    "# Part 1: 그래프 기본 개념 🌐\n",
    "\n",
    "## 1.1 그래프란 무엇인가?\n",
    "\n",
    "LangGraph의 핵심은 에이전트 워크플로우를 **그래프**로 모델링하는 것입니다. 그래프는 세 가지 핵심 구성요소로 이루어집니다:\n",
    "\n",
    "1. **State (상태)**: 애플리케이션의 현재 스냅샷을 나타내는 공유 데이터 구조\n",
    "2. **Nodes (노드)**: 에이전트의 로직을 인코딩하는 함수들\n",
    "3. **Edges (엣지)**: 현재 상태를 기반으로 다음 실행할 노드를 결정하는 함수들\n",
    "\n",
    "### 그래프 알고리즘의 동작 원리\n",
    "\n",
    "LangGraph는 Google의 Pregel 시스템에서 영감을 받은 **메시지 패싱** 알고리즘을 사용합니다:\n",
    "\n",
    "1. **Super-step**: 그래프 노드에 대한 단일 반복\n",
    "2. **병렬 실행**: 같은 super-step의 노드들은 병렬로 실행\n",
    "3. **순차 실행**: 다른 super-step의 노드들은 순차적으로 실행\n",
    "4. **종료 조건**: 모든 노드가 비활성 상태이고 전송 중인 메시지가 없을 때"
   ]
  },
  {
   "cell_type": "code",
   "execution_count": 3,
   "metadata": {},
   "outputs": [],
   "source": [
    "from langgraph.graph import StateGraph, START, END\n",
    "from typing_extensions import TypedDict\n",
    "\n",
    "\n",
    "# 간단한 그래프 예제\n",
    "class SimpleState(TypedDict):\n",
    "    \"\"\"Simple state with a single field\"\"\"\n",
    "\n",
    "    message: str\n",
    "\n",
    "\n",
    "# StateGraph 생성\n",
    "graph_builder = StateGraph(SimpleState)\n",
    "\n",
    "\n",
    "# 노드 함수 정의\n",
    "def processor(state: SimpleState):\n",
    "    \"\"\"Process the message in the state\"\"\"\n",
    "    # 노드는 현재 상태를 입력으로 받고 업데이트를 반환\n",
    "    return {\"message\": state[\"message\"] + \" - processed\"}\n",
    "\n",
    "\n",
    "# 노드 추가\n",
    "graph_builder.add_node(\"processor\", processor)\n",
    "\n",
    "# 엣지 추가 (진입점과 종료점)\n",
    "graph_builder.add_edge(START, \"processor\")\n",
    "graph_builder.add_edge(\"processor\", END)\n",
    "\n",
    "# 그래프 컴파일 - 필수!\n",
    "graph = graph_builder.compile()"
   ]
  },
  {
   "cell_type": "code",
   "execution_count": 4,
   "metadata": {},
   "outputs": [
    {
     "data": {
      "image/png": "[encoded data removed]",
      "text/plain": [
       "<IPython.core.display.Image object>"
      ]
     },
     "metadata": {},
     "output_type": "display_data"
    }
   ],
   "source": [
    "from langchain_teddynote.graphs import visualize_graph\n",
    "\n",
    "visualize_graph(graph)"
   ]
  },
  {
   "cell_type": "code",
   "execution_count": 5,
   "metadata": {},
   "outputs": [
    {
     "name": "stdout",
     "output_type": "stream",
     "text": [
      "결과: {'message': 'Hello LangGraph - processed'}\n"
     ]
    }
   ],
   "source": [
    "# 그래프 실행\n",
    "result = graph.invoke({\"message\": \"Hello LangGraph\"})\n",
    "print(f\"결과: {result}\")"
   ]
  },
  {
   "cell_type": "markdown",
   "metadata": {},
   "source": [
    "### 1.2 그래프 컴파일\n",
    "\n",
    "그래프를 사용하기 전에 **반드시 컴파일**해야 합니다. 컴파일 과정에서:\n",
    "\n",
    "1. 그래프 구조의 기본 검증 (고아 노드 없음 등)\n",
    "2. 런타임 인자 지정 (체크포인터, 브레이크포인트 등)\n",
    "3. 실행 가능한 그래프 객체 생성"
   ]
  },
  {
   "cell_type": "code",
   "execution_count": 6,
   "metadata": {},
   "outputs": [
    {
     "name": "stdout",
     "output_type": "stream",
     "text": [
      "✅ 체크포인터가 있는 그래프 컴파일 완료!\n"
     ]
    }
   ],
   "source": [
    "from langgraph.checkpoint.memory import InMemorySaver\n",
    "\n",
    "# 체크포인터와 함께 컴파일\n",
    "memory = InMemorySaver()\n",
    "\n",
    "graph_with_memory = graph_builder.compile(\n",
    "    checkpointer=memory,  # 상태 저장을 위한 체크포인터\n",
    "    # interrupt_before=[\"processor\"],  # 특정 노드 전에 중단 (디버깅용)\n",
    "    # interrupt_after=[\"processor\"],   # 특정 노드 후에 중단\n",
    ")\n",
    "\n",
    "print(\"✅ 체크포인터가 있는 그래프 컴파일 완료!\")"
   ]
  },
  {
   "cell_type": "markdown",
   "metadata": {},
   "source": [
    "---\n",
    "\n",
    "# Part 2: State (상태) 심화 학습 📊\n",
    "\n",
    "## 2.1 State 스키마 정의\n",
    "\n",
    "State는 그래프의 스키마와 리듀서 함수로 구성됩니다. 스키마는 TypedDict, dataclass, 또는 Pydantic 모델로 정의할 수 있습니다."
   ]
  },
  {
   "cell_type": "code",
   "execution_count": 7,
   "metadata": {},
   "outputs": [
    {
     "name": "stdout",
     "output_type": "stream",
     "text": [
      "✅ 세 가지 방식의 State 스키마 정의 완료!\n"
     ]
    }
   ],
   "source": [
    "from typing import Annotated, List\n",
    "from dataclasses import dataclass, field\n",
    "from pydantic import BaseModel\n",
    "\n",
    "\n",
    "# 방법 1: TypedDict (가장 일반적, 성능 우수)\n",
    "class TypedDictState(TypedDict):\n",
    "    \"\"\"State using TypedDict\"\"\"\n",
    "\n",
    "    count: int\n",
    "    items: List[str]\n",
    "\n",
    "\n",
    "# 방법 2: dataclass (기본값 지원)\n",
    "@dataclass\n",
    "class DataclassState:\n",
    "    \"\"\"State using dataclass with default values\"\"\"\n",
    "\n",
    "    count: int = 0\n",
    "    items: List[str] = field(default_factory=list)\n",
    "\n",
    "\n",
    "# 방법 3: Pydantic (재귀적 검증, 성능은 떨어짐)\n",
    "class PydanticState(BaseModel):\n",
    "    \"\"\"State using Pydantic for validation\"\"\"\n",
    "\n",
    "    count: int = 0\n",
    "    items: List[str] = []\n",
    "\n",
    "\n",
    "print(\"✅ 세 가지 방식의 State 스키마 정의 완료!\")"
   ]
  },
  {
   "cell_type": "markdown",
   "metadata": {},
   "source": [
    "## 2.2 Reducers (리듀서)\n",
    "\n",
    "리듀서는 노드의 업데이트가 State에 어떻게 적용되는지 정의합니다. 각 State 키는 독립적인 리듀서 함수를 가질 수 있습니다."
   ]
  },
  {
   "cell_type": "code",
   "execution_count": 8,
   "metadata": {},
   "outputs": [
    {
     "data": {
      "image/png": "[encoded data removed]",
      "text/plain": [
       "<IPython.core.display.Image object>"
      ]
     },
     "metadata": {},
     "output_type": "display_data"
    }
   ],
   "source": [
    "from operator import add\n",
    "\n",
    "\n",
    "# 기본 리듀서 vs 커스텀 리듀서\n",
    "class StateWithReducers(TypedDict):\n",
    "    \"\"\"State with custom reducers\"\"\"\n",
    "\n",
    "    # 기본 리듀서: 값을 덮어씀\n",
    "    current_value: int\n",
    "\n",
    "    # add 리듀서: 리스트를 연결\n",
    "    history: Annotated[List[str], add]\n",
    "\n",
    "    # 커스텀 리듀서: 최대값 유지\n",
    "    max_value: Annotated[int, lambda x, y: max(x, y)]\n",
    "\n",
    "\n",
    "# 그래프 생성\n",
    "builder = StateGraph(StateWithReducers)\n",
    "\n",
    "\n",
    "def update_values(state: StateWithReducers):\n",
    "    \"\"\"Update various state values\"\"\"\n",
    "    return {\n",
    "        \"current_value\": 10,  # 덮어쓰기\n",
    "        \"history\": [\"새 항목\"],  # 추가\n",
    "        \"max_value\": 15,  # 최대값과 비교\n",
    "    }\n",
    "\n",
    "\n",
    "builder.add_node(\"updater\", update_values)\n",
    "builder.add_edge(START, \"updater\")\n",
    "builder.add_edge(\"updater\", END)\n",
    "\n",
    "graph = builder.compile()\n",
    "\n",
    "# 그래프 시각화\n",
    "visualize_graph(graph)"
   ]
  },
  {
   "cell_type": "code",
   "execution_count": 9,
   "metadata": {},
   "outputs": [
    {
     "name": "stdout",
     "output_type": "stream",
     "text": [
      "\n",
      "리듀서 적용 결과:\n",
      "  current_value: 5 → 10 (덮어쓰기)\n",
      "  history: ['초기 항목', '새 항목'] (추가)\n",
      "  max_value: 20 (최대값 유지)\n"
     ]
    }
   ],
   "source": [
    "# 초기 상태로 실행\n",
    "initial_state = {\"current_value\": 5, \"history\": [\"초기 항목\"], \"max_value\": 20}\n",
    "\n",
    "result = graph.invoke(initial_state)\n",
    "print(\"\\n리듀서 적용 결과:\")\n",
    "print(f\"  current_value: 5 → {result['current_value']} (덮어쓰기)\")\n",
    "print(f\"  history: {result['history']} (추가)\")\n",
    "print(f\"  max_value: {result['max_value']} (최대값 유지)\")"
   ]
  },
  {
   "cell_type": "markdown",
   "metadata": {},
   "source": [
    "## 2.3 메시지 처리\n",
    "\n",
    "대화형 AI에서는 메시지 리스트를 State에 저장하는 것이 일반적입니다. LangGraph는 이를 위한 특별한 리듀서를 제공합니다."
   ]
  },
  {
   "cell_type": "code",
   "execution_count": 10,
   "metadata": {},
   "outputs": [],
   "source": [
    "from langchain_core.messages import HumanMessage, AIMessage, AnyMessage\n",
    "from langgraph.graph.message import add_messages\n",
    "from langgraph.graph import MessagesState\n",
    "\n",
    "\n",
    "# 방법 1: add_messages 리듀서 사용\n",
    "class ChatState(TypedDict):\n",
    "    \"\"\"State with message handling\"\"\"\n",
    "\n",
    "    messages: Annotated[List[AnyMessage], add_messages]\n",
    "    metadata: dict\n",
    "\n",
    "\n",
    "# 방법 2: MessagesState 상속 (더 간단)\n",
    "class ExtendedChatState(MessagesState):\n",
    "    \"\"\"Extended state inheriting from MessagesState\"\"\"\n",
    "\n",
    "    # messages 키는 이미 정의되어 있음\n",
    "    metadata: dict"
   ]
  },
  {
   "cell_type": "code",
   "execution_count": 11,
   "metadata": {},
   "outputs": [],
   "source": [
    "from langchain_core.runnables import RunnableConfig\n",
    "\n",
    "# 메시지 처리 예제\n",
    "builder = StateGraph(ChatState)\n",
    "\n",
    "\n",
    "def process_chat(state: ChatState):\n",
    "    \"\"\"Process chat messages\"\"\"\n",
    "    # 마지막 메시지 접근\n",
    "    last_message = state[\"messages\"][-1]\n",
    "\n",
    "    # 응답 생성\n",
    "    response = AIMessage(content=f\"{last_message.content}\")\n",
    "\n",
    "    return {\n",
    "        \"messages\": [response],  # add_messages가 자동으로 추가\n",
    "        \"metadata\": {\"processed\": True},\n",
    "    }\n",
    "\n",
    "\n",
    "builder.add_node(\"chat\", process_chat)\n",
    "builder.add_edge(START, \"chat\")\n",
    "builder.add_edge(\"chat\", END)\n",
    "\n",
    "memory = InMemorySaver()\n",
    "\n",
    "chat_graph = builder.compile(checkpointer=memory)"
   ]
  },
  {
   "cell_type": "code",
   "execution_count": 12,
   "metadata": {},
   "outputs": [
    {
     "name": "stdout",
     "output_type": "stream",
     "text": [
      "\n",
      "메시지 처리 결과:\n",
      "  [HumanMessage]: 안녕하세요\n",
      "  [AIMessage]: 안녕하세요\n"
     ]
    }
   ],
   "source": [
    "config = RunnableConfig(configurable={\"thread_id\": \"1\"})\n",
    "\n",
    "# 실행\n",
    "result = chat_graph.invoke(\n",
    "    {\n",
    "        \"messages\": [HumanMessage(content=\"안녕하세요\")],\n",
    "        \"metadata\": {},\n",
    "        \"user_info\": {\"name\": \"사용자\"},\n",
    "    },\n",
    "    config=config,\n",
    ")\n",
    "\n",
    "print(\"\\n메시지 처리 결과:\")\n",
    "for msg in result[\"messages\"]:\n",
    "    print(f\"  [{msg.__class__.__name__}]: {msg.content}\")"
   ]
  },
  {
   "cell_type": "markdown",
   "metadata": {},
   "source": [
    "## 2.4 다중 스키마 (입력/출력 분리)\n",
    "\n",
    "때로는 그래프의 입력과 출력 스키마를 다르게 하고 싶을 수 있습니다. 또한 내부 노드 간 통신을 위한 프라이빗 스키마도 정의할 수 있습니다.\n",
    "\n",
    "**InputState와 OutputState**\n",
    "\n",
    "노드가 전체 스테이트와 상호작용하는 동안, LangGraph는 스테이트그래프를 초기화할 때 명시적인 입력 스테이트와 출력 스테이트 스키마를 정의할 수 있게 해줍니다. 이를 통해 그래프가 호출될 때 예상되는 데이터와 완료 시 반환되는 데이터를 명확하게 구분할 수 있습니다.\n",
    "- `InputState`: 이 스키마는 그래프가 실행될 때 입력으로 예상되는 데이터의 구조와 유형을 정의합니다. 그래프가 처리를 시작하기 위해 수신할 것으로 예상되는 데이터에 대한 계약 역할을 합니다.\n",
    "- `OutputState`: 이 스키마는 그래프가 최종 결과로 생성할 데이터의 구조와 유형을 정의합니다. 사용자 또는 후속 시스템이 완료된 그래프 실행에서 받을 수 있는 것을 명확히 합니다."
   ]
  },
  {
   "cell_type": "code",
   "execution_count": 23,
   "metadata": {},
   "outputs": [],
   "source": [
    "# 그래프의 입력 스키마\n",
    "class InputState(TypedDict):\n",
    "    \"\"\"Input schema - what users provide\"\"\"\n",
    "\n",
    "    user_input: str\n",
    "\n",
    "\n",
    "# 그래프의 출력 스키마\n",
    "class OutputState(TypedDict):\n",
    "    \"\"\"Output schema - what users receive\"\"\"\n",
    "\n",
    "    graph_output: str\n",
    "\n",
    "\n",
    "# 내부에서 사용되는 State\n",
    "class InternalState(TypedDict):\n",
    "    \"\"\"Internal schema - full state for processing\"\"\"\n",
    "\n",
    "    user_input: str\n",
    "    internal_state: str\n",
    "\n",
    "\n",
    "# Private State\n",
    "class PrivateState(TypedDict):\n",
    "    \"\"\"Private schema - for internal node communication\"\"\"\n",
    "\n",
    "    private_state: str"
   ]
  },
  {
   "cell_type": "code",
   "execution_count": 25,
   "metadata": {},
   "outputs": [
    {
     "data": {
      "image/png": "[encoded data removed]",
      "text/plain": [
       "<IPython.core.display.Image object>"
      ]
     },
     "metadata": {},
     "output_type": "display_data"
    },
    {
     "name": "stdout",
     "output_type": "stream",
     "text": [
      "node_1: {'user_input': '사용자 입력'}\n",
      "node_2: {'user_input': '사용자 입력', 'internal_state': '사용자 입력(node_1 에서 처리됨)'}\n",
      "node_3: {'private_state': 'PRIVATE: 사용자 입력(node_1 에서 처리됨) (node_2 에서 처리됨)'}\n",
      "\n",
      "다중 스키마 결과: {'graph_output': '최종 결과: PRIVATE: 사용자 입력(node_1 에서 처리됨) (node_2 에서 처리됨) (node_3 에서 처리됨)'}\n"
     ]
    }
   ],
   "source": [
    "# 다중 스키마를 사용하는 그래프\n",
    "builder = StateGraph(\n",
    "    InternalState,\n",
    "    input_schema=InputState,  # 입력 스키마 지정\n",
    "    output_schema=OutputState,  # 출력 스키마 지정\n",
    ")\n",
    "\n",
    "\n",
    "def node_1(state: InputState) -> InternalState:\n",
    "    \"\"\"First node - reads from InputState, writes to InternalState\"\"\"\n",
    "    # InputState를 받지만 InternalState의 키에 쓸 수 있음\n",
    "    print(f\"node_1: {state}\")\n",
    "    return {\n",
    "        \"user_input\": state[\"user_input\"],\n",
    "        \"internal_state\": state[\"user_input\"] + \"(node_1 에서 처리됨)\",\n",
    "    }\n",
    "\n",
    "\n",
    "def node_2(state: InternalState) -> PrivateState:\n",
    "    \"\"\"Second node - reads from InternalState, writes to PrivateState\"\"\"\n",
    "    print(f\"node_2: {state}\")\n",
    "    # 새로운 state 채널(temp_data) 추가 가능\n",
    "    return {\"private_state\": f\"PRIVATE: {state['internal_state']} (node_2 에서 처리됨)\"}\n",
    "\n",
    "\n",
    "def node_3(state: PrivateState) -> OutputState:\n",
    "    \"\"\"Final node - reads from PrivateState, writes to OutputState\"\"\"\n",
    "    print(f\"node_3: {state}\")\n",
    "    return {\"graph_output\": f\"최종 결과: {state['private_state']} (node_3 에서 처리됨)\"}\n",
    "\n",
    "\n",
    "# 노드와 엣지 추가\n",
    "builder.add_node(\"node_1\", node_1)\n",
    "builder.add_node(\"node_2\", node_2)\n",
    "builder.add_node(\"node_3\", node_3)\n",
    "\n",
    "builder.add_edge(START, \"node_1\")\n",
    "builder.add_edge(\"node_1\", \"node_2\")\n",
    "builder.add_edge(\"node_2\", \"node_3\")\n",
    "builder.add_edge(\"node_3\", END)\n",
    "\n",
    "multi_schema_graph = builder.compile()\n",
    "\n",
    "visualize_graph(multi_schema_graph)\n",
    "\n",
    "# 실행 - 입력은 InputState 형식\n",
    "result = multi_schema_graph.invoke({\"user_input\": \"사용자 입력\"})\n",
    "\n",
    "# 출력은 OutputState 형식\n",
    "print(f\"\\n다중 스키마 결과: {result}\")"
   ]
  },
  {
   "cell_type": "markdown",
   "metadata": {},
   "source": [
    "---\n",
    "\n",
    "# Part 3: Nodes (노드) 심화 학습 🔨\n",
    "\n",
    "## 3.1 노드 함수의 인자\n",
    "\n",
    "노드는 Python 함수(동기/비동기)로, 다음 인자를 받을 수 있습니다:\n",
    "\n",
    "1. `state`: 그래프의 현재 상태\n",
    "2. `config`: 설정 정보 (thread_id, 추적 정보 등)\n",
    "3. `runtime`: 런타임 컨텍스트와 기타 정보"
   ]
  },
  {
   "cell_type": "markdown",
   "metadata": {},
   "source": [
    "별도의 ConfigSchema 를 정의하여 Node 에 추가로 제공할 수 있습니다.(선택 사항이지만 권장)"
   ]
  },
  {
   "cell_type": "code",
   "execution_count": 30,
   "metadata": {},
   "outputs": [],
   "source": [
    "from typing_extensions import TypedDict\n",
    "\n",
    "\n",
    "class ConfigSchema(TypedDict):\n",
    "    my_runtime_value: str\n",
    "    another_setting: bool\n",
    "\n",
    "\n",
    "class MyState(MessagesState):\n",
    "    pass"
   ]
  },
  {
   "cell_type": "markdown",
   "metadata": {},
   "source": [
    "config를 두 번째 인자로 받도록 노드 함수를 정의\n",
    "- config 인수는 사용자 정의 구성 값이 저장되는 “configurable” 키를 포함하여 다양한 런타임 설정이 포함된 사전과 같은 구조의 RunnableConfig 객체가 됩니다."
   ]
  },
  {
   "cell_type": "code",
   "execution_count": null,
   "metadata": {},
   "outputs": [],
   "source": [
    "from langchain_core.runnables import RunnableConfig\n",
    "\n",
    "\n",
    "# state 와 config 를 받는 노드 함수 정의\n",
    "def my_node(state: MyState, config: RunnableConfig):\n",
    "    \"\"\"\n",
    "    Example node function that demonstrates how to access custom configuration values.\n",
    "\n",
    "    Args:\n",
    "        state (MyState): The current state of the graph.\n",
    "        config (RunnableConfig): Configuration object containing runtime and user-defined settings.\n",
    "\n",
    "    Returns:\n",
    "        dict: Updated state dictionary.\n",
    "    \"\"\"\n",
    "    # config[\"configurable\"] 딕셔너리에서 사용자 정의 설정값을 가져옵니다.\n",
    "    runtime_value = config[\"configurable\"].get(\"runtime_value\", \"\")\n",
    "    setting_value = config[\"configurable\"].get(\"setting_value\", \"\")\n",
    "\n",
    "    # runtime_value 값이 있으면 해당 값을 출력합니다.\n",
    "    if runtime_value:\n",
    "        print(f\"runtime_value: {runtime_value}\")\n",
    "\n",
    "    # setting_value 값이 있으면 해당 값을 출력합니다.\n",
    "    if setting_value:\n",
    "        print(f\"setting_value: {setting_value}\")\n",
    "\n",
    "    # 현재 state 값을 출력합니다.\n",
    "    print(f\"state: {state}\")\n",
    "\n",
    "    # 새로운 키와 값을 포함하는 상태를 반환합니다.\n",
    "    return {\"updated_key\": \"new_value\"}"
   ]
  },
  {
   "cell_type": "markdown",
   "metadata": {},
   "source": [
    "StateGraph를 빌드할 때 config_schema를 지정합니다(선택 사항이지만 권장)\n",
    "- 이렇게 하면 LangGraph가 정의된 스키마에 대해 제공된 구성의 유효성을 검사할 수 있습니다."
   ]
  },
  {
   "cell_type": "code",
   "execution_count": 47,
   "metadata": {},
   "outputs": [],
   "source": [
    "from langgraph.graph import StateGraph\n",
    "\n",
    "builder = StateGraph(MyState, context_schema=ConfigSchema)\n",
    "builder.add_node(\"my_node\", my_node)\n",
    "builder.add_edge(START, \"my_node\")\n",
    "builder.add_edge(\"my_node\", END)\n",
    "\n",
    "graph = builder.compile()"
   ]
  },
  {
   "cell_type": "markdown",
   "metadata": {},
   "source": [
    "원하는 구성으로 컴파일된 그래프를 호출합니다. 호출 또는 스트림 메서드의 `config` 인수에 사전을 전달하고 사용자 정의 값을 `\"configurable\"` 키 아래에 배치합니다."
   ]
  },
  {
   "cell_type": "code",
   "execution_count": 48,
   "metadata": {},
   "outputs": [
    {
     "name": "stdout",
     "output_type": "stream",
     "text": [
      "runtime_value: I love LangGraph\n",
      "setting_value: 123\n",
      "state: {'messages': [HumanMessage(content='안녕하세요', additional_kwargs={}, response_metadata={}, id='d39d3794-825a-4415-a003-0bb6e937692c')]}\n"
     ]
    }
   ],
   "source": [
    "graph = builder.compile()\n",
    "result = graph.invoke(\n",
    "    {\"messages\": [HumanMessage(content=\"안녕하세요\")]},\n",
    "    config={\n",
    "        \"configurable\": {\"runtime_value\": \"I love LangGraph\", \"setting_value\": 123}\n",
    "    },\n",
    ")"
   ]
  },
  {
   "cell_type": "markdown",
   "metadata": {},
   "source": [
    "## 3.2 특수 노드: START와 END\n",
    "\n",
    "- **START**: 사용자 입력이 그래프로 전달되는 시작점\n",
    "- **END**: 그래프 실행이 종료되는 지점"
   ]
  },
  {
   "cell_type": "code",
   "execution_count": 49,
   "metadata": {},
   "outputs": [
    {
     "name": "stdout",
     "output_type": "stream",
     "text": [
      "\n",
      "플로우 실행 결과:\n",
      "  초기값: 5\n",
      "  최종값: 10\n",
      "  경로: start → middle → final\n"
     ]
    }
   ],
   "source": [
    "# START와 END 사용 예제\n",
    "class FlowState(TypedDict):\n",
    "    \"\"\"State for flow control example\"\"\"\n",
    "\n",
    "    value: int\n",
    "    path: List[str]\n",
    "\n",
    "\n",
    "builder = StateGraph(FlowState)\n",
    "\n",
    "\n",
    "def start_processing(state: FlowState):\n",
    "    \"\"\"Initial processing node\"\"\"\n",
    "    return {\"value\": state[\"value\"] * 2, \"path\": [\"start\"]}\n",
    "\n",
    "\n",
    "def middle_processing(state: FlowState):\n",
    "    \"\"\"Middle processing node\"\"\"\n",
    "    return {\"value\": state[\"value\"] + 10, \"path\": state[\"path\"] + [\"middle\"]}\n",
    "\n",
    "\n",
    "def final_processing(state: FlowState):\n",
    "    \"\"\"Final processing node\"\"\"\n",
    "    return {\"value\": state[\"value\"] // 2, \"path\": state[\"path\"] + [\"final\"]}\n",
    "\n",
    "\n",
    "# 노드 추가\n",
    "builder.add_node(\"start_node\", start_processing)\n",
    "builder.add_node(\"middle_node\", middle_processing)\n",
    "builder.add_node(\"final_node\", final_processing)\n",
    "\n",
    "# 플로우 정의\n",
    "builder.add_edge(START, \"start_node\")  # 진입점\n",
    "builder.add_edge(\"start_node\", \"middle_node\")\n",
    "builder.add_edge(\"middle_node\", \"final_node\")\n",
    "builder.add_edge(\"final_node\", END)  # 종료점\n",
    "\n",
    "flow_graph = builder.compile()\n",
    "\n",
    "# 실행\n",
    "result = flow_graph.invoke({\"value\": 5, \"path\": []})\n",
    "print(f\"\\n플로우 실행 결과:\")\n",
    "print(f\"  초기값: 5\")\n",
    "print(f\"  최종값: {result['value']}\")\n",
    "print(f\"  경로: {' → '.join(result['path'])}\")"
   ]
  },
  {
   "cell_type": "markdown",
   "metadata": {},
   "source": [
    "## 3.3 노드 캐싱\n",
    "\n",
    "LangGraph는 노드 실행 결과를 캐싱하여 성능을 향상시킬 수 있습니다.\n",
    "\n",
    "`CachePolicy` 를 사용하여 캐시 정책을 정의\n",
    "- `key_func`: 노드의 입력에서 캐시 키를 생성하는 함수입니다.\n",
    "- `ttl`: 캐시 항목의 유효 기간(초)입니다. 없음이면 항목이 만료되지 않습니다."
   ]
  },
  {
   "cell_type": "code",
   "execution_count": null,
   "metadata": {},
   "outputs": [
    {
     "name": "stdout",
     "output_type": "stream",
     "text": [
      "\n",
      "캐싱 테스트:\n",
      "첫 번째 실행\n",
      "  🔄 무거운 계산 실행 중... (x=10)\n",
      "  결과: 100, 소요 시간: 3.0초\n",
      "\n",
      "두 번째 실행\n",
      "  결과: 100, 소요 시간: 0.0초\n",
      "\n",
      "다른 입력으로 실행\n",
      "  🔄 무거운 계산 실행 중... (x=20)\n",
      "  결과: 400, 소요 시간: 3.0초\n"
     ]
    }
   ],
   "source": [
    "import time\n",
    "from langgraph.cache.memory import InMemoryCache\n",
    "from langgraph.types import CachePolicy\n",
    "\n",
    "\n",
    "class CacheState(TypedDict):\n",
    "    \"\"\"State for caching example\"\"\"\n",
    "\n",
    "    x: int\n",
    "    result: int\n",
    "\n",
    "\n",
    "builder = StateGraph(CacheState)\n",
    "\n",
    "\n",
    "def expensive_computation(state: CacheState) -> dict:\n",
    "    \"\"\"Expensive computation that we want to cache\"\"\"\n",
    "    print(f\"  🔄 무거운 계산 실행 중... (x={state['x']})\")\n",
    "    time.sleep(3)  # 무거운 작업 시뮬레이션\n",
    "    return {\"result\": state[\"x\"] * state[\"x\"]}\n",
    "\n",
    "\n",
    "# 캐시 정책과 함께 노드 추가\n",
    "builder.add_node(\n",
    "    \"expensive_node\",\n",
    "    expensive_computation,\n",
    "    cache_policy=CachePolicy(\n",
    "        ttl=None,  # 60초 동안 캐시 유지, None 이면 만료시간 없음\n",
    "        # key_func=lambda x: hash(x[\"x\"])  # 커스텀 캐시 키 생성 함수\n",
    "    ),\n",
    ")\n",
    "\n",
    "builder.add_edge(START, \"expensive_node\")\n",
    "builder.add_edge(\"expensive_node\", END)\n",
    "\n",
    "# 캐시와 함께 컴파일\n",
    "cached_graph = builder.compile(cache=InMemoryCache())\n",
    "\n",
    "print(\"\\n캐싱 테스트:\")\n",
    "print(\"첫 번째 실행\")\n",
    "start_time = time.time()\n",
    "result1 = cached_graph.invoke({\"x\": 10})\n",
    "print(f\"  결과: {result1['result']}, 소요 시간: {time.time() - start_time:.1f}초\")\n",
    "\n",
    "print(\"\\n두 번째 실행\")\n",
    "start_time = time.time()\n",
    "result2 = cached_graph.invoke({\"x\": 10})\n",
    "print(f\"  결과: {result2['result']}, 소요 시간: {time.time() - start_time:.1f}초\")\n",
    "\n",
    "print(\"\\n다른 입력으로 실행\")\n",
    "start_time = time.time()\n",
    "result3 = cached_graph.invoke({\"x\": 20})\n",
    "print(f\"  결과: {result3['result']}, 소요 시간: {time.time() - start_time:.1f}초\")"
   ]
  },
  {
   "cell_type": "code",
   "execution_count": 71,
   "metadata": {},
   "outputs": [
    {
     "name": "stdout",
     "output_type": "stream",
     "text": [
      "\n",
      "캐싱 테스트:\n",
      "CPU times: user 891 μs, sys: 365 μs, total: 1.26 ms\n",
      "Wall time: 941 μs\n",
      "  결과: 100\n"
     ]
    }
   ],
   "source": [
    "print(\"\\n캐싱 테스트:\")\n",
    "\n",
    "result1 = None\n",
    "%time result1 = cached_graph.invoke({\"x\": 10})\n",
    "print(f\"  결과: {result1['result']}\")"
   ]
  },
  {
   "cell_type": "markdown",
   "metadata": {},
   "source": [
    "---\n",
    "\n",
    "# Part 4: Edges (엣지) 심화 학습 🔀\n",
    "\n",
    "엣지는 그래프의 로직 라우팅과 실행 중단을 정의합니다. 노드 간 통신 방식을 결정하는 핵심 요소입니다.\n",
    "\n",
    "## 4.1 일반 엣지 (Normal Edges)"
   ]
  },
  {
   "cell_type": "code",
   "execution_count": 75,
   "metadata": {},
   "outputs": [],
   "source": [
    "class EdgeState(TypedDict):\n",
    "    \"\"\"State for edge examples\"\"\"\n",
    "\n",
    "    value: int\n",
    "    history: List[str]\n",
    "\n",
    "\n",
    "builder = StateGraph(EdgeState)\n",
    "\n",
    "\n",
    "# 노드 정의\n",
    "def node_a(state: EdgeState):\n",
    "    \"\"\"Node A\"\"\"\n",
    "    return {\"value\": state[\"value\"] + 1, \"history\": state[\"history\"] + [\"A\"]}\n",
    "\n",
    "\n",
    "def node_b(state: EdgeState):\n",
    "    \"\"\"Node B\"\"\"\n",
    "    return {\"value\": state[\"value\"] * 2, \"history\": state[\"history\"] + [\"B\"]}\n",
    "\n",
    "\n",
    "def node_c(state: EdgeState):\n",
    "    \"\"\"Node C\"\"\"\n",
    "    return {\"value\": state[\"value\"] - 3, \"history\": state[\"history\"] + [\"C\"]}\n",
    "\n",
    "\n",
    "# 노드 추가\n",
    "builder.add_node(\"a\", node_a)\n",
    "builder.add_node(\"b\", node_b)\n",
    "builder.add_node(\"c\", node_c)\n",
    "\n",
    "# 일반 엣지 - 항상 A → B → C 순서로 실행\n",
    "builder.add_edge(START, \"a\")\n",
    "builder.add_edge(\"a\", \"b\")\n",
    "builder.add_edge(\"b\", \"c\")\n",
    "builder.add_edge(\"c\", END)\n",
    "\n",
    "normal_edge_graph = builder.compile()"
   ]
  },
  {
   "cell_type": "code",
   "execution_count": 76,
   "metadata": {},
   "outputs": [
    {
     "data": {
      "image/png": "[encoded data removed]",
      "text/plain": [
       "<IPython.core.display.Image object>"
      ]
     },
     "metadata": {},
     "output_type": "display_data"
    }
   ],
   "source": [
    "# 그래프 시각화\n",
    "visualize_graph(normal_edge_graph)"
   ]
  },
  {
   "cell_type": "code",
   "execution_count": 77,
   "metadata": {},
   "outputs": [
    {
     "name": "stdout",
     "output_type": "stream",
     "text": [
      "일반 엣지 결과:\n",
      "  경로: A → B → C\n",
      "  최종값: 19\n"
     ]
    }
   ],
   "source": [
    "result = normal_edge_graph.invoke({\"value\": 10, \"history\": []})\n",
    "print(f\"일반 엣지 결과:\")\n",
    "print(f\"  경로: {' → '.join(result['history'])}\")\n",
    "print(f\"  최종값: {result['value']}\")"
   ]
  },
  {
   "cell_type": "markdown",
   "metadata": {},
   "source": [
    "## 4.2 조건부 엣지 (Conditional Edges)\n",
    "\n",
    "조건부 엣지는 상태에 따라 다른 노드로 라우팅합니다."
   ]
  },
  {
   "cell_type": "code",
   "execution_count": 185,
   "metadata": {},
   "outputs": [
    {
     "name": "stdout",
     "output_type": "stream",
     "text": [
      "조건부 라우팅 테스트:\n",
      "\n",
      "초기값 10:\n",
      "  경로: A → C\n",
      "  최종값: 8\n",
      "\n",
      "초기값 20:\n",
      "  경로: A → B\n",
      "  최종값: 42\n",
      "\n"
     ]
    }
   ],
   "source": [
    "from typing import Literal\n",
    "\n",
    "builder = StateGraph(EdgeState)\n",
    "\n",
    "# 노드들 재사용\n",
    "builder.add_node(\"a\", node_a)\n",
    "builder.add_node(\"b\", node_b)\n",
    "builder.add_node(\"c\", node_c)\n",
    "\n",
    "\n",
    "# 라우팅 함수 정의\n",
    "def routing_function(state: EdgeState) -> Literal[\"b\", \"c\"]:\n",
    "    \"\"\"Route based on state value\"\"\"\n",
    "    if state[\"value\"] > 15:\n",
    "        return \"b\"  # 큰 값은 B로\n",
    "    else:\n",
    "        return \"c\"  # 작은 값은 C로\n",
    "\n",
    "\n",
    "# 조건부 엣지 추가\n",
    "builder.add_edge(START, \"a\")\n",
    "builder.add_conditional_edges(\"a\", routing_function)  # 소스 노드  # 라우팅 함수\n",
    "builder.add_edge(\"b\", END)\n",
    "builder.add_edge(\"c\", END)\n",
    "\n",
    "conditional_graph = builder.compile()\n",
    "\n",
    "# 다른 값으로 테스트\n",
    "print(\"조건부 라우팅 테스트:\\n\")\n",
    "\n",
    "for initial_value in [10, 20]:\n",
    "    result = conditional_graph.invoke({\"value\": initial_value, \"history\": []})\n",
    "    print(f\"초기값 {initial_value}:\")\n",
    "    print(f\"  경로: {' → '.join(result['history'])}\")\n",
    "    print(f\"  최종값: {result['value']}\\n\")"
   ]
  },
  {
   "cell_type": "markdown",
   "metadata": {},
   "source": [
    "## 4.3 매핑을 사용한 조건부 엣지"
   ]
  },
  {
   "cell_type": "code",
   "execution_count": 79,
   "metadata": {},
   "outputs": [
    {
     "name": "stdout",
     "output_type": "stream",
     "text": [
      "매핑 기반 라우팅 테스트:\n",
      "\n",
      "초기값 30: start → low, 결과: 60\n",
      "초기값 75: start → medium, 결과: 375\n",
      "초기값 150: start → high, 결과: 1500\n"
     ]
    }
   ],
   "source": [
    "# 매핑을 사용한 더 복잡한 라우팅\n",
    "builder = StateGraph(EdgeState)\n",
    "\n",
    "builder.add_node(\n",
    "    \"start\", lambda s: {\"value\": s[\"value\"], \"history\": s[\"history\"] + [\"start\"]}\n",
    ")\n",
    "builder.add_node(\n",
    "    \"process_high\",\n",
    "    lambda s: {\"value\": s[\"value\"] * 10, \"history\": s[\"history\"] + [\"high\"]},\n",
    ")\n",
    "builder.add_node(\n",
    "    \"process_medium\",\n",
    "    lambda s: {\"value\": s[\"value\"] * 5, \"history\": s[\"history\"] + [\"medium\"]},\n",
    ")\n",
    "builder.add_node(\n",
    "    \"process_low\",\n",
    "    lambda s: {\"value\": s[\"value\"] * 2, \"history\": s[\"history\"] + [\"low\"]},\n",
    ")\n",
    "\n",
    "\n",
    "def categorize_value(state: EdgeState) -> str:\n",
    "    \"\"\"Categorize value into high/medium/low\"\"\"\n",
    "    if state[\"value\"] > 100:\n",
    "        return \"high\"\n",
    "    elif state[\"value\"] > 50:\n",
    "        return \"medium\"\n",
    "    else:\n",
    "        return \"low\"\n",
    "\n",
    "\n",
    "# 매핑을 사용한 조건부 엣지\n",
    "builder.add_edge(START, \"start\")\n",
    "builder.add_conditional_edges(\n",
    "    \"start\",\n",
    "    categorize_value,\n",
    "    {\"high\": \"process_high\", \"medium\": \"process_medium\", \"low\": \"process_low\"},\n",
    ")\n",
    "\n",
    "# 모든 처리 노드는 END로\n",
    "for node in [\"process_high\", \"process_medium\", \"process_low\"]:\n",
    "    builder.add_edge(node, END)\n",
    "\n",
    "mapped_graph = builder.compile()\n",
    "\n",
    "# 테스트\n",
    "print(\"매핑 기반 라우팅 테스트:\\n\")\n",
    "for value in [30, 75, 150]:\n",
    "    result = mapped_graph.invoke({\"value\": value, \"history\": []})\n",
    "    print(f\"초기값 {value}: {' → '.join(result['history'])}, 결과: {result['value']}\")"
   ]
  },
  {
   "cell_type": "markdown",
   "metadata": {},
   "source": [
    "## 4.4 병렬 실행\n",
    "\n",
    "한 노드가 여러 개의 나가는 엣지를 가지면, 대상 노드들이 병렬로 실행됩니다."
   ]
  },
  {
   "cell_type": "code",
   "execution_count": null,
   "metadata": {},
   "outputs": [],
   "source": [
    "from typing import List\n",
    "\n",
    "\n",
    "class ParallelState(TypedDict):\n",
    "    \"\"\"State for parallel execution\"\"\"\n",
    "\n",
    "    input: int\n",
    "    nodes: str\n",
    "    results: Annotated[List[AnyMessage], add_messages]\n",
    "\n",
    "\n",
    "builder = StateGraph(ParallelState)\n",
    "\n",
    "\n",
    "def splitter(state: ParallelState):\n",
    "    \"\"\"Split into multiple paths\"\"\"\n",
    "    return {\"results\": [\"분할 완료\"]}\n",
    "\n",
    "\n",
    "def parallel_a(state: ParallelState):\n",
    "    \"\"\"Parallel processing A\"\"\"\n",
    "    print(\"[Node A]\")\n",
    "    time.sleep(0.5)  # 작업 시뮬레이션\n",
    "    return {\"results\": [f\"A: {state['input'] * 2}\"]}\n",
    "\n",
    "\n",
    "def parallel_b(state: ParallelState):\n",
    "    \"\"\"Parallel processing B\"\"\"\n",
    "    print(\"[Node B]\")\n",
    "    time.sleep(1.0)  # 작업 시뮬레이션\n",
    "    return {\"results\": [f\"B: {state['input'] + 10}\"]}\n",
    "\n",
    "\n",
    "def parallel_c(state: ParallelState):\n",
    "    \"\"\"Parallel processing C\"\"\"\n",
    "    print(\"[Node C]\")\n",
    "    time.sleep(2.0)  # 작업 시뮬레이션\n",
    "    return {\"results\": [f\"C: {state['input'] ** 2}\"]}\n",
    "\n",
    "\n",
    "def merger(state: ParallelState):\n",
    "    \"\"\"Merge results\"\"\"\n",
    "    return {\"results\": [\"병합 완료\"]}\n",
    "\n",
    "\n",
    "# 노드 추가\n",
    "builder.add_node(\"splitter\", splitter)\n",
    "builder.add_node(\"parallel_a\", parallel_a)\n",
    "builder.add_node(\"parallel_b\", parallel_b)\n",
    "builder.add_node(\"parallel_c\", parallel_c)\n",
    "builder.add_node(\"merger\", merger)\n",
    "\n",
    "\n",
    "# 병렬 실행을 위한 조건부 엣지\n",
    "def parallel_routing(state: ParallelState) -> List[str]:\n",
    "    \"\"\"Route to multiple nodes for parallel execution\"\"\"\n",
    "\n",
    "    print(f\"[Parallel Routing] {state['nodes']}\")\n",
    "\n",
    "    if state[\"nodes\"].upper() == \"A\":\n",
    "        return [\"parallel_a\"]\n",
    "    elif state[\"nodes\"].upper() == \"B\":\n",
    "        return [\"parallel_b\"]\n",
    "    elif state[\"nodes\"].upper() == \"C\":\n",
    "        return [\"parallel_c\"]\n",
    "    elif state[\"nodes\"].upper() == \"AB\" or state[\"nodes\"].upper() == \"BA\":\n",
    "        return [\"parallel_a\", \"parallel_b\"]\n",
    "    elif state[\"nodes\"].upper() == \"AC\" or state[\"nodes\"].upper() == \"CA\":\n",
    "        return [\"parallel_a\", \"parallel_c\"]\n",
    "    elif state[\"nodes\"].upper() == \"BC\" or state[\"nodes\"].upper() == \"CB\":\n",
    "        return [\"parallel_b\", \"parallel_c\"]\n",
    "    elif state[\"nodes\"].upper() == \"ABC\":\n",
    "        return [\"parallel_a\", \"parallel_b\", \"parallel_c\"]\n",
    "\n",
    "\n",
    "builder.add_edge(START, \"splitter\")\n",
    "builder.add_conditional_edges(\"splitter\", parallel_routing)\n",
    "\n",
    "# 모든 병렬 노드는 merger로\n",
    "builder.add_edge(\"parallel_a\", \"merger\")\n",
    "builder.add_edge(\"parallel_b\", \"merger\")\n",
    "builder.add_edge(\"parallel_c\", \"merger\")\n",
    "builder.add_edge(\"merger\", END)\n",
    "\n",
    "parallel_graph = builder.compile()"
   ]
  },
  {
   "cell_type": "code",
   "execution_count": 175,
   "metadata": {},
   "outputs": [
    {
     "data": {
      "image/png": "[encoded data removed]",
      "text/plain": [
       "<IPython.core.display.Image object>"
      ]
     },
     "metadata": {},
     "output_type": "display_data"
    }
   ],
   "source": [
    "# 그래프 시각화\n",
    "visualize_graph(parallel_graph, xray=True)"
   ]
  },
  {
   "cell_type": "code",
   "execution_count": null,
   "metadata": {},
   "outputs": [
    {
     "name": "stdout",
     "output_type": "stream",
     "text": [
      "[Parallel Routing] ca\n",
      "\n",
      "==================================================\n",
      "🔄 Node: \u001b[1;36msplitter\u001b[0m 🔄\n",
      "- - - - - - - - - - - - - - - - - - - - - - - - - \n",
      "분할 완료\n",
      "==================================================\n",
      "[Node A]\n",
      "[Node C]\n",
      "\n",
      "==================================================\n",
      "🔄 Node: \u001b[1;36mparallel_a\u001b[0m 🔄\n",
      "- - - - - - - - - - - - - - - - - - - - - - - - - \n",
      "A: 2\n",
      "==================================================\n",
      "\n",
      "==================================================\n",
      "🔄 Node: \u001b[1;36mparallel_c\u001b[0m 🔄\n",
      "- - - - - - - - - - - - - - - - - - - - - - - - - \n",
      "C: 1\n",
      "==================================================\n",
      "\n",
      "==================================================\n",
      "🔄 Node: \u001b[1;36mmerger\u001b[0m 🔄\n",
      "- - - - - - - - - - - - - - - - - - - - - - - - - \n",
      "병합 완료\n",
      "==================================================\n",
      "\n",
      "실행 시간: 2.0초 (병렬 실행으로 시간 단축)\n"
     ]
    }
   ],
   "source": [
    "from langchain_teddynote.messages import invoke_graph\n",
    "\n",
    "start_time = time.time()\n",
    "invoke_graph(\n",
    "    parallel_graph, inputs={\"input\": 1, \"nodes\": \"ca\", \"results\": []}, config=None\n",
    ")\n",
    "elapsed = time.time() - start_time\n",
    "\n",
    "print(f\"\\n실행 시간: {elapsed:.1f}초 (병렬 실행으로 시간 단축)\")"
   ]
  },
  {
   "cell_type": "markdown",
   "metadata": {},
   "source": [
    "---\n",
    "\n",
    "# Part 5: Send - 동적 라우팅 📤\n",
    "\n",
    "`Send`는 실행 시점에 동적으로 엣지를 생성하고, 각각 다른 상태로 여러 노드를 호출할 수 있게 합니다. Map-Reduce 패턴에 특히 유용합니다.\n",
    "\n",
    "Send 클래스는 StateGraph의 조건부 엣지 내에서 다음 단계에서 **사용자 정의 상태를 가진 노드를 동적으로 호출** 하는 데 사용됩니다.\n",
    "\n",
    "중요한 점은 전송된 상태가 핵심 그래프의 상태와 다를 수 있으므로 유연하고 동적인 워크플로우 관리가 가능하다는 점입니다.\n",
    "\n",
    "예를 들어 그래프에서 동일한 노드를 다른 상태로 병렬로 여러 번 호출한 후 그 결과를 다시 기본 그래프의 상태로 집계하는 ‘맵 축소’ 워크플로우를 들 수 있습니다."
   ]
  },
  {
   "cell_type": "code",
   "execution_count": null,
   "metadata": {},
   "outputs": [],
   "source": [
    "from typing import TypedDict, List, Annotated, Literal\n",
    "from langgraph.graph import StateGraph, START, END\n",
    "from langgraph.graph.message import add_messages, AnyMessage\n",
    "from langgraph.types import Send\n",
    "from langchain_openai import ChatOpenAI\n",
    "from langchain_core.messages import HumanMessage, SystemMessage\n",
    "import random\n",
    "\n",
    "# ChatGPT 모델 초기화\n",
    "llm = ChatOpenAI(model=\"gpt-4o-mini\", temperature=0.7)\n",
    "\n",
    "\n",
    "# State 정의\n",
    "class JokeGeneratorState(TypedDict):\n",
    "    \"\"\"농담 생성 상태\"\"\"\n",
    "\n",
    "    jokes: Annotated[List[AnyMessage], add_messages]\n",
    "    current_subject: str\n",
    "    attempt_count: int\n",
    "\n",
    "\n",
    "class SingleJokeState(TypedDict):\n",
    "    \"\"\"개별 농담 생성 상태\"\"\"\n",
    "\n",
    "    subject: str\n",
    "    joke_number: int\n",
    "\n",
    "\n",
    "# StateGraph 생성\n",
    "builder = StateGraph(JokeGeneratorState)\n",
    "\n",
    "\n",
    "def initialize_state(state: JokeGeneratorState) -> dict:\n",
    "    \"\"\"초기 상태 설정\"\"\"\n",
    "    subjects = [\"프로그래머\", \"AI\", \"파이썬\", \"자바스크립트\", \"데이터베이스\"]\n",
    "    selected_subject = random.choice(subjects)\n",
    "\n",
    "    print(f\"🎯 선택된 주제: {selected_subject}\")\n",
    "    print(\"=\" * 50)\n",
    "\n",
    "    return {\"current_subject\": selected_subject, \"jokes\": [], \"attempt_count\": 0}\n",
    "\n",
    "\n",
    "def generate_single_joke(state: SingleJokeState) -> dict:\n",
    "    \"\"\"LLM을 사용하여 개별 농담 생성\"\"\"\n",
    "    messages = [\n",
    "        SystemMessage(\n",
    "            content=\"당신은 재미있는 IT 농담을 만드는 코미디언입니다. 짧고 재치있는 농담을 한국어로 만들어주세요.\"\n",
    "        ),\n",
    "        HumanMessage(\n",
    "            content=f\"{state['subject']}에 대한 재미있는 농담을 하나만 만들어주세요. (농담 #{state['joke_number']})\"\n",
    "        ),\n",
    "    ]\n",
    "\n",
    "    response = llm.invoke(messages)\n",
    "    joke = response.content.strip()\n",
    "\n",
    "    print(f\"🎭 농담 #{state['joke_number']}: {joke}\")\n",
    "\n",
    "    return {\"jokes\": [joke]}\n",
    "\n",
    "\n",
    "def update_attempt_count(state: JokeGeneratorState) -> dict:\n",
    "    \"\"\"시도 횟수 업데이트\"\"\"\n",
    "    attempt_count = state.get(\"attempt_count\", 0) + 1\n",
    "    current_joke_count = len(state.get(\"jokes\", []))\n",
    "\n",
    "    print(f\"\\n📊 현재 농담 개수: {current_joke_count}/3\")\n",
    "    print(f\"🔄 시도 횟수: {attempt_count}\")\n",
    "\n",
    "    return {\"attempt_count\": attempt_count}\n",
    "\n",
    "\n",
    "def route_based_on_count(state: JokeGeneratorState) -> List[Send]:\n",
    "    \"\"\"농담 개수에 따라 Send로 라우팅\"\"\"\n",
    "    current_joke_count = len(state.get(\"jokes\", []))\n",
    "\n",
    "    if current_joke_count < 3:\n",
    "        # 3개 미만이면 부족한 만큼 generate_joke로 Send\n",
    "        sends = []\n",
    "        for i in range(current_joke_count + 1, 4):  # 3개까지 생성\n",
    "            sends.append(\n",
    "                Send(\n",
    "                    \"generate_joke\",\n",
    "                    {\"subject\": state[\"current_subject\"], \"joke_number\": i},\n",
    "                )\n",
    "            )\n",
    "        print(f\"➡️ {len(sends)}개의 농담을 추가로 생성합니다...\")\n",
    "        return sends\n",
    "    else:\n",
    "        # 3개 이상이면 finalize로\n",
    "        print(\"✅ 농담 3개 생성 완료! 최종 정리 단계로 이동합니다.\")\n",
    "        return [Send(\"finalize\", state)]\n",
    "\n",
    "\n",
    "def finalize_jokes(state: JokeGeneratorState) -> dict:\n",
    "    \"\"\"최종 농담 정리\"\"\"\n",
    "    print(\"\\n\" + \"=\" * 50)\n",
    "    print(f\"🎉 최종 농담 컬렉션 ({state['current_subject']} 주제)\")\n",
    "    print(\"=\" * 50)\n",
    "\n",
    "    jokes = state.get(\"jokes\", [])\n",
    "    for i, joke in enumerate(jokes, 1):\n",
    "        print(f\"\\n농담 {i}: {joke}\")\n",
    "\n",
    "    summary = f\"\\n\\n📝 총 {len(jokes)}개의 농담이 생성되었습니다. (시도 횟수: {state.get('attempt_count', 1)}회)\"\n",
    "\n",
    "    return {\"jokes\": jokes + [summary]}\n",
    "\n",
    "\n",
    "# 노드 추가\n",
    "builder.add_node(\"initialize\", initialize_state)\n",
    "builder.add_node(\"generate_joke\", generate_single_joke)\n",
    "builder.add_node(\"update_count\", update_attempt_count)\n",
    "builder.add_node(\"finalize\", finalize_jokes)\n",
    "\n",
    "# 엣지 추가\n",
    "builder.add_edge(START, \"initialize\")\n",
    "builder.add_edge(\"initialize\", \"update_count\")\n",
    "\n",
    "# update_count 노드 이후 conditional_edges로 Send 처리\n",
    "builder.add_conditional_edges(\n",
    "    \"update_count\",\n",
    "    route_based_on_count,  # Send 리스트를 반환하는 라우팅 함수\n",
    "    [\"generate_joke\", \"finalize\"],  # 가능한 목적지 노드들\n",
    ")\n",
    "\n",
    "# generate_joke 완료 후 다시 update_count로\n",
    "builder.add_edge(\"generate_joke\", \"update_count\")\n",
    "\n",
    "# finalize 후 종료\n",
    "builder.add_edge(\"finalize\", END)\n",
    "\n",
    "# 그래프 컴파일\n",
    "joke_generator = builder.compile()"
   ]
  },
  {
   "cell_type": "code",
   "execution_count": 220,
   "metadata": {},
   "outputs": [
    {
     "name": "stdout",
     "output_type": "stream",
     "text": [
      "🎯 선택된 주제: 파이썬\n",
      "==================================================\n",
      "\n",
      "📊 현재 농담 개수: 0/3\n",
      "🔄 시도 횟수: 1\n",
      "➡️ 3개의 농담을 추가로 생성합니다...\n",
      "\n",
      "==================================================\n",
      "🔄 Node: \u001b[1;36mgenerate_joke\u001b[0m 🔄\n",
      "- - - - - - - - - - - - - - - - - - - - - - - - - \n",
      "왜 파이썬 프로그래머는 항상 행복할까요? \n",
      "\n",
      "코드가 \"들여쓰기\"만 하면 되니까요!🎭 농담 #2: 왜 파이썬 프로그래머는 항상 행복할까요? \n",
      "\n",
      "코드가 \"들여쓰기\"만 하면 되니까요!\n",
      "파이썬이 좋아하는 운동은 뭐게요? \n",
      "\n",
      "코드 스프린트! 🐍🏃‍♂️🎭 농담 #3: 파이썬이 좋아하는 운동은 뭐게요? \n",
      "\n",
      "코드 스프린트! 🐍🏃‍♂️\n",
      "왜 파이썬 프로그래머는 항상 차갑게 지내나요?  \n",
      "왜냐하면 그들은 항상 \"import antigravity\"를 하고 있으니까요! 🐍✨🎭 농담 #1: 왜 파이썬 프로그래머는 항상 차갑게 지내나요?  \n",
      "왜냐하면 그들은 항상 \"import antigravity\"를 하고 있으니까요! 🐍✨\n",
      "\n",
      "📊 현재 농담 개수: 3/3\n",
      "🔄 시도 횟수: 2\n",
      "✅ 농담 3개 생성 완료! 최종 정리 단계로 이동합니다.\n",
      "\n",
      "==================================================\n",
      "🎉 최종 농담 컬렉션 (파이썬 주제)\n",
      "==================================================\n",
      "\n",
      "농담 1: content='왜 파이썬 프로그래머는 항상 차갑게 지내나요?  \\n왜냐하면 그들은 항상 \"import antigravity\"를 하고 있으니까요! 🐍✨' additional_kwargs={} response_metadata={} id='332610c3-8c06-436e-bed5-ffe6c57f653e'\n",
      "\n",
      "농담 2: content='왜 파이썬 프로그래머는 항상 행복할까요? \\n\\n코드가 \"들여쓰기\"만 하면 되니까요!' additional_kwargs={} response_metadata={} id='48296063-487b-49cc-bd6c-9f30d324f8aa'\n",
      "\n",
      "농담 3: content='파이썬이 좋아하는 운동은 뭐게요? \\n\\n코드 스프린트! 🐍🏃\\u200d♂️' additional_kwargs={} response_metadata={} id='889b4d34-814c-4c40-b240-e438cb6aa6ee'\n"
     ]
    }
   ],
   "source": [
    "from langchain_teddynote.messages import stream_graph\n",
    "\n",
    "stream_graph(\n",
    "    joke_generator,\n",
    "    inputs={\"current_subject\": \"AI\", \"jokes\": [], \"attempt_count\": 0},\n",
    "    config=None,\n",
    ")"
   ]
  },
  {
   "cell_type": "markdown",
   "metadata": {},
   "source": [
    "---\n",
    "\n",
    "# Part 6: Command - 제어 흐름과 상태 업데이트 결합 🎮\n",
    "\n",
    "`Command`를 사용하면 노드 내에서 상태 업데이트와 라우팅을 동시에 수행할 수 있습니다."
   ]
  },
  {
   "cell_type": "markdown",
   "metadata": {},
   "source": [
    "제어 흐름(엣지)과 상태 업데이트(노드)를 결합하는 것이 유용할 수 있습니다. \n",
    "\n",
    "예를 들어, 동일한 노드에서 상태 업데이트와 다음 노드로 이동할 노드 결정을 모두 수행하고자 할 수 있습니다. \n",
    "\n",
    "LangGraph는 노드 함수에서 Command 객체를 반환하여 이를 수행하는 방법을 제공합니다."
   ]
  },
  {
   "cell_type": "code",
   "execution_count": null,
   "metadata": {},
   "outputs": [],
   "source": [
    "from langgraph.types import Command\n",
    "from typing import Literal\n",
    "from typing_extensions import TypedDict\n",
    "\n",
    "\n",
    "class CommandState(TypedDict):\n",
    "    \"\"\"State for Command examples\"\"\"\n",
    "\n",
    "    value: int\n",
    "\n",
    "\n",
    "def my_node(state: CommandState) -> Command[Literal[\"my_other_node\"]]:\n",
    "    \"\"\"Node that makes decisions and updates state\"\"\"\n",
    "    return Command(\n",
    "        # state update\n",
    "        update={\"foo\": \"bar\"},\n",
    "        # control flow\n",
    "        goto=\"my_other_node\",\n",
    "    )"
   ]
  },
  {
   "cell_type": "markdown",
   "metadata": {},
   "source": [
    "Command를 사용하면 동적 제어 흐름 동작(조건부 에지와 동일)을 구현할 수도 있습니다."
   ]
  },
  {
   "cell_type": "code",
   "execution_count": 238,
   "metadata": {},
   "outputs": [],
   "source": [
    "def my_node(state: CommandState) -> Command[Literal[\"my_other_node\"]]:\n",
    "    if state[\"foo\"] == \"bar\":\n",
    "        return Command(update={\"foo\": \"baz\"}, goto=\"my_other_node\")"
   ]
  },
  {
   "cell_type": "markdown",
   "metadata": {},
   "source": [
    "**상위 그래프의 노드로 이동하기**\n",
    "\n",
    "하위 그래프를 사용하는 경우 하위 그래프 내의 노드에서 다른 하위 그래프(즉, 상위 그래프의 다른 노드)로 이동하고 싶을 수 있습니다. 이렇게 하려면 Command에서 graph=Command.PARENT를 지정하면 됩니다."
   ]
  },
  {
   "cell_type": "code",
   "execution_count": null,
   "metadata": {},
   "outputs": [],
   "source": [
    "def my_node(state: CommandState) -> Command[Literal[\"other_subgraph\"]]:\n",
    "    return Command(\n",
    "        update={\"foo\": \"bar\"},\n",
    "        goto=\"other_subgraph\",  # where `other_subgraph` is a node in the parent graph\n",
    "        graph=Command.PARENT,\n",
    "    )"
   ]
  },
  {
   "cell_type": "markdown",
   "metadata": {},
   "source": [
    "`Command` 를 사용하여 `update` 와 `goto` 를 동시에 사용하는 예제"
   ]
  },
  {
   "cell_type": "code",
   "execution_count": 239,
   "metadata": {},
   "outputs": [],
   "source": [
    "from langgraph.types import Command\n",
    "\n",
    "\n",
    "class CommandState(TypedDict):\n",
    "    \"\"\"State for Command examples\"\"\"\n",
    "\n",
    "    value: int\n",
    "    message: str\n",
    "    path: List[str]\n",
    "\n",
    "\n",
    "builder = StateGraph(CommandState)\n",
    "\n",
    "\n",
    "# Command를 반환하는 노드\n",
    "def decision_node(\n",
    "    state: CommandState,\n",
    ") -> Command[Literal[\"success\", \"failure\", \"retry\"]]:\n",
    "    \"\"\"Node that makes decisions and updates state\"\"\"\n",
    "    value = state[\"value\"]\n",
    "\n",
    "    if value > 100:\n",
    "        return Command(\n",
    "            # 상태 업데이트\n",
    "            update={\n",
    "                \"message\": \"값이 너무 큽니다\",\n",
    "                \"path\": state[\"path\"] + [\"decision\"],\n",
    "            },\n",
    "            # 라우팅\n",
    "            goto=\"failure\",\n",
    "        )\n",
    "    elif value > 50:\n",
    "        return Command(\n",
    "            update={\n",
    "                \"message\": \"처리 성공\",\n",
    "                \"value\": value * 2,\n",
    "                \"path\": state[\"path\"] + [\"decision\"],\n",
    "            },\n",
    "            goto=\"success\",\n",
    "        )\n",
    "    else:\n",
    "        return Command(\n",
    "            update={\n",
    "                \"message\": \"재시도 필요\",\n",
    "                \"value\": value + 30,\n",
    "                \"path\": state[\"path\"] + [\"decision\"],\n",
    "            },\n",
    "            goto=\"retry\",\n",
    "        )\n",
    "\n",
    "\n",
    "def success_node(state: CommandState):\n",
    "    \"\"\"Success handler\"\"\"\n",
    "    return {\"message\": f\"✅ {state['message']}\", \"path\": state[\"path\"] + [\"success\"]}\n",
    "\n",
    "\n",
    "def failure_node(state: CommandState):\n",
    "    \"\"\"Failure handler\"\"\"\n",
    "    return {\"message\": f\"❌ {state['message']}\", \"path\": state[\"path\"] + [\"failure\"]}\n",
    "\n",
    "\n",
    "def retry_node(state: CommandState) -> Command[Literal[\"decision\"]]:\n",
    "    \"\"\"Retry handler - goes back to decision\"\"\"\n",
    "    return Command(\n",
    "        update={\"message\": \"재시도 중...\", \"path\": state[\"path\"] + [\"retry\"]},\n",
    "        goto=\"decision\",  # 다시 결정 노드로\n",
    "    )\n",
    "\n",
    "\n",
    "# 노드 추가\n",
    "builder.add_node(\"decision\", decision_node)\n",
    "builder.add_node(\"success\", success_node)\n",
    "builder.add_node(\"failure\", failure_node)\n",
    "builder.add_node(\"retry\", retry_node)\n",
    "\n",
    "# 엣지 추가\n",
    "builder.add_edge(START, \"decision\")\n",
    "builder.add_edge(\"success\", END)\n",
    "builder.add_edge(\"failure\", END)\n",
    "# retry는 Command로 decision으로 돌아감\n",
    "\n",
    "command_graph = builder.compile()"
   ]
  },
  {
   "cell_type": "code",
   "execution_count": 240,
   "metadata": {},
   "outputs": [
    {
     "data": {
      "image/png": "[encoded data removed]",
      "text/plain": [
       "<IPython.core.display.Image object>"
      ]
     },
     "metadata": {},
     "output_type": "display_data"
    }
   ],
   "source": [
    "visualize_graph(command_graph)"
   ]
  },
  {
   "cell_type": "code",
   "execution_count": 241,
   "metadata": {},
   "outputs": [
    {
     "name": "stdout",
     "output_type": "stream",
     "text": [
      "초기값 30:\n",
      "  경로: decision → retry → decision → success\n",
      "  메시지: ✅ 처리 성공\n",
      "  최종값: 120\n",
      "\n",
      "초기값 75:\n",
      "  경로: decision → success\n",
      "  메시지: ✅ 처리 성공\n",
      "  최종값: 150\n",
      "\n",
      "초기값 150:\n",
      "  경로: decision → failure\n",
      "  메시지: ❌ 값이 너무 큽니다\n",
      "  최종값: 150\n",
      "\n"
     ]
    }
   ],
   "source": [
    "# 그래프 실행\n",
    "test_values = [30, 75, 150]\n",
    "for val in test_values:\n",
    "    result = command_graph.invoke({\"value\": val, \"message\": \"\", \"path\": []})\n",
    "    print(f\"초기값 {val}:\")\n",
    "    print(f\"  경로: {' → '.join(result['path'])}\")\n",
    "    print(f\"  메시지: {result['message']}\")\n",
    "    print(f\"  최종값: {result['value']}\\n\")"
   ]
  },
  {
   "cell_type": "markdown",
   "metadata": {},
   "source": [
    "## 6.1 Command vs 조건부 엣지\n",
    "\n",
    "### 언제 Command를 사용할까?\n",
    "- 상태 업데이트와 라우팅을 **동시에** 수행해야 할 때\n",
    "- 멀티 에이전트 핸드오프에서 정보 전달이 필요할 때\n",
    "\n",
    "### 언제 조건부 엣지를 사용할까?\n",
    "- 상태 업데이트 없이 **라우팅만** 필요할 때\n",
    "- 단순한 분기 로직"
   ]
  },
  {
   "cell_type": "code",
   "execution_count": null,
   "metadata": {},
   "outputs": [],
   "source": [
    "# 멀티 에이전트 핸드오프 예제\n",
    "class AgentState(TypedDict):\n",
    "    \"\"\"State for multi-agent system\"\"\"\n",
    "\n",
    "    task: str\n",
    "    current_agent: str\n",
    "    result: str\n",
    "    handoff_info: dict\n",
    "\n",
    "\n",
    "builder = StateGraph(AgentState)\n",
    "\n",
    "\n",
    "def analyst_agent(state: AgentState) -> Command[Literal[\"engineer\", \"designer\"]]:\n",
    "    \"\"\"Analyst agent that delegates tasks\"\"\"\n",
    "    task = state[\"task\"]\n",
    "\n",
    "    if \"코드\" in task or \"구현\" in task:\n",
    "        return Command(\n",
    "            update={\n",
    "                \"current_agent\": \"engineer\",\n",
    "                \"handoff_info\": {\n",
    "                    \"priority\": \"high\",\n",
    "                    \"language\": \"Python\",\n",
    "                    \"analyzed_by\": \"analyst\",\n",
    "                },\n",
    "            },\n",
    "            goto=\"engineer\",\n",
    "        )\n",
    "    else:\n",
    "        return Command(\n",
    "            update={\n",
    "                \"current_agent\": \"designer\",\n",
    "                \"handoff_info\": {\"style\": \"modern\", \"analyzed_by\": \"analyst\"},\n",
    "            },\n",
    "            goto=\"designer\",\n",
    "        )\n",
    "\n",
    "\n",
    "def engineer_agent(state: AgentState):\n",
    "    \"\"\"Engineer agent\"\"\"\n",
    "    info = state[\"handoff_info\"]\n",
    "    return {\"result\": f\"엔지니어가 {info.get('language', 'unknown')}로 구현 완료\"}\n",
    "\n",
    "\n",
    "def designer_agent(state: AgentState):\n",
    "    \"\"\"Designer agent\"\"\"\n",
    "    info = state[\"handoff_info\"]\n",
    "    return {\"result\": f\"디자이너가 {info.get('style', 'unknown')} 스타일로 디자인 완료\"}\n",
    "\n",
    "\n",
    "# 노드 추가\n",
    "builder.add_node(\"analyst\", analyst_agent)\n",
    "builder.add_node(\"engineer\", engineer_agent)\n",
    "builder.add_node(\"designer\", designer_agent)\n",
    "\n",
    "# 엣지 추가\n",
    "builder.add_edge(START, \"analyst\")\n",
    "builder.add_edge(\"engineer\", END)\n",
    "builder.add_edge(\"designer\", END)\n",
    "\n",
    "agent_graph = builder.compile()"
   ]
  },
  {
   "cell_type": "code",
   "execution_count": 243,
   "metadata": {},
   "outputs": [
    {
     "data": {
      "image/png": "[encoded data removed]",
      "text/plain": [
       "<IPython.core.display.Image object>"
      ]
     },
     "metadata": {},
     "output_type": "display_data"
    }
   ],
   "source": [
    "visualize_graph(agent_graph)"
   ]
  },
  {
   "cell_type": "code",
   "execution_count": 245,
   "metadata": {},
   "outputs": [
    {
     "name": "stdout",
     "output_type": "stream",
     "text": [
      "멀티 에이전트 핸드오프 테스트:\n",
      "\n",
      "작업: 로그인 기능 구현\n",
      "  담당 에이전트: engineer\n",
      "  전달 정보: {'priority': 'high', 'language': 'Python', 'analyzed_by': 'analyst'}\n",
      "  결과: 엔지니어가 Python로 구현 완료\n",
      "\n",
      "작업: 홈페이지 디자인\n",
      "  담당 에이전트: designer\n",
      "  전달 정보: {'style': 'modern', 'analyzed_by': 'analyst'}\n",
      "  결과: 디자이너가 modern 스타일로 디자인 완료\n",
      "\n"
     ]
    }
   ],
   "source": [
    "# 테스트\n",
    "print(\"멀티 에이전트 핸드오프 테스트:\\n\")\n",
    "\n",
    "tasks = [\"로그인 기능 구현\", \"홈페이지 디자인\"]\n",
    "for task in tasks:\n",
    "    result = agent_graph.invoke(\n",
    "        {\"task\": task, \"current_agent\": \"analyst\", \"result\": \"\", \"handoff_info\": {}}\n",
    "    )\n",
    "    print(f\"작업: {task}\")\n",
    "    print(f\"  담당 에이전트: {result['current_agent']}\")\n",
    "    print(f\"  전달 정보: {result['handoff_info']}\")\n",
    "    print(f\"  결과: {result['result']}\\n\")"
   ]
  },
  {
   "cell_type": "markdown",
   "metadata": {},
   "source": [
    "---\n",
    "\n",
    "# Part 7: 고급 기능 🚀\n",
    "\n",
    "## 재귀 제한 (Recursion Limit)\n",
    "\n",
    "무한 루프를 방지하기 위해 그래프 실행의 최대 super-step 수를 제한할 수 있습니다."
   ]
  },
  {
   "cell_type": "code",
   "execution_count": 252,
   "metadata": {},
   "outputs": [
    {
     "name": "stdout",
     "output_type": "stream",
     "text": [
      "재귀 제한 테스트:\n",
      "\n",
      "new_counter: 1\n",
      "new_counter: 2\n",
      "new_counter: 3\n",
      "new_counter: 4\n",
      "new_counter: 5\n",
      "❌ 에러 발생: Recursion limit of 5 reached without hitting a stop condition. You can increase the limit by setting the `recursion_limit` config key.\n",
      "For troubleshooting, visit: https://python.langchain.com/docs/troubleshooting/errors/GRAPH_RECURSION_LIMIT\n"
     ]
    }
   ],
   "source": [
    "class LoopState(TypedDict):\n",
    "    \"\"\"State for loop example\"\"\"\n",
    "\n",
    "    counter: int\n",
    "    history: List[int]\n",
    "\n",
    "\n",
    "builder = StateGraph(LoopState)\n",
    "\n",
    "\n",
    "def increment_node(state: LoopState) -> Command[Literal[\"increment\", \"end\"]]:\n",
    "    \"\"\"Node that increments counter\"\"\"\n",
    "    new_counter = state[\"counter\"] + 1\n",
    "\n",
    "    print(f\"new_counter: {new_counter}\")\n",
    "\n",
    "    if new_counter < 10:  # 의도적으로 높은 목표 설정\n",
    "        return Command(\n",
    "            update={\n",
    "                \"counter\": new_counter,\n",
    "                \"history\": state[\"history\"] + [new_counter],\n",
    "            },\n",
    "            goto=\"increment\",  # 자기 자신으로 루프\n",
    "        )\n",
    "    else:\n",
    "        return Command(update={\"counter\": new_counter}, goto=\"end\")\n",
    "\n",
    "\n",
    "def end_node(state: LoopState):\n",
    "    \"\"\"End node\"\"\"\n",
    "    return {\"history\": state[\"history\"] + [999]}\n",
    "\n",
    "\n",
    "builder.add_node(\"increment\", increment_node)\n",
    "builder.add_node(\"end\", end_node)\n",
    "builder.add_edge(START, \"increment\")\n",
    "builder.add_edge(\"end\", END)\n",
    "\n",
    "loop_graph = builder.compile()\n",
    "\n",
    "# 재귀 제한 설정\n",
    "print(\"재귀 제한 테스트:\\n\")\n",
    "\n",
    "try:\n",
    "    # 재귀 제한 5로 실행\n",
    "    result = loop_graph.invoke(\n",
    "        {\"counter\": 0, \"history\": []}, config={\"recursion_limit\": 5}  # 최대 5번만 실행\n",
    "    )\n",
    "except Exception as e:\n",
    "    print(f\"❌ 에러 발생: {e}\")"
   ]
  },
  {
   "cell_type": "code",
   "execution_count": 254,
   "metadata": {},
   "outputs": [
    {
     "name": "stdout",
     "output_type": "stream",
     "text": [
      "new_counter: 1\n",
      "new_counter: 2\n",
      "new_counter: 3\n",
      "new_counter: 4\n",
      "new_counter: 5\n",
      "new_counter: 6\n",
      "new_counter: 7\n",
      "new_counter: 8\n",
      "new_counter: 9\n",
      "new_counter: 10\n",
      "\n",
      "✅ 성공: counter=10, 실행 횟수=10\n"
     ]
    }
   ],
   "source": [
    "# 충분한 재귀 제한으로 실행\n",
    "result = loop_graph.invoke(\n",
    "    {\"counter\": 0, \"history\": []}, config={\"recursion_limit\": 100}\n",
    ")\n",
    "print(f\"\\n✅ 성공: counter={result['counter']}, 실행 횟수={len(result['history'])}\")"
   ]
  }
 ],
 "metadata": {
  "kernelspec": {
   "display_name": ".venv",
   "language": "python",
   "name": "python3"
  },
  "language_info": {
   "codemirror_mode": {
    "name": "ipython",
    "version": 3
   },
   "file_extension": ".py",
   "mimetype": "text/x-python",
   "name": "python",
   "nbconvert_exporter": "python",
   "pygments_lexer": "ipython3",
   "version": "3.12.8"
  }
 },
 "nbformat": 4,
 "nbformat_minor": 4
}

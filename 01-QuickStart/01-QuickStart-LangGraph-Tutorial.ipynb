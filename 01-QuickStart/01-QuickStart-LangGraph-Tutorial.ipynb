{
 "cells": [
  {
   "cell_type": "markdown",
   "metadata": {},
   "source": [
    "# 🚀 LangGraph QuickStart 튜토리얼\n",
    "\n",
    "## 📚 개요\n",
    "\n",
    "이 튜토리얼은 LangGraph의 핵심 개념과 기능을 단계별로 학습하는 종합 가이드입니다. 기본 챗봇 구축부터 시작하여 도구 통합, 메모리 관리, Human-in-the-Loop, 상태 커스터마이징, 타임 트래블까지 LangGraph의 강력한 기능들을 체계적으로 익힐 수 있습니다.\n",
    "\n",
    "## 🎯 학습 목표\n",
    "\n",
    "1. **기본 챗봇 구축**: StateGraph를 사용한 기본적인 대화형 AI 구현\n",
    "2. **도구 통합**: 외부 API와 도구를 활용한 챗봇 기능 확장\n",
    "3. **메모리 관리**: 체크포인팅을 통한 대화 상태 유지\n",
    "4. **Human-in-the-Loop**: 인간 개입이 필요한 워크플로우 구현\n",
    "5. **상태 커스터마이징**: 복잡한 비즈니스 로직을 위한 상태 확장\n",
    "6. **타임 트래블**: 이전 상태로 되돌아가기 및 대체 경로 탐색\n",
    "\n",
    "## 🔑 주요 개념\n",
    "\n",
    "- **StateGraph**: 상태 기계로 챗봇 구조를 정의\n",
    "- **Node**: 작업 단위 (함수)\n",
    "- **Edge**: 노드 간 전환\n",
    "- **State**: 그래프 전체에서 공유되는 데이터\n",
    "- **Checkpointing**: 상태 저장 및 복원\n",
    "- **Tool**: 외부 기능 통합\n",
    "- **Human-in-the-Loop**: 인간 검토/승인 프로세스\n",
    "\n",
    "## 📋 사전 준비사항\n",
    "\n",
    "- Python 3.11 이상\n",
    "- OpenAI API 키\n",
    "- Tavily Search API 키 (Part 2에서 필요)\n",
    "- LangSmith API 키 (선택사항, 추적용)"
   ]
  },
  {
   "cell_type": "markdown",
   "metadata": {},
   "source": [
    "## 환경 설정\n",
    "\n",
    "먼저 필요한 패키지를 설치하고 환경을 설정합니다."
   ]
  },
  {
   "cell_type": "code",
   "execution_count": null,
   "metadata": {},
   "outputs": [
    {
     "data": {
      "text/plain": [
       "True"
      ]
     },
     "execution_count": 1,
     "metadata": {},
     "output_type": "execute_result"
    }
   ],
   "source": [
    "# API KEY를 환경변수로 관리하기 위한 설정 파일\n",
    "from dotenv import load_dotenv\n",
    "\n",
    "# API KEY 정보로드\n",
    "load_dotenv(override=True)"
   ]
  },
  {
   "cell_type": "code",
   "execution_count": 2,
   "metadata": {},
   "outputs": [
    {
     "name": "stdout",
     "output_type": "stream",
     "text": [
      "LangSmith 추적을 시작합니다.\n",
      "[프로젝트명]\n",
      "LangGraph-Tutorial\n"
     ]
    }
   ],
   "source": [
    "# LangSmith 추적을 설정합니다. https://smith.langchain.com\n",
    "from langchain_teddynote import logging\n",
    "\n",
    "# 프로젝트 이름을 입력합니다.\n",
    "logging.langsmith(\"LangGraph-Tutorial\")"
   ]
  },
  {
   "cell_type": "markdown",
   "metadata": {},
   "source": [
    "---\n",
    "\n",
    "# Part 1: 기본 챗봇 구축 🤖\n",
    "\n",
    "이 섹션에서는 LangGraph를 사용하여 기본적인 챗봇을 구축합니다. 이 챗봇은 이후 튜토리얼에서 점진적으로 더 정교한 기능을 추가할 기반이 됩니다.\n",
    "\n",
    "## 핵심 개념\n",
    "\n",
    "### StateGraph\n",
    "- 상태(State)로 챗봇의 구조를 정의\n",
    "- **노드(Nodes)**: LLM을 호출하거나 기능을 실행하는 단위\n",
    "- **엣지(Edges)**: 노드 간 전환 방법을 지정\n",
    "\n",
    "### State\n",
    "- 그래프의 스키마와 리듀서 함수를 포함\n",
    "- 메시지 리스트를 관리하며, 새 메시지는 기존 리스트에 추가됨"
   ]
  },
  {
   "cell_type": "code",
   "execution_count": 3,
   "metadata": {},
   "outputs": [
    {
     "name": "stdout",
     "output_type": "stream",
     "text": [
      "✅ StateGraph 생성 완료!\n",
      "📌 State는 messages 키를 가지며, add_messages 리듀서를 사용합니다.\n"
     ]
    }
   ],
   "source": [
    "from typing import Annotated\n",
    "from typing_extensions import TypedDict\n",
    "from langgraph.graph import StateGraph, START, END\n",
    "from langgraph.graph.message import add_messages\n",
    "\n",
    "\n",
    "# State 정의: 챗봇의 상태를 나타내는 타입\n",
    "class State(TypedDict):\n",
    "    \"\"\"챗봇의 상태를 정의하는 타입\n",
    "\n",
    "    messages: 대화 메시지 리스트\n",
    "    - add_messages 함수를 통해 새 메시지가 추가됨 (덮어쓰기가 아닌 추가)\n",
    "    \"\"\"\n",
    "\n",
    "    messages: Annotated[list, add_messages]\n",
    "\n",
    "\n",
    "# StateGraph 생성\n",
    "graph_builder = StateGraph(State)\n",
    "\n",
    "print(\"✅ StateGraph 생성 완료!\")\n",
    "print(\"📌 State는 messages 키를 가지며, add_messages 리듀서를 사용합니다.\")"
   ]
  },
  {
   "cell_type": "markdown",
   "metadata": {},
   "source": [
    "### LLM 선택 및 설정\n",
    "\n",
    "챗봇의 두뇌 역할을 할 언어 모델을 선택합니다."
   ]
  },
  {
   "cell_type": "code",
   "execution_count": 4,
   "metadata": {},
   "outputs": [
    {
     "name": "stdout",
     "output_type": "stream",
     "text": [
      "✅ LLM 설정 완료: gpt-4.1\n"
     ]
    }
   ],
   "source": [
    "# LLM 선택\n",
    "from langchain_openai import ChatOpenAI\n",
    "\n",
    "# OpenAI 모델 사용\n",
    "llm = ChatOpenAI(model=\"gpt-4.1\", temperature=0)\n",
    "\n",
    "print(f\"✅ LLM 설정 완료: {llm.model_name}\")"
   ]
  },
  {
   "cell_type": "markdown",
   "metadata": {},
   "source": [
    "### 챗봇 노드 추가\n",
    "\n",
    "**노드(Node)** 는 작업 단위이며, 일반적으로 함수로 구현됩니다."
   ]
  },
  {
   "cell_type": "code",
   "execution_count": 5,
   "metadata": {},
   "outputs": [
    {
     "name": "stdout",
     "output_type": "stream",
     "text": [
      "✅ 챗봇 노드 추가 완료!\n"
     ]
    }
   ],
   "source": [
    "def chatbot(state: State):\n",
    "    \"\"\"챗봇 노드 함수\n",
    "\n",
    "    현재 상태의 메시지를 받아 LLM에 전달하고,\n",
    "    응답을 새 메시지로 추가하여 반환합니다.\n",
    "    \"\"\"\n",
    "    # LLM을 호출하여 응답 생성\n",
    "    response = llm.invoke(state[\"messages\"])\n",
    "\n",
    "    # 응답을 메시지 리스트에 추가하여 반환\n",
    "    return {\"messages\": [response]}\n",
    "\n",
    "\n",
    "# 그래프에 노드 추가\n",
    "# 첫 번째 인자: 노드의 고유 이름\n",
    "# 두 번째 인자: 노드가 사용될 때 호출될 함수\n",
    "graph_builder.add_node(\"chatbot\", chatbot)\n",
    "\n",
    "print(\"✅ 챗봇 노드 추가 완료!\")"
   ]
  },
  {
   "cell_type": "markdown",
   "metadata": {},
   "source": [
    "### 진입점(Entry Point)과 종료점(Exit Point) 추가\n",
    "\n",
    "그래프가 어디서 시작하고 끝나는지 정의합니다."
   ]
  },
  {
   "cell_type": "code",
   "execution_count": 6,
   "metadata": {},
   "outputs": [
    {
     "name": "stdout",
     "output_type": "stream",
     "text": [
      "✅ 진입점과 종료점 설정 완료!\n",
      "📌 실행 흐름: START → chatbot → END\n"
     ]
    }
   ],
   "source": [
    "# 진입점: 그래프 실행이 시작되는 지점\n",
    "graph_builder.add_edge(START, \"chatbot\")\n",
    "\n",
    "# 종료점: 그래프 실행이 끝나는 지점\n",
    "graph_builder.add_edge(\"chatbot\", END)\n",
    "\n",
    "print(\"✅ 진입점과 종료점 설정 완료!\")\n",
    "print(\"📌 실행 흐름: START → chatbot → END\")"
   ]
  },
  {
   "cell_type": "markdown",
   "metadata": {},
   "source": [
    "### 그래프 컴파일\n",
    "\n",
    "그래프를 실행하기 전에 컴파일해야 합니다."
   ]
  },
  {
   "cell_type": "code",
   "execution_count": 7,
   "metadata": {},
   "outputs": [
    {
     "name": "stdout",
     "output_type": "stream",
     "text": [
      "✅ 그래프 컴파일 완료!\n"
     ]
    }
   ],
   "source": [
    "# 그래프 컴파일\n",
    "graph = graph_builder.compile()\n",
    "\n",
    "print(\"✅ 그래프 컴파일 완료!\")"
   ]
  },
  {
   "cell_type": "markdown",
   "metadata": {},
   "source": [
    "### 그래프 시각화"
   ]
  },
  {
   "cell_type": "code",
   "execution_count": 8,
   "metadata": {},
   "outputs": [
    {
     "data": {
      "image/png": "[encoded data removed]",
      "text/plain": [
       "<IPython.core.display.Image object>"
      ]
     },
     "metadata": {},
     "output_type": "display_data"
    }
   ],
   "source": [
    "from langchain_teddynote.graphs import visualize_graph\n",
    "\n",
    "# 그래프 시각화\n",
    "visualize_graph(graph)"
   ]
  },
  {
   "cell_type": "markdown",
   "metadata": {},
   "source": [
    "### 챗봇 실행\n",
    "\n",
    "이제 챗봇과 대화해봅시다!"
   ]
  },
  {
   "cell_type": "code",
   "execution_count": 9,
   "metadata": {},
   "outputs": [],
   "source": [
    "from langchain_teddynote.messages import stream_graph\n",
    "from langchain_core.runnables import RunnableConfig\n",
    "from langchain_core.messages import HumanMessage\n",
    "\n",
    "# 질문 입력\n",
    "user_input = \"안녕하세요! LangGraph에 대해 알려주세요.\"\n",
    "\n",
    "# Config 설정(recursion_limit: 재귀 깊이 제한, thread_id: 스레드 아이디)\n",
    "config = RunnableConfig(recursion_limit=20, thread_id=\"abc123\")"
   ]
  },
  {
   "cell_type": "code",
   "execution_count": 10,
   "metadata": {},
   "outputs": [
    {
     "name": "stdout",
     "output_type": "stream",
     "text": [
      "\n",
      "==================================================\n",
      "🔄 Node: \u001b[1;36mchatbot\u001b[0m 🔄\n",
      "- - - - - - - - - - - - - - - - - - - - - - - - - \n",
      "안녕하세요! LangGraph에 대해 궁금하신 점을 환영합니다. 아래에 LangGraph에 대한 기본적인 설명을 드릴게요.\n",
      "\n",
      "---\n",
      "\n",
      "### LangGraph란?\n",
      "\n",
      "**LangGraph**는 **LangChain** 팀에서 개발한, LLM(대형 언어 모델) 기반 애플리케이션을 **그래프(노드와 엣지로 구성된 구조)** 형태로 설계하고 실행할 수 있게 해주는 오픈소스 프레임워크입니다.\n",
      "\n",
      "#### 주요 특징\n",
      "\n",
      "- **상태 기반 워크플로우**: LangGraph는 각 노드가 상태를 받아 처리하고, 다음 노드로 상태를 넘기는 방식으로 동작합니다.\n",
      "- **분기와 루프**: if/else, 반복 등 복잡한 논리 흐름을 그래프 구조로 쉽게 구현할 수 있습니다.\n",
      "- **멀티에이전트 시스템**: 여러 LLM 에이전트가 상호작용하는 시스템을 설계할 수 있습니다.\n",
      "- **LangChain과의 통합**: LangChain의 체인, 에이전트, 툴 등을 그대로 활용할 수 있습니다.\n",
      "- **Python과 TypeScript 지원**: 두 언어 모두에서 사용할 수 있습니다.\n",
      "\n",
      "#### 사용 예시\n",
      "\n",
      "- **챗봇 대화 흐름 설계**\n",
      "- **문서 요약 및 질의응답 파이프라인**\n",
      "- **여러 LLM이 협업하는 멀티에이전트 시스템**\n",
      "- **복잡한 데이터 처리 워크플로우**\n",
      "\n",
      "#### 간단한 코드 예시 (Python)\n",
      "\n",
      "```python\n",
      "from langgraph.graph import StateGraph, END\n",
      "\n",
      "def node1(state):\n",
      "    # 상태 처리\n",
      "    return {\"step1\": \"hello\"}\n",
      "\n",
      "def node2(state):\n",
      "    # 상태 처리\n",
      "    return {\"step2\": state[\"step1\"] + \" world\"}\n",
      "\n",
      "graph = StateGraph()\n",
      "graph.add_node(\"start\", node1)\n",
      "graph.add_node(\"next\", node2)\n",
      "graph.add_edge(\"start\", \"next\")\n",
      "graph.add_edge(\"next\", END)\n",
      "\n",
      "app = graph.compile()\n",
      "result = app.invoke({})\n",
      "print(result)  # {'step1': 'hello', 'step2': 'hello world'}\n",
      "```\n",
      "\n",
      "#### 공식 문서\n",
      "\n",
      "- [LangGraph 공식 문서](https://langgraph.readthedocs.io/)\n",
      "- [GitHub 저장소](https://github.com/langchain-ai/langgraph)\n",
      "\n",
      "---\n",
      "\n",
      "더 궁금한 점이나, 구체적인 예시/활용법이 필요하시면 말씀해 주세요!"
     ]
    }
   ],
   "source": [
    "inputs = {\n",
    "    \"messages\": [HumanMessage(content=\"안녕하세요! LangGraph에 대해 알려주세요.\")]\n",
    "}\n",
    "\n",
    "# 그래프 스트리밍\n",
    "stream_graph(graph, inputs=inputs, config=config)"
   ]
  },
  {
   "cell_type": "markdown",
   "metadata": {},
   "source": [
    "---\n",
    "\n",
    "# Part 2: 도구(Tools) 추가 🔧\n",
    "\n",
    "챗봇이 \"기억\"에서 답할 수 없는 질문을 처리하기 위해 웹 검색 도구를 통합합니다. 이를 통해 챗봇이 실시간 정보를 찾아 더 나은 응답을 제공할 수 있습니다.\n",
    "\n",
    "## 핵심 개념\n",
    "\n",
    "- **Tool Binding**: LLM에 도구 사용 방법 알려주기\n",
    "- **Tool Node**: 도구를 실행하는 노드\n",
    "- **Conditional Edges**: 조건에 따라 다른 노드로 라우팅"
   ]
  },
  {
   "cell_type": "code",
   "execution_count": 11,
   "metadata": {},
   "outputs": [
    {
     "name": "stdout",
     "output_type": "stream",
     "text": [
      "검색 결과 수: 2개\n",
      "첫 번째 결과 제목: langgraph 소개 및 기본개념 : 네이버 블로그\n"
     ]
    }
   ],
   "source": [
    "from langchain_tavily import TavilySearch\n",
    "from langgraph.prebuilt import ToolNode, tools_condition\n",
    "\n",
    "# Tavily 검색 도구 설정\n",
    "tool = TavilySearch(max_results=2)\n",
    "tools = [tool]\n",
    "\n",
    "# 도구 테스트\n",
    "result = tool.invoke(\"LangGraph란 무엇인가요?\")\n",
    "print(f\"검색 결과 수: {len(result['results'])}개\")\n",
    "print(f\"첫 번째 결과 제목: {result['results'][0]['title']}\")"
   ]
  },
  {
   "cell_type": "markdown",
   "metadata": {},
   "source": [
    "### 도구를 사용하는 그래프 구성"
   ]
  },
  {
   "cell_type": "code",
   "execution_count": 12,
   "metadata": {},
   "outputs": [
    {
     "data": {
      "text/plain": [
       "<langgraph.graph.state.StateGraph at 0x10a9d9dc0>"
      ]
     },
     "execution_count": 12,
     "metadata": {},
     "output_type": "execute_result"
    }
   ],
   "source": [
    "from typing import Annotated\n",
    "from typing_extensions import TypedDict\n",
    "from langgraph.graph import StateGraph, START, END\n",
    "from langgraph.graph.message import add_messages\n",
    "\n",
    "\n",
    "# State 정의 (동일)\n",
    "class State(TypedDict):\n",
    "    messages: Annotated[list, add_messages]\n",
    "\n",
    "\n",
    "# 새로운 그래프 빌더 생성\n",
    "builder = StateGraph(State)\n",
    "\n",
    "# LLM에 도구 바인딩 - LLM이 도구를 사용할 수 있도록 설정\n",
    "llm_with_tools = llm.bind_tools(tools)\n",
    "\n",
    "\n",
    "def chatbot(state: State):\n",
    "    \"\"\"도구를 사용할 수 있는 챗봇 노드\"\"\"\n",
    "    # 도구가 바인딩된 LLM 호출\n",
    "    response = llm_with_tools.invoke(state[\"messages\"])\n",
    "    return {\"messages\": [response]}\n",
    "\n",
    "\n",
    "# 노드 추가\n",
    "builder.add_node(\"chatbot\", chatbot)\n",
    "\n",
    "# ToolNode 추가 - 도구를 실행하는 노드\n",
    "tool_node = ToolNode(tools=tools)\n",
    "builder.add_node(\"tools\", tool_node)"
   ]
  },
  {
   "cell_type": "markdown",
   "metadata": {},
   "source": [
    "### 조건부 엣지(Conditional Edges) 추가\n",
    "\n",
    "챗봇이 도구를 호출해야 할지 직접 응답할지 결정합니다."
   ]
  },
  {
   "cell_type": "markdown",
   "metadata": {},
   "source": [
    "### 🔍 tools_condition 함수 상세 설명\n",
    "\n",
    "`tools_condition`은 LangGraph의 사전 정의된 조건 함수로, LLM의 응답에 도구 호출이 포함되어 있는지 확인합니다.\n",
    "\n",
    "#### 동작 방식\n",
    "\n",
    "```python\n",
    "def tools_condition(state) -> Literal[\"tools\", \"__end__\"]: \n",
    "    \"\"\"마지막 메시지에 tool_calls가 있는지 확인하여 라우팅을 결정합니다.\"\"\"\n",
    "    \n",
    "    # 1. 상태에서 마지막 메시지 추출\n",
    "    if isinstance(state, list):\n",
    "        ai_message = state[-1]\n",
    "    elif isinstance(state, dict) and \"messages\" in state:\n",
    "        ai_message = state[\"messages\"][-1]\n",
    "    \n",
    "    # 2. 도구 호출 여부 확인\n",
    "    if hasattr(ai_message, \"tool_calls\") and len(ai_message.tool_calls) > 0:\n",
    "        return \"tools\"  # 도구 노드로 라우팅\n",
    "    \n",
    "    return \"__end__\"  # 종료\n",
    "```\n",
    "\n",
    "#### 핵심 포인트\n",
    "\n",
    "1. **자동 판단**: LLM이 도구를 호출해야 한다고 판단하면 `tool_calls` 필드가 생성됩니다\n",
    "2. **조건부 라우팅**: \n",
    "   - 도구 호출이 있으면 → `\"tools\"` 노드로 이동\n",
    "   - 도구 호출이 없으면 → `\"__end__\"`로 이동 (그래프 종료)\n",
    "3. **유연한 상태 처리**: 리스트, 딕셔너리, BaseModel 등 다양한 상태 형식 지원\n",
    "\n",
    "#### 실제 사용 예시\n",
    "\n",
    "```python\n",
    "# LLM이 검색이 필요하다고 판단한 경우\n",
    "# ai_message.tool_calls = [{\"name\": \"tavily_search\", \"args\": {\"query\": \"...\"}}, ...]\n",
    "# → tools_condition은 \"tools\"를 반환\n",
    "\n",
    "# LLM이 직접 답변할 수 있다고 판단한 경우\n",
    "# ai_message.tool_calls = []\n",
    "# → tools_condition은 \"__end__\"를 반환\n",
    "```"
   ]
  },
  {
   "cell_type": "code",
   "execution_count": 13,
   "metadata": {},
   "outputs": [],
   "source": [
    "# 조건부 엣지 추가\n",
    "# tools_condition은 메시지에 tool_calls가 있으면 \"tools\"로,\n",
    "# 없으면 END로 라우팅합니다\n",
    "builder.add_conditional_edges(\n",
    "    \"chatbot\",\n",
    "    tools_condition,  # 사전 정의된 조건 함수 사용\n",
    ")\n",
    "\n",
    "# 도구 실행 후 다시 챗봇으로 돌아가기\n",
    "builder.add_edge(\"tools\", \"chatbot\")\n",
    "\n",
    "# 시작점 설정\n",
    "builder.add_edge(START, \"chatbot\")\n",
    "\n",
    "# 그래프 컴파일\n",
    "graph_with_tools = builder.compile()"
   ]
  },
  {
   "cell_type": "markdown",
   "metadata": {},
   "source": [
    "그래프 시각화"
   ]
  },
  {
   "cell_type": "code",
   "execution_count": 14,
   "metadata": {},
   "outputs": [
    {
     "data": {
      "image/png": "[encoded data removed]",
      "text/plain": [
       "<IPython.core.display.Image object>"
      ]
     },
     "metadata": {},
     "output_type": "display_data"
    }
   ],
   "source": [
    "# 그래프 시각화\n",
    "visualize_graph(graph_with_tools)"
   ]
  },
  {
   "cell_type": "markdown",
   "metadata": {},
   "source": [
    "### 도구를 사용하는 챗봇 테스트"
   ]
  },
  {
   "cell_type": "code",
   "execution_count": 15,
   "metadata": {},
   "outputs": [
    {
     "name": "stdout",
     "output_type": "stream",
     "text": [
      "\n",
      "==================================================\n",
      "🔄 Node: \u001b[1;36mchatbot\u001b[0m 🔄\n",
      "- - - - - - - - - - - - - - - - - - - - - - - - - \n",
      "\n",
      "==================================================\n",
      "🔄 Node: \u001b[1;36mtools\u001b[0m 🔄\n",
      "- - - - - - - - - - - - - - - - - - - - - - - - - \n",
      "{\"query\": \"2025년 LangGraph 사용 사례\", \"follow_up_questions\": null, \"answer\": null, \"images\": [], \"results\": [{\"url\": \"https://medium.com/@sumit.work.connect/langgraph-in-action-trends-use-cases-and-how-to-build-with-it-in-2025-981e8e50dedd\", \"title\": \"LangGraph in Action: Trends, Use Cases, and How to build ...\", \"content\": \"Published Time: 2025-04-19T14:00:26.497Z\\n\\nLangGraph in Action: Trends, Use Cases, and How to build with It in 2025 | by Sunny Singh | Medium\\n\\n===============\\n\\nSitemap\\n\\nOpen in app\\n\\nSign up\\n\\nSign in\\n\\n, multi-agent, and loopingworkflows using graph-based computation. Built on NetworkX( a python library used to create, manipulate, and study graphs and networks), it allows each node to do something smart ( like an LLM call or function), while the edges decide where to go next. [...] LangGraph is not just a tool — it’s a mindset shift. With the explosion of autonomous agents and multi-agent research tools, LangGraph fits the 2025 AI dev landscape like a glove.\\n\\nCore Concepts at a Glance [...] Forget rigid pipelines — LangGraph brings flexibility,memory, and modularityto your AI builds.\\n\\nWhy Everyone’s Talking About LangGraph in 2025?\\n\\nHere’s why LangGraph is making waves this year:\", \"score\": 0.7323053, \"raw_content\": null}, {\"url\": \"https://www.designveloper.com/blog/what-is-langgraph/\", \"title\": \"What is LangGraph? Key Concepts, Use Cases, and How to Get ...\", \"content\": \"These examples illustrate that LangGraph’s use cases typically involve interactive and intelligent AI agents working in concert. From customer support to research, education, and enterprise automation, LangGraph enables AI solutions that are context-aware, can handle multiple subtasks, and can incorporate logic beyond a single prompt-response. Notably, the rise of such agentic workflows is reflected in industry trends – by late 2024, 43% of organizations using LangSmith (LangChain’s monitoring [...] Companies are using LangGraph to automate and simplify their internal processes. As an example, take an agent that would review incoming documents (forms, invoices, etc) to approve them: one node would use an LLM to extract key information about the document, another would check it against a database, and a final agent would make the decision to approve or flag the document to be reviewed by a human. In the same way, project management activities or data analysis can be shared among several [...] LangGraph is used by companies to create smart customer support chatbots that are not limited to Q&A. As an example, a chatbot with LangGraph can remember previous orders or preferences of a user stored in the shared state and utilize that information to personalize a response. It can deal with multi-step requests (such as checking an order status, followed by making a return), and can even escalate to a human agent when required at a breakpoint. This enhances customer service by delivering\", \"score\": 0.70944256, \"raw_content\": null}], \"response_time\": 1.63, \"request_id\": \"47dcb03e-80e1-4708-91eb-9d25f7d30d61\"}\n",
      "==================================================\n",
      "🔄 Node: \u001b[1;36mchatbot\u001b[0m 🔄\n",
      "- - - - - - - - - - - - - - - - - - - - - - - - - \n",
      "2025년 LangGraph 사용 사례는 다음과 같습니다:\n",
      "\n",
      "1. 멀티 에이전트 및 루프 기반 워크플로우\n",
      "- LangGraph는 그래프 기반 연산을 활용해 각 노드에서 LLM 호출, 함수 실행 등 다양한 작업을 수행하고, 엣지(간선)가 다음 작업 흐름을 결정합니다.\n",
      "- 기존의 고정된 파이프라인 대신 유연성, 메모리, 모듈성을 제공하여 복잡한 AI 시스템 구축에 적합합니다.\n",
      "\n",
      "2. 기업 자동화 및 문서 처리\n",
      "- 예시: 기업에서 LangGraph를 활용해 문서(양식, 인보이스 등) 자동 검토 에이전트를 구축합니다.\n",
      "  - 한 노드는 LLM으로 주요 정보 추출\n",
      "  - 다른 노드는 데이터베이스와 대조\n",
      "  - 마지막 노드는 승인 또는 인간 검토로 분기\n",
      "- 프로젝트 관리, 데이터 분석 등 다양한 내부 프로세스 자동화에 활용됩니다.\n",
      "\n",
      "3. 스마트 고객 지원 챗봇\n",
      "- LangGraph 기반 챗봇은 단순 Q&A를 넘어, 사용자의 이전 주문이나 선호도를 기억하고, 맞춤형 응답을 제공합니다.\n",
      "- 주문 상태 확인 후 반품 처리 등 다단계 요청을 처리할 수 있으며, 필요시 인간 상담원에게 자동으로 연결할 수 있습니다.\n",
      "\n",
      "4. 연구, 교육, 엔터프라이즈 자동화\n",
      "- 여러 에이전트가 협력해 복잡한 연구, 교육, 업무 자동화 시나리오를 구현할 수 있습니다.\n",
      "- 예를 들어, 논문 요약, 정보 검색, 데이터 정제 등 다양한 작업을 분산 처리합니다.\n",
      "\n",
      "2025년에는 LangGraph가 유연한 에이전트 워크플로우와 복잡한 AI 시스템 구축에 널리 활용되고 있습니다.\n",
      "\n",
      "참고:\n",
      "- Medium: LangGraph in Action: Trends, Use Cases, and How to build with It in 2025\n",
      "- Designveloper: What is LangGraph? Key Concepts, Use Cases, and How to Get Started"
     ]
    }
   ],
   "source": [
    "from langchain_teddynote.messages import stream_graph\n",
    "\n",
    "stream_graph(\n",
    "    graph_with_tools,\n",
    "    inputs={\n",
    "        \"messages\": [HumanMessage(content=\"2025년 LangGraph 사용 사례 알려주세요.\")]\n",
    "    },\n",
    "    config=config,\n",
    ")"
   ]
  },
  {
   "cell_type": "markdown",
   "metadata": {},
   "source": [
    "---\n",
    "\n",
    "# Part 3: 메모리 추가 💾\n",
    "\n",
    "챗봇이 이전 대화 내용을 기억할 수 있도록 **체크포인팅(Checkpointing)** 을 추가합니다. 이를 통해 멀티턴 대화가 가능해집니다.\n",
    "\n",
    "## 핵심 개념\n",
    "\n",
    "- **Checkpointer**: 상태를 저장하고 복원하는 메커니즘\n",
    "- **Thread ID**: 대화 세션을 구분하는 식별자\n",
    "- **Persistent State**: 여러 호출에 걸쳐 유지되는 상태"
   ]
  },
  {
   "cell_type": "code",
   "execution_count": 16,
   "metadata": {},
   "outputs": [],
   "source": [
    "from typing import Any\n",
    "from langchain_core.runnables import RunnableConfig\n",
    "from langgraph.graph import StateGraph, MessagesState, START\n",
    "from langgraph.store.base import BaseStore\n",
    "from langchain_openai import ChatOpenAI\n",
    "from langchain_teddynote.memory import create_memory_extractor\n",
    "import uuid\n",
    "\n",
    "model = ChatOpenAI(model=\"gpt-4.1\", temperature=0)\n",
    "memory_extractor = create_memory_extractor(model=\"gpt-4.1\")\n",
    "\n",
    "\n",
    "def call_model(\n",
    "    state: MessagesState,\n",
    "    config: RunnableConfig,\n",
    "    *,\n",
    "    store: BaseStore,\n",
    ") -> dict[str, Any]:\n",
    "    \"\"\"Call the LLM model and manage user memory.\n",
    "\n",
    "    Args:\n",
    "        state (MessagesState): The current state containing messages.\n",
    "        config (RunnableConfig): The runnable configuration.\n",
    "        store (BaseStore): The memory store.\n",
    "    \"\"\"\n",
    "    # 마지막 메시지에서 user_id 추출\n",
    "    user_id = config[\"configurable\"][\"user_id\"]\n",
    "    namespace = (\"memories\", user_id)\n",
    "\n",
    "    print(namespace)\n",
    "\n",
    "    # 유저의 메모리 검색\n",
    "    memories = store.search(namespace, query=str(state[\"messages\"][-1].content))\n",
    "    info = \"\\n\".join([f\"{memory.key}: {memory.value}\" for memory in memories])\n",
    "    system_msg = f\"You are a helpful assistant talking to the user. User info: {info}\"\n",
    "\n",
    "    # 사용자가 기억 요청 시 메모리 저장\n",
    "    last_message = state[\"messages\"][-1]\n",
    "    if \"remember\" in last_message.content.lower():\n",
    "        result = memory_extractor.invoke({\"input\": str(state[\"messages\"][-1].content)})\n",
    "        for memory in result.memories:\n",
    "            print(memory)\n",
    "            print(\"-\" * 100)\n",
    "            store.put(namespace, str(uuid.uuid4()), {memory.key: memory.value})\n",
    "\n",
    "    # LLM 호출\n",
    "    response = model.invoke(\n",
    "        [{\"role\": \"system\", \"content\": system_msg}] + state[\"messages\"]\n",
    "    )\n",
    "    return {\"messages\": response}"
   ]
  },
  {
   "cell_type": "code",
   "execution_count": 17,
   "metadata": {},
   "outputs": [],
   "source": [
    "from langgraph.checkpoint.memory import InMemorySaver\n",
    "from langgraph.store.memory import InMemoryStore\n",
    "\n",
    "# 그래프 빌드\n",
    "builder = StateGraph(MessagesState)\n",
    "builder.add_node(\"call_model\", call_model)\n",
    "builder.add_edge(START, \"call_model\")\n",
    "\n",
    "# 메모리 체크포인터 생성\n",
    "# 실제 프로덕션에서는 PostgresSaver 사용 권장\n",
    "memory_saver = InMemorySaver()\n",
    "memory_store = InMemoryStore()\n",
    "\n",
    "# 그래프 컴파일\n",
    "graph_with_memory = builder.compile(\n",
    "    checkpointer=memory_saver,\n",
    "    store=memory_store,\n",
    ")"
   ]
  },
  {
   "cell_type": "code",
   "execution_count": 18,
   "metadata": {},
   "outputs": [],
   "source": [
    "from langchain_teddynote.messages import stream_graph\n",
    "\n",
    "\n",
    "def run_graph(\n",
    "    msg,\n",
    "    thread_id=\"default\",\n",
    "    user_id=\"default\",\n",
    "):\n",
    "    config = {\n",
    "        \"configurable\": {\n",
    "            \"thread_id\": thread_id + user_id,\n",
    "            \"user_id\": user_id,\n",
    "        }\n",
    "    }\n",
    "    print(f\"\\n[유저🙋] {msg}\")\n",
    "    stream_graph(\n",
    "        graph_with_memory,\n",
    "        inputs={\"messages\": [{\"role\": \"user\", \"content\": msg}]},\n",
    "        config=config,\n",
    "    )\n",
    "    print()"
   ]
  },
  {
   "cell_type": "code",
   "execution_count": 19,
   "metadata": {},
   "outputs": [
    {
     "name": "stdout",
     "output_type": "stream",
     "text": [
      "\n",
      "[유저🙋] 안녕? 내 이름은 테디야\n",
      "('memories', 'someone')\n",
      "\n",
      "==================================================\n",
      "🔄 Node: \u001b[1;36mcall_model\u001b[0m 🔄\n",
      "- - - - - - - - - - - - - - - - - - - - - - - - - \n",
      "안녕, 테디! 만나서 반가워. 오늘은 어떤 도움이 필요해? 😊\n"
     ]
    }
   ],
   "source": [
    "# 메시지, thread_id, user_id 전달\n",
    "run_graph(\"안녕? 내 이름은 테디야\", \"1\", \"someone\")"
   ]
  },
  {
   "cell_type": "code",
   "execution_count": 20,
   "metadata": {},
   "outputs": [
    {
     "name": "stdout",
     "output_type": "stream",
     "text": [
      "\n",
      "[유저🙋] 내 이름이 뭐라고?\n",
      "('memories', 'someone')\n",
      "\n",
      "==================================================\n",
      "🔄 Node: \u001b[1;36mcall_model\u001b[0m 🔄\n",
      "- - - - - - - - - - - - - - - - - - - - - - - - - \n",
      "네 이름은 테디라고 했지! 맞지? 😊\n"
     ]
    }
   ],
   "source": [
    "# 메시지, thread_id, user_id 전달\n",
    "run_graph(\"내 이름이 뭐라고?\", \"1\", \"someone\")"
   ]
  },
  {
   "cell_type": "code",
   "execution_count": 21,
   "metadata": {},
   "outputs": [
    {
     "name": "stdout",
     "output_type": "stream",
     "text": [
      "\n",
      "[유저🙋] 내 이름이 뭐라고?\n",
      "('memories', 'someone')\n",
      "\n",
      "==================================================\n",
      "🔄 Node: \u001b[1;36mcall_model\u001b[0m 🔄\n",
      "- - - - - - - - - - - - - - - - - - - - - - - - - \n",
      "제가 아직 당신의 이름을 알지 못해요. 이름을 알려주시면 앞으로 기억해서 불러드릴 수 있습니다! 이름을 알려주실래요? 😊\n"
     ]
    }
   ],
   "source": [
    "# 메시지, thread_id, user_id 전달\n",
    "run_graph(\"내 이름이 뭐라고?\", \"2\", \"someone\")"
   ]
  },
  {
   "cell_type": "markdown",
   "metadata": {},
   "source": [
    "`remember` 라는 키워드를 입력하여 Long-term memory에 정보 저장"
   ]
  },
  {
   "cell_type": "code",
   "execution_count": 22,
   "metadata": {},
   "outputs": [
    {
     "name": "stdout",
     "output_type": "stream",
     "text": [
      "\n",
      "[유저🙋] 내 이름이 테디야 remember\n",
      "('memories', 'someone')\n",
      "\n",
      "==================================================\n",
      "🔄 Node: \u001b[1;36mcall_model\u001b[0m 🔄\n",
      "- - - - - - - - - - - - - - - - - - - - - - - - - \n",
      "{\n",
      "  \"memories\": [\n",
      "    {\n",
      "      \"key\": \"user_name\",\n",
      "      \"value\": \"테디\",\n",
      "      \"category\": \"personal_info\",\n",
      "      \"importance\": 5,\n",
      "      \"confidence\": 1.0\n",
      "    }\n",
      "  ],\n",
      "  \"summary\": \"사용자는 자신의 이름이 '테디'라고 밝혔음.\",\n",
      "  \"timestamp\": \"2024-06-13T00:00:00Z\"\n",
      "key='user_name' value='테디' category='personal_info' importance=5 confidence=1.0\n",
      "----------------------------------------------------------------------------------------------------\n",
      "}알겠어요, 테디! 앞으로 테디라고 불러드릴게요. 궁금한 점이나 도움이 필요하면 언제든 말씀해 주세요! 😊\n"
     ]
    }
   ],
   "source": [
    "# 메시지, thread_id, user_id 전달\n",
    "run_graph(\"내 이름이 테디야 remember\", \"2\", \"someone\")"
   ]
  },
  {
   "cell_type": "markdown",
   "metadata": {},
   "source": [
    "이렇게 저장한 Long-term memory를 활용할 때는 thread_id 가 바뀌어도 주요 정보를 기억하고 있습니다."
   ]
  },
  {
   "cell_type": "code",
   "execution_count": 23,
   "metadata": {},
   "outputs": [
    {
     "name": "stdout",
     "output_type": "stream",
     "text": [
      "\n",
      "[유저🙋] 내 이름이 뭐라고 했더라?\n",
      "('memories', 'someone')\n",
      "\n",
      "==================================================\n",
      "🔄 Node: \u001b[1;36mcall_model\u001b[0m 🔄\n",
      "- - - - - - - - - - - - - - - - - - - - - - - - - \n",
      "당신의 이름은 \"테디\"라고 하셨어요! 😊\n"
     ]
    }
   ],
   "source": [
    "# 메시지, thread_id, user_id 전달\n",
    "run_graph(\"내 이름이 뭐라고 했더라?\", \"3\", \"someone\")"
   ]
  },
  {
   "cell_type": "code",
   "execution_count": 24,
   "metadata": {},
   "outputs": [
    {
     "name": "stdout",
     "output_type": "stream",
     "text": [
      "\n",
      "[유저🙋] 내 직업은 AI Engineer 야. 내 취미는 Netflix 보기 야. remember\n",
      "('memories', 'someone')\n",
      "\n",
      "==================================================\n",
      "🔄 Node: \u001b[1;36mcall_model\u001b[0m 🔄\n",
      "- - - - - - - - - - - - - - - - - - - - - - - - - \n",
      "{\n",
      "  \"memories\": [\n",
      "    {\n",
      "      \"key\": \"occupation\",\n",
      "      \"value\": \"AI Engineer\",\n",
      "      \"category\": \"personal_info\",\n",
      "      \"importance\": 5,\n",
      "      \"confidence\": 1.0\n",
      "    },\n",
      "    {\n",
      "      \"key\": \"hobby\",\n",
      "      \"value\": \"Netflix 보기\",\n",
      "      \"category\": \"preference\",\n",
      "      \"importance\": 4,\n",
      "      \"confidence\": 1.0\n",
      "    }\n",
      "  ],\n",
      "  \"summary\": \"사용자는 자신의 직업이 AI Engineer이며, 취미는 Netflix 보기라고 밝혔다.\",\n",
      "  \"timestamp\": \"2024-06-14T00:00:00Z\"\n",
      "}key='occupation' value='AI Engineer' category='personal_info' importance=5 confidence=1.0\n",
      "----------------------------------------------------------------------------------------------------\n",
      "key='hobby' value='Netflix 보기' category='preference' importance=4 confidence=1.0\n",
      "----------------------------------------------------------------------------------------------------\n",
      "알겠어, 테디!  \n",
      "너의 직업은 AI Engineer이고, 취미는 Netflix 보기인 걸 기억할게.  \n",
      "앞으로 대화할 때 참고할게! 😊\n",
      "\n",
      "혹시 더 기억해줬으면 하는 정보가 있으면 언제든 말해줘!\n"
     ]
    }
   ],
   "source": [
    "# 메시지, thread_id, user_id 전달\n",
    "run_graph(\n",
    "    \"내 직업은 AI Engineer 야. 내 취미는 Netflix 보기 야. remember\", \"4\", \"someone\"\n",
    ")"
   ]
  },
  {
   "cell_type": "code",
   "execution_count": 25,
   "metadata": {},
   "outputs": [
    {
     "name": "stdout",
     "output_type": "stream",
     "text": [
      "\n",
      "[유저🙋] 내 이름, 직업, 취미 알려줘\n",
      "('memories', 'someone')\n",
      "\n",
      "==================================================\n",
      "🔄 Node: \u001b[1;36mcall_model\u001b[0m 🔄\n",
      "- - - - - - - - - - - - - - - - - - - - - - - - - \n",
      "네, 테디님!  \n",
      "아래는 요청하신 정보입니다:\n",
      "\n",
      "- 이름: 테디\n",
      "- 직업: AI Engineer\n",
      "- 취미: Netflix 보기\n",
      "\n",
      "다른 궁금한 점 있으시면 언제든 말씀해 주세요! 😊\n"
     ]
    }
   ],
   "source": [
    "# 다른 스레드에서 실행\n",
    "run_graph(\"내 이름, 직업, 취미 알려줘\", \"100\", \"someone\")"
   ]
  },
  {
   "cell_type": "code",
   "execution_count": 26,
   "metadata": {},
   "outputs": [
    {
     "name": "stdout",
     "output_type": "stream",
     "text": [
      "\n",
      "[유저🙋] 내 이름, 직업, 취미 알려줘\n",
      "('memories', 'other')\n",
      "\n",
      "==================================================\n",
      "🔄 Node: \u001b[1;36mcall_model\u001b[0m 🔄\n",
      "- - - - - - - - - - - - - - - - - - - - - - - - - \n",
      "제가 아직 당신의 이름, 직업, 취미에 대한 정보를 받지 못했어요. 알려주시면 기억해서 대화에 반영할 수 있습니다! 알려주실래요? 😊\n"
     ]
    }
   ],
   "source": [
    "# 다른 user_id 로 실행한 경우\n",
    "run_graph(\"내 이름, 직업, 취미 알려줘\", \"100\", \"other\")"
   ]
  },
  {
   "cell_type": "markdown",
   "metadata": {},
   "source": [
    "### State 확인\n",
    "\n",
    "`get_state` 함수를 사용하여 저장된 상태를 확인할 수 있습니다."
   ]
  },
  {
   "cell_type": "code",
   "execution_count": 27,
   "metadata": {},
   "outputs": [
    {
     "name": "stdout",
     "output_type": "stream",
     "text": [
      "📊 현재 상태 정보:\n",
      "- 메시지 수: 2개\n",
      "- 체크포인트 ID: 1f07a5c9-3400-63d8-8001-0aa27fb30ee9\n",
      "\n",
      "[최근 메시지]\n",
      "  [human]: 내 이름, 직업, 취미 알려줘\n",
      "  [ai]: 네, 테디님!  \n",
      "아래는 요청하신 정보입니다:\n",
      "\n",
      "- 이름: 테디\n",
      "- 직업: AI Engineer\n",
      "- 취미: Netflix 보기\n",
      "\n",
      "다른 궁금한 점 있으시면 언제든 말씀해 주세요! 😊\n"
     ]
    }
   ],
   "source": [
    "# 임의의 Config 설정\n",
    "config = {\n",
    "    \"configurable\": {\n",
    "        \"thread_id\": \"100\" + \"someone\",\n",
    "        \"user_id\": \"someone\",\n",
    "    }\n",
    "}\n",
    "\n",
    "# 현재 상태 가져오기\n",
    "snapshot = graph_with_memory.get_state(config)\n",
    "\n",
    "print(\"📊 현재 상태 정보:\")\n",
    "print(f\"- 메시지 수: {len(snapshot.values['messages'])}개\")\n",
    "print(f\"- 체크포인트 ID: {snapshot.config['configurable']['checkpoint_id']}\")\n",
    "\n",
    "# 최근 메시지 몇 개 표시\n",
    "print(\"\\n[최근 메시지]\")\n",
    "for msg in snapshot.values[\"messages\"]:\n",
    "    role = msg.type if hasattr(msg, \"type\") else \"unknown\"\n",
    "    content = msg.content if hasattr(msg, \"content\") else str(msg)\n",
    "    print(f\"  [{role}]: {content}\")"
   ]
  },
  {
   "cell_type": "markdown",
   "metadata": {},
   "source": [
    "---\n",
    "\n",
    "# Part 4: Human-in-the-Loop 🙋\n",
    "\n",
    "에이전트가 신뢰할 수 없거나 중요한 결정을 내릴 때 인간의 입력이 필요할 수 있습니다. LangGraph의 **interrupt** 기능을 사용하여 실행을 일시 중지하고 인간의 피드백을 받을 수 있습니다.\n",
    "\n",
    "## 핵심 개념\n",
    "\n",
    "- **interrupt**: 실행을 일시 중지하는 함수\n",
    "- **Command**: 실행을 재개하고 데이터를 전달하는 객체\n",
    "- **Human Approval**: 인간 검토/승인 프로세스"
   ]
  },
  {
   "cell_type": "code",
   "execution_count": 28,
   "metadata": {},
   "outputs": [],
   "source": [
    "from langchain_core.tools import tool\n",
    "from langgraph.types import Command, interrupt\n",
    "\n",
    "\n",
    "@tool\n",
    "def human_assistance(query: str) -> str:\n",
    "    \"\"\"Request assistance from an expert(human).\"\"\"\n",
    "    # interrupt를 호출하여 실행 일시 중지\n",
    "    # 사람의 응답을 기다림\n",
    "    human_response = interrupt({\"query\": query})\n",
    "\n",
    "    # 사람의 응답 반환\n",
    "    return human_response[\"data\"]"
   ]
  },
  {
   "cell_type": "markdown",
   "metadata": {},
   "source": [
    "### Human-in-the-Loop가 있는 그래프 구성"
   ]
  },
  {
   "cell_type": "code",
   "execution_count": 29,
   "metadata": {},
   "outputs": [
    {
     "data": {
      "image/png": "[encoded data removed]",
      "text/plain": [
       "<IPython.core.display.Image object>"
      ]
     },
     "metadata": {},
     "output_type": "display_data"
    }
   ],
   "source": [
    "# 도구 리스트 업데이트\n",
    "tools_with_human = [human_assistance]\n",
    "\n",
    "# 새로운 그래프 구성\n",
    "graph_builder_hitl = StateGraph(State)\n",
    "\n",
    "# LLM에 도구 바인딩\n",
    "llm_with_human_tools = llm.bind_tools(tools_with_human)\n",
    "\n",
    "\n",
    "def chatbot_with_human(state: State):\n",
    "    \"\"\"Human Interuption 요청할 수 있는 챗봇\"\"\"\n",
    "    message = llm_with_human_tools.invoke(state[\"messages\"])\n",
    "\n",
    "    # interrupt 중 병렬 도구 호출 방지\n",
    "    # (재개 시 도구 호출이 반복되는 것을 방지)\n",
    "    if hasattr(message, \"tool_calls\"):\n",
    "        assert (\n",
    "            len(message.tool_calls) <= 1\n",
    "        ), \"병렬 도구 호출은 interrupt와 함께 사용할 수 없습니다\"\n",
    "\n",
    "    return {\"messages\": [message]}\n",
    "\n",
    "\n",
    "# 노드 추가\n",
    "graph_builder_hitl.add_node(\"chatbot_with_human\", chatbot_with_human)\n",
    "\n",
    "# ToolNode 추가\n",
    "tool_node_hitl = ToolNode(tools=tools_with_human)\n",
    "graph_builder_hitl.add_node(\"tools\", tool_node_hitl)\n",
    "\n",
    "# 엣지 추가\n",
    "graph_builder_hitl.add_conditional_edges(\"chatbot_with_human\", tools_condition)\n",
    "graph_builder_hitl.add_edge(\"tools\", \"chatbot_with_human\")\n",
    "graph_builder_hitl.add_edge(START, \"chatbot_with_human\")\n",
    "\n",
    "# 메모리와 함께 컴파일\n",
    "memory_hitl = InMemorySaver()\n",
    "graph_hitl = graph_builder_hitl.compile(checkpointer=memory_hitl)\n",
    "\n",
    "# 그래프 시각화\n",
    "visualize_graph(graph_hitl)"
   ]
  },
  {
   "cell_type": "markdown",
   "metadata": {},
   "source": [
    "### Human-in-the-Loop 테스트"
   ]
  },
  {
   "cell_type": "code",
   "execution_count": 30,
   "metadata": {},
   "outputs": [
    {
     "name": "stdout",
     "output_type": "stream",
     "text": [
      "User: LangGraph 잘하고 싶은데, 사람에게 조언을 듣고 싶어요.\n",
      "\n",
      "\n",
      "==================================================\n",
      "🔄 Node: \u001b[1;36mchatbot_with_human\u001b[0m 🔄\n",
      "- - - - - - - - - - - - - - - - - - - - - - - - - \n"
     ]
    }
   ],
   "source": [
    "from langchain_teddynote.messages import random_uuid\n",
    "\n",
    "# 인간 지원을 요청하는 메시지\n",
    "user_input = \"LangGraph 잘하고 싶은데, 사람에게 조언을 듣고 싶어요.\"\n",
    "config_hitl = {\"configurable\": {\"thread_id\": random_uuid()}}\n",
    "\n",
    "print(f\"User: {user_input}\\n\")\n",
    "\n",
    "stream_graph(\n",
    "    graph_hitl,\n",
    "    inputs={\"messages\": [HumanMessage(content=user_input)]},\n",
    "    config=config_hitl,\n",
    ")"
   ]
  },
  {
   "cell_type": "code",
   "execution_count": 31,
   "metadata": {},
   "outputs": [
    {
     "name": "stdout",
     "output_type": "stream",
     "text": [
      "\n",
      "📊 현재 상태:\n",
      "  다음 실행할 노드: ('tools',)\n",
      "  체크포인트 ID: 1f07a5c9-480c-6e4e-8001-21228b57b1c9\n"
     ]
    }
   ],
   "source": [
    "# 상태 확인 - 어느 노드에서 중단되었는지 확인\n",
    "snapshot = graph_hitl.get_state(config_hitl)\n",
    "print(f\"\\n📊 현재 상태:\")\n",
    "print(f\"  다음 실행할 노드: {snapshot.next}\")\n",
    "print(f\"  체크포인트 ID: {snapshot.config['configurable']['checkpoint_id']}\")"
   ]
  },
  {
   "cell_type": "code",
   "execution_count": 32,
   "metadata": {},
   "outputs": [
    {
     "name": "stdout",
     "output_type": "stream",
     "text": [
      "\n",
      "💡 사람의 응답: ## 전문가의 조언: \n",
      "- YouTube 테디노트: https://www.youtube.com/c/teddynote\n",
      "- 고급 개발자 강의 [패스트캠퍼스 RAG 비법노트](https://fastcampus.co.kr/data_online_teddy)\n",
      "\n",
      "\n",
      "\n",
      "==================================================\n",
      "🔄 Node: \u001b[1;36mtools\u001b[0m 🔄\n",
      "- - - - - - - - - - - - - - - - - - - - - - - - - \n",
      "## 전문가의 조언: \n",
      "- YouTube 테디노트: https://www.youtube.com/c/teddynote\n",
      "- 고급 개발자 강의 [패스트캠퍼스 RAG 비법노트](https://fastcampus.co.kr/data_online_teddy)\n",
      "\n",
      "==================================================\n",
      "🔄 Node: \u001b[1;36mchatbot_with_human\u001b[0m 🔄\n",
      "- - - - - - - - - - - - - - - - - - - - - - - - - \n",
      "LangGraph를 잘하고 싶으시다면, 다음과 같은 전문가의 조언을 참고해보세요:\n",
      "\n",
      "1. YouTube 테디노트 채널: LangGraph와 관련된 다양한 실습과 설명 영상이 많아 초보자부터 중급자까지 도움이 됩니다.\n",
      "   - https://www.youtube.com/c/teddynote\n",
      "\n",
      "2. 패스트캠퍼스 RAG 비법노트 강의: 실제 현업 개발자가 알려주는 실전 강의로, LangGraph와 RAG(검색 증강 생성) 기술을 깊이 있게 배울 수 있습니다.\n",
      "   - https://fastcampus.co.kr/data_online_teddy\n",
      "\n",
      "이 자료들을 참고해서 실습과 프로젝트를 병행해보시면 실력이 빠르게 늘어날 거예요! 궁금한 점이 있으면 언제든 질문해 주세요."
     ]
    }
   ],
   "source": [
    "# 인간의 응답으로 실행 재개\n",
    "human_response = \"\"\"## 전문가의 조언: \n",
    "- YouTube 테디노트: https://www.youtube.com/c/teddynote\n",
    "- 고급 개발자 강의 [패스트캠퍼스 RAG 비법노트](https://fastcampus.co.kr/data_online_teddy)\n",
    "\"\"\"\n",
    "\n",
    "# Command 객체로 재개\n",
    "human_command = Command(resume={\"data\": human_response})\n",
    "\n",
    "print(f\"\\n💡 사람의 응답: {human_response}\\n\")\n",
    "\n",
    "# 재개\n",
    "stream_graph(graph_hitl, inputs=human_command, config=config_hitl)"
   ]
  },
  {
   "cell_type": "markdown",
   "metadata": {},
   "source": [
    "---\n",
    "\n",
    "# Part 5: 상태 커스터마이징 🎨\n",
    "\n",
    "메시지 리스트 외에 추가 필드를 상태에 추가하여 복잡한 동작을 정의할 수 있습니다. 예를 들어, 특정 정보를 저장하고 인간의 검토를 받는 워크플로우를 구현해봅시다.\n",
    "\n",
    "## 핵심 개념\n",
    "\n",
    "- **Custom State Fields**: 상태에 커스텀 필드 추가\n",
    "- **State Updates from Tools**: 도구 내부에서 상태 업데이트\n",
    "- **Manual State Updates**: 수동으로 상태 변경"
   ]
  },
  {
   "cell_type": "code",
   "execution_count": 33,
   "metadata": {},
   "outputs": [],
   "source": [
    "from langchain_core.messages import ToolMessage\n",
    "from langchain_core.tools import InjectedToolCallId\n",
    "\n",
    "\n",
    "# 확장된 State 정의\n",
    "class CustomState(TypedDict):\n",
    "    \"\"\"커스텀 필드가 추가된 상태\"\"\"\n",
    "\n",
    "    messages: Annotated[list, add_messages]\n",
    "    human_feedback: str  # 사람의 피드백"
   ]
  },
  {
   "cell_type": "markdown",
   "metadata": {},
   "source": [
    "### 상태를 업데이트하는 도구"
   ]
  },
  {
   "cell_type": "code",
   "execution_count": 34,
   "metadata": {},
   "outputs": [],
   "source": [
    "@tool\n",
    "def human_review(\n",
    "    human_feedback, tool_call_id: Annotated[str, InjectedToolCallId]\n",
    ") -> str:\n",
    "    \"\"\"Request human review for information.\"\"\"\n",
    "    # 인간에게 검토 요청\n",
    "    human_response = interrupt(\n",
    "        {\"question\": \"이 정보가 맞나요?\", \"human_feedback\": human_feedback}\n",
    "    )\n",
    "\n",
    "    feedback = human_response.get(\"human_feedback\", \"\")\n",
    "\n",
    "    if feedback.strip() == \"\":\n",
    "        # 사용자가 AI 의 답변에 동의하는 경우\n",
    "        return Command(\n",
    "            update={\n",
    "                \"messages\": [ToolMessage(human_response, tool_call_id=tool_call_id)]\n",
    "            }\n",
    "        )\n",
    "    else:\n",
    "        # 사용자가 AI 의 답변에 동의하지 않는 경우\n",
    "        corrected_information = f\"# 사용자에 의해 수정된 피드백: {feedback}\"\n",
    "        return Command(\n",
    "            update={\n",
    "                \"messages\": [\n",
    "                    ToolMessage(corrected_information, tool_call_id=tool_call_id)\n",
    "                ]\n",
    "            }\n",
    "        )"
   ]
  },
  {
   "cell_type": "markdown",
   "metadata": {},
   "source": [
    "### 커스텀 상태를 사용하는 그래프"
   ]
  },
  {
   "cell_type": "code",
   "execution_count": 35,
   "metadata": {},
   "outputs": [],
   "source": [
    "# 도구 리스트\n",
    "tools_custom = [human_review]\n",
    "\n",
    "# 새로운 그래프 구성\n",
    "custom_graph_builder = StateGraph(CustomState)  # CustomState 사용\n",
    "\n",
    "# LLM에 도구 바인딩\n",
    "llm_with_custom_tools = llm.bind_tools(tools_custom)\n",
    "\n",
    "\n",
    "def chatbot_custom(state: CustomState):\n",
    "    \"\"\"커스텀 상태를 사용하는 챗봇\"\"\"\n",
    "    message = llm_with_custom_tools.invoke(state[\"messages\"])\n",
    "\n",
    "    if hasattr(message, \"tool_calls\"):\n",
    "        assert len(message.tool_calls) <= 1\n",
    "\n",
    "    return {\"messages\": [message]}\n",
    "\n",
    "\n",
    "# 노드와 엣지 추가\n",
    "custom_graph_builder.add_node(\"chatbot\", chatbot_custom)\n",
    "tool_node_custom = ToolNode(tools=tools_custom)\n",
    "custom_graph_builder.add_node(\"tools\", tool_node_custom)\n",
    "\n",
    "custom_graph_builder.add_conditional_edges(\"chatbot\", tools_condition)\n",
    "custom_graph_builder.add_edge(\"tools\", \"chatbot\")\n",
    "custom_graph_builder.add_edge(START, \"chatbot\")\n",
    "\n",
    "# 컴파일\n",
    "memory_custom = InMemorySaver()\n",
    "custom_graph = custom_graph_builder.compile(checkpointer=memory_custom)"
   ]
  },
  {
   "cell_type": "markdown",
   "metadata": {},
   "source": [
    "그래프를 시각화 합니다."
   ]
  },
  {
   "cell_type": "code",
   "execution_count": 36,
   "metadata": {},
   "outputs": [
    {
     "data": {
      "image/png": "[encoded data removed]",
      "text/plain": [
       "<IPython.core.display.Image object>"
      ]
     },
     "metadata": {},
     "output_type": "display_data"
    }
   ],
   "source": [
    "# 그래프 시각화\n",
    "visualize_graph(custom_graph)"
   ]
  },
  {
   "cell_type": "markdown",
   "metadata": {},
   "source": [
    "### 커스텀 상태 테스트"
   ]
  },
  {
   "cell_type": "code",
   "execution_count": 37,
   "metadata": {},
   "outputs": [
    {
     "name": "stdout",
     "output_type": "stream",
     "text": [
      "User: 2024년 노벨 문학상 수상자가 누구인지 조사해주세요. 답을 찾으면 `human_review` 도구를 사용해서 검토를 요청하세요.\n",
      "\n",
      "\n",
      "==================================================\n",
      "🔄 Node: \u001b[1;36mchatbot\u001b[0m 🔄\n",
      "- - - - - - - - - - - - - - - - - - - - - - - - - \n"
     ]
    }
   ],
   "source": [
    "# LangGraph의 출시일을 조사하고 검토 요청\n",
    "user_input = (\n",
    "    \"2024년 노벨 문학상 수상자가 누구인지 조사해주세요. \"\n",
    "    \"답을 찾으면 `human_review` 도구를 사용해서 검토를 요청하세요.\"\n",
    ")\n",
    "\n",
    "custom_config = RunnableConfig(configurable={\"thread_id\": random_uuid()})\n",
    "\n",
    "print(f\"User: {user_input}\\n\")\n",
    "\n",
    "# 실행 (interrupt에서 중단될 것임)\n",
    "stream_graph(\n",
    "    custom_graph,\n",
    "    inputs={\"messages\": [HumanMessage(content=user_input)]},\n",
    "    config=custom_config,\n",
    ")"
   ]
  },
  {
   "cell_type": "code",
   "execution_count": 38,
   "metadata": {},
   "outputs": [
    {
     "name": "stdout",
     "output_type": "stream",
     "text": [
      "    \u001b[93mcontent\u001b[0m: \"\"\n",
      "    \u001b[93madditional_kwargs\u001b[0m:\n",
      "        \u001b[94mtool_calls\u001b[0m:\n",
      "            \u001b[94mindex [0]\u001b[0m\n",
      "                \u001b[92mindex\u001b[0m: 0\n",
      "                \u001b[92mid\u001b[0m: \"call_NiOU1FwqNErEkmrgiavl332n\"\n",
      "                \u001b[92mfunction\u001b[0m: {\"arguments\": \"{\"human_feedback\":\"2024년 노벨 문학상 수상자는 현재 공식적으로 발표되지 않았거나, 최신 정보가 필요합니다. 사용자의 요청에 따라 최신 정보를 확인하고 검토를 요청합니다.\"}\", \"name\": \"human_review\"}\n",
      "                \u001b[92mtype\u001b[0m: \"function\"\n",
      "    \u001b[93mresponse_metadata\u001b[0m: {\"finish_reason\": \"tool_calls\", \"model_name\": \"gpt-4.1-2025-04-14\", \"system_fingerprint\": \"fp_daf5fcc80a\", \"service_tier\": \"default\"}\n",
      "    \u001b[93mtype\u001b[0m: \"ai\"\n",
      "    \u001b[93mname\u001b[0m: None\n",
      "    \u001b[93mid\u001b[0m: \"run--74d9003c-0d93-45ac-8aab-70572c0eccd5\"\n",
      "    \u001b[93mexample\u001b[0m: False\n",
      "    \u001b[93mtool_calls\u001b[0m:\n",
      "        \u001b[93mindex [0]\u001b[0m\n",
      "            \u001b[95mname\u001b[0m: \"human_review\"\n",
      "            \u001b[95margs\u001b[0m: {\"human_feedback\": \"2024년 노벨 문학상 수상자는 현재 공식적으로 발표되지 않았거나, 최신 정보가 필요합니다. 사용자의 요청에 따라 최신 정보를 확인하고 검토를 요청합니다.\"}\n",
      "            \u001b[95mid\u001b[0m: \"call_NiOU1FwqNErEkmrgiavl332n\"\n",
      "            \u001b[95mtype\u001b[0m: \"tool_call\"\n",
      "    \u001b[93minvalid_tool_calls\u001b[0m:\n",
      "    \u001b[93musage_metadata\u001b[0m: None\n"
     ]
    }
   ],
   "source": [
    "from langchain_teddynote.messages import display_message_tree\n",
    "\n",
    "# 최신 메시지 가져오기\n",
    "last_message = custom_graph.get_state(custom_config).values[\"messages\"][-1]\n",
    "\n",
    "# 최신 메시지 tree 구조로 표시\n",
    "display_message_tree(last_message)"
   ]
  },
  {
   "cell_type": "code",
   "execution_count": 39,
   "metadata": {},
   "outputs": [
    {
     "name": "stdout",
     "output_type": "stream",
     "text": [
      "2024년 노벨 문학상 수상자는 현재 공식적으로 발표되지 않았거나, 최신 정보가 필요합니다. 사용자의 요청에 따라 최신 정보를 확인하고 검토를 요청합니다.\n"
     ]
    }
   ],
   "source": [
    "# AI 가 작성한 내용\n",
    "print(last_message.tool_calls[0][\"args\"][\"human_feedback\"])"
   ]
  },
  {
   "cell_type": "code",
   "execution_count": 40,
   "metadata": {},
   "outputs": [
    {
     "name": "stdout",
     "output_type": "stream",
     "text": [
      "\n",
      "==================================================\n",
      "🔄 Node: \u001b[1;36mtools\u001b[0m 🔄\n",
      "- - - - - - - - - - - - - - - - - - - - - - - - - \n",
      "# 사용자에 의해 수정된 피드백: 2024년 노벨 문학상 수상자는 대한민국의 한강 작가입니다.\n",
      "==================================================\n",
      "🔄 Node: \u001b[1;36mchatbot\u001b[0m 🔄\n",
      "- - - - - - - - - - - - - - - - - - - - - - - - - \n",
      "2024년 노벨 문학상 수상자는 대한민국의 한강 작가입니다. (이 정보는 사용자에 의해 검토 및 수정되었습니다.)"
     ]
    }
   ],
   "source": [
    "# 인간의 검토 응답으로 재개\n",
    "human_command = Command(\n",
    "    resume={\"human_feedback\": \"2024년 노벨 문학상 수상자는 대한민국의 한강 작가입니다.\"}\n",
    ")\n",
    "\n",
    "stream_graph(custom_graph, inputs=human_command, config=custom_config)"
   ]
  },
  {
   "cell_type": "markdown",
   "metadata": {},
   "source": [
    "---\n",
    "\n",
    "# Part 6: 타임 트래블 ⏰\n",
    "\n",
    "LangGraph의 **타임 트래블** 기능을 사용하면 이전 체크포인트로 돌아가서 다른 경로를 탐색할 수 있습니다. 이는 디버깅, 실험, 대화형 애플리케이션에 매우 유용합니다.\n",
    "\n",
    "## 핵심 개념\n",
    "\n",
    "- **State History**: 모든 체크포인트의 기록\n",
    "- **Checkpoint ID**: 특정 시점의 식별자\n",
    "- **Rewind**: 이전 상태로 되돌리기\n",
    "- **Resume**: 특정 체크포인트에서 재개"
   ]
  },
  {
   "cell_type": "markdown",
   "metadata": {},
   "source": [
    "### 타임 트래블을 위한 그래프 준비"
   ]
  },
  {
   "cell_type": "code",
   "execution_count": 53,
   "metadata": {},
   "outputs": [],
   "source": [
    "# 타임 트래블 테스트를 위한 간단한 그래프\n",
    "graph_builder = StateGraph(State)\n",
    "\n",
    "# 도구와 LLM 설정\n",
    "tools = [TavilySearch(max_results=2)]\n",
    "llm_with_tools_tt = llm.bind_tools(tools)\n",
    "\n",
    "\n",
    "def chatbot_tt(state: State):\n",
    "    \"\"\"타임 트래블 테스트용 챗봇\"\"\"\n",
    "    return {\"messages\": [llm_with_tools_tt.invoke(state[\"messages\"])]}\n",
    "\n",
    "\n",
    "# 그래프 구성\n",
    "graph_builder.add_node(\"chatbot\", chatbot_tt)\n",
    "tool_node_tt = ToolNode(tools=tools)\n",
    "graph_builder.add_node(\"tools\", tool_node_tt)\n",
    "\n",
    "graph_builder.add_conditional_edges(\"chatbot\", tools_condition)\n",
    "graph_builder.add_edge(\"tools\", \"chatbot\")\n",
    "graph_builder.add_edge(START, \"chatbot\")\n",
    "\n",
    "# 메모리와 함께 컴파일\n",
    "memory_tt = InMemorySaver()\n",
    "time_travel_graph = graph_builder.compile(checkpointer=memory_tt)"
   ]
  },
  {
   "cell_type": "markdown",
   "metadata": {},
   "source": [
    "시각화를 수행합니다."
   ]
  },
  {
   "cell_type": "code",
   "execution_count": 54,
   "metadata": {},
   "outputs": [
    {
     "data": {
      "image/png": "[encoded data removed]",
      "text/plain": [
       "<IPython.core.display.Image object>"
      ]
     },
     "metadata": {},
     "output_type": "display_data"
    }
   ],
   "source": [
    "# 시각화\n",
    "visualize_graph(time_travel_graph)"
   ]
  },
  {
   "cell_type": "markdown",
   "metadata": {},
   "source": [
    "### 여러 단계의 대화 생성"
   ]
  },
  {
   "cell_type": "code",
   "execution_count": 55,
   "metadata": {},
   "outputs": [
    {
     "name": "stdout",
     "output_type": "stream",
     "text": [
      "\n",
      "==================================================\n",
      "🔄 Node: \u001b[1;36mchatbot\u001b[0m 🔄\n",
      "- - - - - - - - - - - - - - - - - - - - - - - - - \n",
      "\n",
      "==================================================\n",
      "🔄 Node: \u001b[1;36mtools\u001b[0m 🔄\n",
      "- - - - - - - - - - - - - - - - - - - - - - - - - \n",
      "{\"query\": \"테디노트란 무엇인가\", \"follow_up_questions\": null, \"answer\": null, \"images\": [], \"results\": [{\"url\": \"https://teddylee777.github.io/\", \"title\": \"테디노트\", \"content\": \"테디노트 Skip to primary navigation Skip to content Skip to footer 테디노트 데이터와 인공지능을 좋아하는 개발자 노트 poetry 의 거의 모든것 (튜토리얼) 지금부터 poetry 활용 튜토리얼을 살펴 보겠습니다. LangGraph Retrieval Agent는 언어 처리, AI 모델 통합, 데이터베이스 관리, 그래프 기반 데이터 처리 등 다양한 기능을 제공하여 언어 기반 AI 애플리케이션 개발에 필수적인 도구입니다. 본 튜토리얼은 OpenAI Assistants API를 활용하는 내용을 다룹니다. [LangChain] 에이전트(Agent)와 도구(tools)를 활용한 지능형 검색 시스템 구축 가이드 이 글에서는 LangChain 의 Agent 프레임워크를 활용하여 복잡한 검색과 데이터 처리 작업을 수행하는 방법을 소개합니다. LangChain을 활용하여 간단하게 네이버 뉴스기사를 바탕으로 Q&A 애플리케이션을 만드는 방법을 다룹니다. LangChain Expression Language(LCEL) 원리 이해와 파이프라인 구축 가이드 이 블로그 글에서는 LangChain Expression Language(LCEL) 원리 이해와 LCEL 에 기반한 파이프라인 구축의 기본을 소개합니다. © 2024 테디노트.\", \"score\": 0.5968332, \"raw_content\": null}, {\"url\": \"https://www.youtube.com/channel/UCt2wAAXgm87ACiQnDHQEW6Q\", \"title\": \"테디노트 TeddyNote\", \"content\": \"데이터 분석, 머신러닝, 딥러닝, LLM 에 대한 내용을 다룹니다. 연구보다는 개발에 관심이 많습니다 ‍♂️ ...more 데이터 분석, 머신러닝, 딥러닝, LLM 에 대한 내용을\", \"score\": 0.58408195, \"raw_content\": null}], \"response_time\": 1.29, \"request_id\": \"dcdc8058-6dd9-4cc7-baf1-511dc9886299\"}\n",
      "==================================================\n",
      "🔄 Node: \u001b[1;36mchatbot\u001b[0m 🔄\n",
      "- - - - - - - - - - - - - - - - - - - - - - - - - \n",
      "테디노트(TeddyNote)는 데이터와 인공지능(AI)에 관심이 많은 개발자가 운영하는 블로그 및 유튜브 채널입니다. 주요 내용은 다음과 같습니다.\n",
      "\n",
      "- 데이터 분석, 머신러닝, 딥러닝, LLM(대형 언어 모델) 등 인공지능 관련 기술과 개발에 대한 실용적인 정보를 다룹니다.\n",
      "- 블로그(테디노트)에서는 Python, LangChain, OpenAI API, 데이터베이스, 검색 시스템 구축 등 다양한 AI 개발 튜토리얼과 실습 가이드를 제공합니다.\n",
      "- 유튜브 채널(테디노트 TeddyNote)에서도 데이터 분석, 머신러닝, 딥러닝, LLM 등 실무 중심의 개발 내용을 영상으로 소개합니다.\n",
      "\n",
      "즉, 테디노트는 AI와 데이터 분야의 실무 개발자나 학습자를 위한 실용적인 정보와 튜토리얼을 제공하는 플랫폼입니다.\n",
      "\n",
      "자세한 내용은 테디노트 블로그(https://teddylee777.github.io/)와 유튜브 채널(테디노트 TeddyNote)에서 확인할 수 있습니다."
     ]
    }
   ],
   "source": [
    "time_travel_config = RunnableConfig(configurable={\"thread_id\": \"time-travel-1\"})\n",
    "\n",
    "# 첫 번째 대화\n",
    "stream_graph(\n",
    "    time_travel_graph,\n",
    "    inputs={\"messages\": [HumanMessage(content=\"테디노트에 대해서 조사 좀 해주세요.\")]},\n",
    "    config=time_travel_config,\n",
    ")"
   ]
  },
  {
   "cell_type": "code",
   "execution_count": 56,
   "metadata": {},
   "outputs": [
    {
     "name": "stdout",
     "output_type": "stream",
     "text": [
      "\n",
      "==================================================\n",
      "🔄 Node: \u001b[1;36mchatbot\u001b[0m 🔄\n",
      "- - - - - - - - - - - - - - - - - - - - - - - - - \n",
      "\n",
      "==================================================\n",
      "🔄 Node: \u001b[1;36mtools\u001b[0m 🔄\n",
      "- - - - - - - - - - - - - - - - - - - - - - - - - \n",
      "{\"query\": \"테디노트 온라인 강의 주소\", \"follow_up_questions\": null, \"answer\": null, \"images\": [], \"results\": [{\"url\": \"https://wikidocs.net/book/16865\", \"title\": \"테디노트의 RAG 비법노트 : RAG 시작하기 - WikiDocs - 위키독스\", \"content\": \"4.    본 저작물은 개인 학습 및 비상업적 목적으로만 이용하여야 하며, 본 저작물을 강의, 강연 등 상업적 목적으로 활용하고자 하는 경우, 저작권자와의 사전 서면 협의가 필수적으로 요구됩니다. 해당 협의는 help@fastcampus.co.kr으로 문의하여 진행하실 수 있습니다.\\n\\n주식회사 데이원컴퍼니는 저작권을 적극 보호하며, 위반 시 법적 책임을 물을 수 있습니다.\\n```\\n\\n최근 수정글 (10))RSS\\n\\nRAG 시작하기(LangChain 랭체인 비법노트) - 2025년 3월 18일 1:07 오후 \\n\\n이 책의 내용은 패스트캠퍼스의 온라인 강의 < 테디노트의 RAG 비법노트 : 랭체인을 활용한 GPT부터 로컬 모델까지의 RAG 가이드 > 중 …\\n\\n[08. [프로젝트] 더 나은 답변을 위한 프롬프트 조정하기(출처, 표)]( - 2024년 11월 4일 9:44 오후 [...] 위키독스의 < RAG 비법노트 : RAG 시작하기 > 는 패스트캠퍼스의 온라인 강의 < 테디노트의 RAG 비법노트 : 랭체인을 활용한 GPT부터 로컬 모델까지의 RAG 가이드 > 중 챕터 3의 내용을 무료 공개하고 있습니다. RAG에 대한 고급 내용이나 다양한 실습 프로젝트는 유료 온라인 강의에서만 확인할 수 있습니다. \\n\\n🔽 RAG 강의 바로가기 (이미지 클릭) 🔽Image 3  결제 시 ‘쿠폰 코드’ 입력란에 [RAG비법노트]를 입력하시면 할인이 적용됩니다\\n\\n  쿠폰 사용 기간: 2026년 3월 10일 23:59분\\n\\nLICENSE\\n-------\\n\\n### 인용 및 출처 표기\\n\\n본 저작물을 블로그, 유튜브 등 온라인 매체에 인용하여 게재할 경우, Creative Commons Attribution-NonCommercial-NoDerivs 2.0 Korea 라이선스에 따라 반드시 출처를 명시해야 합니다. 상업적 사용에 대한 사전 협의 필수\", \"score\": 0.5504388, \"raw_content\": null}, {\"url\": \"https://teddylee777.github.io/lectures/\", \"title\": \"강의 - 테디노트\", \"content\": \"데이터 분석/대시보드 제작 그리고 머신러닝 모델을 배포해서 서비스화 시키는 과정입니다😊\\n\\n   파이썬 기본 문법만 알고 계신다면 부담 없이 도전해 보실 수 있어요 🥰\\n\\n📌 VOD 강의 링크\\n\\n   인프런 강의 상세내용 보러가기\\n\\n❤️ 테디노트 유튜브(YouTube)Permalink\\n----------------------------------------------------------------------------------------------------------------------------------------------------------------------\\n\\nImage 6\\n\\n그 밖에도 다양한 주제로 강의 영상을 유튜브(YouTube) 채널에 업로드 하고 있어요\\n\\n유튜브 채널에서 \\n```plaintext\\n재생목록을 꼭 클릭\\n```\\n해 보세요! \\n```plaintext\\n주제별로 강의 영상\\n```\\n을 시리즈로 모아 놓았어요😊 [...] 강의 - 테디노트\\n\\n===============\\n\\n   Skip to primary navigation\\n   Skip to content\\n   Skip to footer\\n\\n테디노트 데이터와 인공지능을 좋아하는 개발자 노트\\n   검색\\n   카테고리\\n   태그\\n   연도\\n   강의\\n   어바웃미\\n\\n토글 메뉴\\n\\n1.   Home\\n/2.   강의\\n\\n🔥알림🔥\\n\\n ① 테디노트 유튜브 - 구경하러 가기!\\n\\n ② LangChain 한국어 튜토리얼바로가기 👀\\n\\n ③ 랭체인 노트 무료 전자책(wikidocs) 바로가기 🙌\\n\\n ④ RAG 비법노트 LangChain 강의오픈바로가기 🙌\\n\\n ⑤ 서울대 PyTorch 딥러닝 강의바로가기 🙌\\n\\n강의\\n=============================================\\n\\n#### 강의 목록 [...] 그 밖에 실습파일, 블로그, 논문 등도 잘 정리해 두었으니, 지나가다 쓱 들러보세요😊\\n\\n👀 (주의) 내용이 무척 많으니, 다 습득하려 하지 마시고, 모르는 내용만 발췌해서 보세요\\n\\n📌 지금 당장 혼공 하러가기\\n\\n#### 공유하기\\n\\nTwitterFacebookLinkedIn\\n\\n#### 댓글남기기\\n\\n   팔로우:\\n   YouTube\\n   GitHub\\n   Instagram\\n   피드\\n\\n© 2024 테디노트. Powered by Jekyll&Minimal Mistakes.\", \"score\": 0.5221784, \"raw_content\": null}], \"response_time\": 1.06, \"request_id\": \"6e5a38fa-e950-4668-983e-df1e36e914f5\"}\n",
      "==================================================\n",
      "🔄 Node: \u001b[1;36mchatbot\u001b[0m 🔄\n",
      "- - - - - - - - - - - - - - - - - - - - - - - - - \n",
      "테디노트의 온라인 강의는 아래 링크에서 확인할 수 있습니다.\n",
      "\n",
      "1. 테디노트 공식 강의 페이지: \n",
      "- https://teddylee777.github.io/lectures/\n",
      "여기서 인프런, 유튜브 등 다양한 플랫폼의 강의와 실습 자료, 강의 목록을 확인할 수 있습니다.\n",
      "\n",
      "2. 패스트캠퍼스 RAG 비법노트 강의:\n",
      "- https://wikidocs.net/book/16865\n",
      "이 페이지에서는 테디노트가 진행하는 \"RAG 비법노트 : 랭체인을 활용한 GPT부터 로컬 모델까지의 RAG 가이드\" 온라인 강의와 관련된 정보를 볼 수 있습니다.\n",
      "\n",
      "이 외에도 테디노트 유튜브 채널에서도 다양한 무료 강의 영상을 시청할 수 있습니다."
     ]
    }
   ],
   "source": [
    "# 두 번째 대화\n",
    "stream_graph(\n",
    "    time_travel_graph,\n",
    "    inputs={\n",
    "        \"messages\": [\n",
    "            HumanMessage(content=\"테디노트 온라인 강의 주소를 조사해 해주세요.\")\n",
    "        ]\n",
    "    },\n",
    "    config=time_travel_config,\n",
    ")"
   ]
  },
  {
   "cell_type": "markdown",
   "metadata": {},
   "source": [
    "### 상태 히스토리 탐색"
   ]
  },
  {
   "cell_type": "code",
   "execution_count": 57,
   "metadata": {},
   "outputs": [
    {
     "name": "stdout",
     "output_type": "stream",
     "text": [
      "📜 상태 히스토리 (최신순):\n",
      "================================================================================\n",
      "\n",
      "[체크포인트 0]\n",
      "  다음 노드: ()\n",
      "  체크포인트 ID: 1f07a5eb-e330-637c-8008-71671e1c4d7b\n",
      "\n",
      "[체크포인트 1]\n",
      "  다음 노드: ('chatbot',)\n",
      "  체크포인트 ID: 1f07a5eb-d0be-60a4-8007-821c53f1220d\n",
      "\n",
      "[체크포인트 2]\n",
      "  다음 노드: ('tools',)\n",
      "  체크포인트 ID: 1f07a5eb-bfea-6fde-8006-d5bf2a5ad5b0\n",
      "  ⭐ 이 상태로 되돌아갈 예정\n",
      "    \u001b[93mcontent\u001b[0m: \"\"\n",
      "    \u001b[93madditional_kwargs\u001b[0m:\n",
      "        \u001b[94mtool_calls\u001b[0m:\n",
      "            \u001b[94mindex [0]\u001b[0m\n",
      "                \u001b[92mindex\u001b[0m: 0\n",
      "                \u001b[92mid\u001b[0m: \"call_wFNqW9j0jw4BZoSv15tiOhfv\"\n",
      "                \u001b[92mfunction\u001b[0m: {\"arguments\": \"{\"query\":\"테디노트 온라인 강의 주소\",\"search_depth\":\"advanced\"}\", \"name\": \"tavily_search\"}\n",
      "                \u001b[92mtype\u001b[0m: \"function\"\n",
      "    \u001b[93mresponse_metadata\u001b[0m: {\"finish_reason\": \"tool_calls\", \"model_name\": \"gpt-4.1-2025-04-14\", \"system_fingerprint\": \"fp_daf5fcc80a\", \"service_tier\": \"default\"}\n",
      "    \u001b[93mtype\u001b[0m: \"ai\"\n",
      "    \u001b[93mname\u001b[0m: None\n",
      "    \u001b[93mid\u001b[0m: \"run--6b7ef423-f326-49b8-96c9-eaf5f8fc446f\"\n",
      "    \u001b[93mexample\u001b[0m: False\n",
      "    \u001b[93mtool_calls\u001b[0m:\n",
      "        \u001b[93mindex [0]\u001b[0m\n",
      "            \u001b[95mname\u001b[0m: \"tavily_search\"\n",
      "            \u001b[95margs\u001b[0m: {\"query\": \"테디노트 온라인 강의 주소\", \"search_depth\": \"advanced\"}\n",
      "            \u001b[95mid\u001b[0m: \"call_wFNqW9j0jw4BZoSv15tiOhfv\"\n",
      "            \u001b[95mtype\u001b[0m: \"tool_call\"\n",
      "    \u001b[93minvalid_tool_calls\u001b[0m:\n",
      "    \u001b[93musage_metadata\u001b[0m: None\n",
      "\n",
      "[체크포인트 3]\n",
      "  다음 노드: ('chatbot',)\n",
      "  체크포인트 ID: 1f07a5eb-b2fe-6e7e-8005-3c3724d92254\n",
      "\n",
      "[체크포인트 4]\n",
      "  다음 노드: ('__start__',)\n",
      "  체크포인트 ID: 1f07a5eb-b2fb-6d3c-8004-72b7b77c0492\n",
      "\n",
      "[체크포인트 5]\n",
      "  다음 노드: ()\n",
      "  체크포인트 ID: 1f07a5eb-b2ec-679c-8003-2b38aff2389a\n",
      "\n",
      "[체크포인트 6]\n",
      "  다음 노드: ('chatbot',)\n",
      "  체크포인트 ID: 1f07a5eb-9999-689e-8002-c742acec7fc0\n",
      "\n",
      "[체크포인트 7]\n",
      "  다음 노드: ('tools',)\n",
      "  체크포인트 ID: 1f07a5eb-8601-696c-8001-69a109eb0408\n",
      "\n",
      "[체크포인트 8]\n",
      "  다음 노드: ('chatbot',)\n",
      "  체크포인트 ID: 1f07a5eb-7ced-6f6a-8000-e17523fa67a8\n",
      "\n",
      "[체크포인트 9]\n",
      "  다음 노드: ('__start__',)\n",
      "  체크포인트 ID: 1f07a5eb-7ceb-6418-bfff-8af3ce8a3e49\n",
      "\n",
      "================================================================================\n"
     ]
    }
   ],
   "source": [
    "# 전체 상태 히스토리 확인\n",
    "print(\"📜 상태 히스토리 (최신순):\")\n",
    "print(\"=\" * 80)\n",
    "\n",
    "# to_replay 변수 초기화\n",
    "to_replay = None\n",
    "\n",
    "for i, state in enumerate(time_travel_graph.get_state_history(time_travel_config)):\n",
    "    print(f\"\\n[체크포인트 {i}]\")\n",
    "    print(f\"  다음 노드: {state.next}\")\n",
    "    print(f\"  체크포인트 ID: {state.config['configurable']['checkpoint_id']}\")\n",
    "\n",
    "    if len(state.values[\"messages\"]) == 6 and to_replay is None:\n",
    "        print(\"  ⭐ 이 상태로 되돌아갈 예정\")\n",
    "        display_message_tree(state.values[\"messages\"][-1])\n",
    "        to_replay = state\n",
    "\n",
    "\n",
    "print(\"\\n\" + \"=\" * 80)"
   ]
  },
  {
   "cell_type": "markdown",
   "metadata": {},
   "source": [
    "### 특정 체크포인트에서 재개"
   ]
  },
  {
   "cell_type": "code",
   "execution_count": 58,
   "metadata": {},
   "outputs": [
    {
     "name": "stdout",
     "output_type": "stream",
     "text": [
      "    \u001b[93mcontent\u001b[0m: \"\"\n",
      "    \u001b[93madditional_kwargs\u001b[0m:\n",
      "        \u001b[94mtool_calls\u001b[0m:\n",
      "            \u001b[94mindex [0]\u001b[0m\n",
      "                \u001b[92mindex\u001b[0m: 0\n",
      "                \u001b[92mid\u001b[0m: \"call_wFNqW9j0jw4BZoSv15tiOhfv\"\n",
      "                \u001b[92mfunction\u001b[0m: {\"arguments\": \"{\"query\":\"테디노트 온라인 강의 주소\",\"search_depth\":\"advanced\"}\", \"name\": \"tavily_search\"}\n",
      "                \u001b[92mtype\u001b[0m: \"function\"\n",
      "    \u001b[93mresponse_metadata\u001b[0m: {\"finish_reason\": \"tool_calls\", \"model_name\": \"gpt-4.1-2025-04-14\", \"system_fingerprint\": \"fp_daf5fcc80a\", \"service_tier\": \"default\"}\n",
      "    \u001b[93mtype\u001b[0m: \"ai\"\n",
      "    \u001b[93mname\u001b[0m: None\n",
      "    \u001b[93mid\u001b[0m: \"run--6b7ef423-f326-49b8-96c9-eaf5f8fc446f\"\n",
      "    \u001b[93mexample\u001b[0m: False\n",
      "    \u001b[93mtool_calls\u001b[0m:\n",
      "        \u001b[93mindex [0]\u001b[0m\n",
      "            \u001b[95mname\u001b[0m: \"tavily_search\"\n",
      "            \u001b[95margs\u001b[0m: {\"query\": \"테디노트 온라인 강의 주소\", \"search_depth\": \"advanced\"}\n",
      "            \u001b[95mid\u001b[0m: \"call_wFNqW9j0jw4BZoSv15tiOhfv\"\n",
      "            \u001b[95mtype\u001b[0m: \"tool_call\"\n",
      "    \u001b[93minvalid_tool_calls\u001b[0m:\n",
      "    \u001b[93musage_metadata\u001b[0m: None\n"
     ]
    }
   ],
   "source": [
    "display_message_tree(to_replay.values[\"messages\"][-1])"
   ]
  },
  {
   "cell_type": "markdown",
   "metadata": {},
   "source": [
    "`update_tool_call` 을 활용하여 검색할 쿼리를 수정합니다."
   ]
  },
  {
   "cell_type": "code",
   "execution_count": 61,
   "metadata": {},
   "outputs": [],
   "source": [
    "from langchain_teddynote.tools import update_tool_call\n",
    "\n",
    "# 사용 예시:\n",
    "updated_message = update_tool_call(\n",
    "    to_replay.values[\"messages\"][-1],\n",
    "    tool_name=\"tavily_search\",\n",
    "    tool_args={\"query\": \"테디노트 강의 site:fastcampus.co.kr\", \"search_depth\": \"basic\"},\n",
    ")"
   ]
  },
  {
   "cell_type": "code",
   "execution_count": null,
   "metadata": {},
   "outputs": [
    {
     "name": "stdout",
     "output_type": "stream",
     "text": [
      "    \u001b[93mcontent\u001b[0m: \"\"\n",
      "    \u001b[93madditional_kwargs\u001b[0m:\n",
      "        \u001b[94mtool_calls\u001b[0m:\n",
      "            \u001b[94mindex [0]\u001b[0m\n",
      "                \u001b[92mindex\u001b[0m: 0\n",
      "                \u001b[92mid\u001b[0m: \"call_wFNqW9j0jw4BZoSv15tiOhfv\"\n",
      "                \u001b[92mfunction\u001b[0m: {\"arguments\": \"{\"query\": \"테디노트 강의 site:fastcampus.co.kr\", \"search_depth\": \"basic\"}\", \"name\": \"tavily_search\"}\n",
      "                \u001b[92mtype\u001b[0m: \"function\"\n",
      "    \u001b[93mresponse_metadata\u001b[0m: {\"finish_reason\": \"tool_calls\", \"model_name\": \"gpt-4.1-2025-04-14\", \"system_fingerprint\": \"fp_daf5fcc80a\", \"service_tier\": \"default\"}\n",
      "    \u001b[93mtype\u001b[0m: \"ai\"\n",
      "    \u001b[93mname\u001b[0m: None\n",
      "    \u001b[93mid\u001b[0m: \"run--6b7ef423-f326-49b8-96c9-eaf5f8fc446f\"\n",
      "    \u001b[93mexample\u001b[0m: False\n",
      "    \u001b[93mtool_calls\u001b[0m:\n",
      "        \u001b[93mindex [0]\u001b[0m\n",
      "            \u001b[95mname\u001b[0m: \"tavily_search\"\n",
      "            \u001b[95margs\u001b[0m: {\"query\": \"테디노트 온라인 강의 주소\", \"search_depth\": \"advanced\"}\n",
      "            \u001b[95mid\u001b[0m: \"call_wFNqW9j0jw4BZoSv15tiOhfv\"\n",
      "            \u001b[95mtype\u001b[0m: \"tool_call\"\n",
      "    \u001b[93minvalid_tool_calls\u001b[0m:\n",
      "    \u001b[93musage_metadata\u001b[0m: None\n"
     ]
    }
   ],
   "source": [
    "# 변경하기 전의 message\n",
    "display_message_tree(to_replay.values[\"messages\"][-1])"
   ]
  },
  {
   "cell_type": "code",
   "execution_count": null,
   "metadata": {},
   "outputs": [
    {
     "name": "stdout",
     "output_type": "stream",
     "text": [
      "    \u001b[93mcontent\u001b[0m: \"\"\n",
      "    \u001b[93madditional_kwargs\u001b[0m:\n",
      "        \u001b[94mtool_calls\u001b[0m:\n",
      "            \u001b[94mindex [0]\u001b[0m\n",
      "                \u001b[92mindex\u001b[0m: 0\n",
      "                \u001b[92mid\u001b[0m: \"call_wFNqW9j0jw4BZoSv15tiOhfv\"\n",
      "                \u001b[92mfunction\u001b[0m: {\"arguments\": \"{\"query\": \"테디노트 강의 site:fastcampus.co.kr\", \"search_depth\": \"basic\"}\", \"name\": \"tavily_search\"}\n",
      "                \u001b[92mtype\u001b[0m: \"function\"\n",
      "    \u001b[93mresponse_metadata\u001b[0m: {\"finish_reason\": \"tool_calls\", \"model_name\": \"gpt-4.1-2025-04-14\", \"system_fingerprint\": \"fp_daf5fcc80a\", \"service_tier\": \"default\"}\n",
      "    \u001b[93mtype\u001b[0m: \"ai\"\n",
      "    \u001b[93mname\u001b[0m: None\n",
      "    \u001b[93mid\u001b[0m: \"run--6b7ef423-f326-49b8-96c9-eaf5f8fc446f\"\n",
      "    \u001b[93mexample\u001b[0m: False\n",
      "    \u001b[93mtool_calls\u001b[0m:\n",
      "        \u001b[93mindex [0]\u001b[0m\n",
      "            \u001b[95mname\u001b[0m: \"tavily_search\"\n",
      "            \u001b[95margs\u001b[0m: {\"query\": \"테디노트 강의 site:fastcampus.co.kr\", \"search_depth\": \"basic\"}\n",
      "            \u001b[95mid\u001b[0m: \"call_wFNqW9j0jw4BZoSv15tiOhfv\"\n",
      "            \u001b[95mtype\u001b[0m: \"tool_call\"\n",
      "    \u001b[93minvalid_tool_calls\u001b[0m:\n",
      "    \u001b[93musage_metadata\u001b[0m: None\n"
     ]
    }
   ],
   "source": [
    "# 변경한 이후의 메시지 트리\n",
    "display_message_tree(updated_message)"
   ]
  },
  {
   "cell_type": "code",
   "execution_count": null,
   "metadata": {},
   "outputs": [],
   "source": [
    "# 변경된 메시지를 update_state 로 업데이트\n",
    "updated_state = time_travel_graph.update_state(\n",
    "    values={\"messages\": [updated_message]}, config=to_replay.config\n",
    ")"
   ]
  },
  {
   "cell_type": "markdown",
   "metadata": {},
   "source": [
    "업데이트된 메시지를 스트리밍 합니다. 여기서 `inputs` 는 `None` 으로 주고, `config` 는 `updated_state` 로 주어 Replay 합니다."
   ]
  },
  {
   "cell_type": "code",
   "execution_count": null,
   "metadata": {},
   "outputs": [
    {
     "name": "stdout",
     "output_type": "stream",
     "text": [
      "\n",
      "==================================================\n",
      "🔄 Node: \u001b[1;36mtools\u001b[0m 🔄\n",
      "- - - - - - - - - - - - - - - - - - - - - - - - - \n",
      "{\"query\": \"테디노트 강의 site:fastcampus.co.kr\", \"follow_up_questions\": null, \"answer\": null, \"images\": [], \"results\": [{\"url\": \"https://fastcampus.co.kr/data_online_teddylive\", \"title\": \"[Live] 테디노트의 월간 AI 핸즈온 : 테디클럽 - 패스트캠퍼스\", \"content\": \"\\\\* 본 상품은 동영상 형태의 강의를 수강하는 상품이며, 실시간 라이브는 자율적으로 참여 하실 수 있습니다. \\\\* 라이브는 25년 7월부터 26년 6월까지 매월 마지막주 진행 예정이나, 정확한 일정은 당사 사정에 따라 변경될 수 있습니다. 본 패키지는 약 **70**시간 분량으로, 일 1시간 내외의 학습 시간을 통해 정상 수강 기간(=유료 수강 기간) 내에 모두 수강이 가능합니다. 수강시작 후 7일 이내, 5강 미만 수강 시에는 100% 환불 가능합니다. 수강시작 후 7일 이내, 5강 이상 수강 시 전체 강의에서 수강한 강의의 비율에 해당하는 수강료를 차감 후 환불 가능합니다. 수강시작 후 7일 초과 시 **정상 수강기간 \\\"90일\\\" 대비** 잔여일에 대해 아래 환불규정에 따라 환불 가능합니다. 패스트캠퍼스 온라인 강의 시청을 위해서는 ID별 최대 4개의 기기를 등록할 수 있으며, 기기 등록은 온라인 강의장 접속 시 자동 등록됩니다.\", \"score\": 0.68344116, \"raw_content\": null}, {\"url\": \"https://fastcampus.co.kr/category_online_aitechrag\", \"title\": \"커리어 성장을 위한 최고의 실무교육 아카데미 - 패스트캠퍼스\", \"content\": \"[Live] 테디노트의 월간 AI 핸즈온 : 테디클럽. 기간한정약 70시간누구나. 50 ... 강의 두개 골라 무조건 33만. 파인튜닝/GPU/RAG/AGENT 핵심 스택 강의 120만 원\", \"score\": 0.6356076, \"raw_content\": null}], \"response_time\": 1.08, \"request_id\": \"1c3b4b3c-6119-4ce5-97f3-9371a9ddde16\"}\n",
      "==================================================\n",
      "🔄 Node: \u001b[1;36mchatbot\u001b[0m 🔄\n",
      "- - - - - - - - - - - - - - - - - - - - - - - - - \n",
      "테디노트의 온라인 강의는 패스트캠퍼스(FastCampus)에서 수강할 수 있습니다. 대표적인 강의는 다음과 같습니다.\n",
      "\n",
      "- [테디노트의 월간 AI 핸즈온 : 테디클럽 (패스트캠퍼스)](https://fastcampus.co.kr/data_online_teddylive)\n",
      "\n",
      "이 강의는 AI 실무와 관련된 다양한 주제를 월별로 다루는 핸즈온(실습) 중심의 온라인 강의입니다. 자세한 커리큘럼과 수강 방법은 위 링크에서 확인하실 수 있습니다."
     ]
    }
   ],
   "source": [
    "# 업데이트된 메시지를 스트리밍 합니다.\n",
    "stream_graph(time_travel_graph, inputs=None, config=updated_state)"
   ]
  }
 ],
 "metadata": {
  "kernelspec": {
   "display_name": ".venv",
   "language": "python",
   "name": "python3"
  },
  "language_info": {
   "codemirror_mode": {
    "name": "ipython",
    "version": 3
   },
   "file_extension": ".py",
   "mimetype": "text/x-python",
   "name": "python",
   "nbconvert_exporter": "python",
   "pygments_lexer": "ipython3",
   "version": "3.12.8"
  }
 },
 "nbformat": 4,
 "nbformat_minor": 4
}

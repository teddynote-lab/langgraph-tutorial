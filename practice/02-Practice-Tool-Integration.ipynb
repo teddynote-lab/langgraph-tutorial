{
 "cells": [
  {
   "cell_type": "markdown",
   "metadata": {},
   "source": [
    "## 도구 연동 연습 - Tavily 검색 도구를 활용한 제조 도메인 챗봇\n",
    "\n",
    "목표\n",
    "- Tavily Search API를 활용한 검색 도구를 그래프에 통합합니다.\n",
    "- 도구 호출 조건부 라우팅을 구현하여 검색이 필요한 경우 자동으로 도구를 사용합니다.\n",
    "- 제조업 관련 정보(스마트 팩토리, 산업 자동화 등)를 검색하고 답변하는 챗봇을 구축합니다.\n",
    "\n",
    "요구사항\n",
    "- `TavilySearch` 도구를 설정하고 LLM에 바인딩합니다.\n",
    "- 도구 호출이 필요한 경우 `tools` 노드로, 아니면 종료하는 조건부 라우팅을 구현합니다.\n",
    "- START → chatbot → 조건부 라우팅 → tools/END 경로를 구성합니다.\n",
    "- 제조업 관련 질문으로 테스트하여 검색 결과가 올바르게 반환되는지 확인합니다."
   ]
  },
  {
   "cell_type": "code",
   "execution_count": null,
   "metadata": {},
   "outputs": [],
   "source": [
    "from dotenv import load_dotenv\n",
    "from langchain_teddynote import logging\n",
    "\n",
    "load_dotenv(override=True)\n",
    "\n",
    "# 프로젝트 이름\n",
    "logging.langsmith(\"LangGraph-Tool-Integration\")"
   ]
  },
  {
   "cell_type": "code",
   "execution_count": null,
   "metadata": {},
   "outputs": [],
   "source": [
    "# 준비 코드\n",
    "from typing import Annotated\n",
    "from typing_extensions import TypedDict\n",
    "\n",
    "from langchain_openai import ChatOpenAI\n",
    "from langchain_tavily import TavilySearch\n",
    "from langchain_core.messages import HumanMessage, AIMessage\n",
    "from langgraph.graph import StateGraph, START, END\n",
    "from langgraph.graph.message import add_messages\n",
    "from langgraph.prebuilt import ToolNode, tools_condition"
   ]
  },
  {
   "cell_type": "markdown",
   "metadata": {},
   "source": [
    "### 1. State 및 LLM 모델 정의\n",
    "\n",
    "- `State` TypedDict에 `messages: Annotated[list, add_messages]`를 정의하세요.\n",
    "- ChatOpenAI 모델을 생성하세요. (model=\"gpt-4o-mini\", temperature=0)"
   ]
  },
  {
   "cell_type": "code",
   "execution_count": null,
   "metadata": {},
   "outputs": [],
   "source": [
    "# 실습 코드\n",
    "# TODO: State 클래스를 정의하세요.\n",
    "class State(TypedDict):\n",
    "    messages: # 코드 입력\n",
    "\n",
    "# TODO: LLM 모델을 생성하세요.\n",
    "llm = # 코드 입력"
   ]
  },
  {
   "cell_type": "code",
   "execution_count": null,
   "metadata": {},
   "outputs": [],
   "source": [
    "# 정답 코드\n",
    "# TODO: State 클래스를 정의하세요.\n",
    "class State(TypedDict):\n",
    "    messages: Annotated[list, add_messages]\n",
    "\n",
    "\n",
    "# TODO: LLM 모델을 생성하세요.\n",
    "llm = ChatOpenAI(model=\"gpt-4.1-mini\", temperature=0)"
   ]
  },
  {
   "cell_type": "markdown",
   "metadata": {},
   "source": [
    "### 2. Tavily 검색 도구 설정\n",
    "\n",
    "- TavilySearch 도구를 생성하세요. (max_results=3)\n",
    "- 도구를 리스트로 만들고 LLM에 바인딩하세요.\n",
    "- 간단한 테스트로 \"스마트 팩토리 최신 동향\"을 검색해보세요."
   ]
  },
  {
   "cell_type": "code",
   "execution_count": null,
   "metadata": {},
   "outputs": [],
   "source": [
    "# 실습 코드\n",
    "# TODO: Tavily 검색 도구를 생성하세요.\n",
    "tavily_tool = # 코드 입력\n",
    "tools = # 코드 입력\n",
    "\n",
    "# TODO: LLM에 도구를 바인딩하세요.\n",
    "llm_with_tools = # 코드 입력\n",
    "\n",
    "# TODO: 도구 테스트 - \"스마트 팩토리 최신 동향\" 검색\n",
    "test_result = # 코드 입력\n",
    "print(f\"검색 결과 수: {len(test_result['results'])}개\")"
   ]
  },
  {
   "cell_type": "code",
   "execution_count": null,
   "metadata": {},
   "outputs": [],
   "source": [
    "# 정답 코드\n",
    "# TODO: Tavily 검색 도구를 생성하세요.\n",
    "tavily_tool = TavilySearch(max_results=3)\n",
    "tools = [tavily_tool]\n",
    "\n",
    "# TODO: LLM에 도구를 바인딩하세요.\n",
    "llm_with_tools = llm.bind_tools(tools)\n",
    "\n",
    "# TODO: 도구 테스트 - \"스마트 팩토리 최신 동향\" 검색\n",
    "test_result = tavily_tool.invoke(\"스마트 팩토리 최신 동향\")\n",
    "print(f\"검색 결과 수: {len(test_result['results'])}개\")"
   ]
  },
  {
   "cell_type": "markdown",
   "metadata": {},
   "source": [
    "### 3. Chatbot 노드 구현\n",
    "\n",
    "- 도구가 바인딩된 LLM을 사용하여 chatbot 노드를 구현하세요.\n",
    "- state의 messages를 받아 응답을 반환합니다.\n",
    "- 반환 형식은 {\"messages\": [response]} 입니다."
   ]
  },
  {
   "cell_type": "code",
   "execution_count": null,
   "metadata": {},
   "outputs": [],
   "source": [
    "# 실습 코드\n",
    "# TODO: chatbot 노드를 구현하세요.\n",
    "def chatbot(state: State):\n",
    "    response = # 코드 입력\n",
    "    return # 코드 입력"
   ]
  },
  {
   "cell_type": "code",
   "execution_count": null,
   "metadata": {},
   "outputs": [],
   "source": [
    "# 정답 코드\n",
    "# TODO: chatbot 노드를 구현하세요.\n",
    "def chatbot(state: State):\n",
    "    response = llm_with_tools.invoke(state[\"messages\"])\n",
    "    return {\"messages\": [response]}"
   ]
  },
  {
   "cell_type": "markdown",
   "metadata": {},
   "source": [
    "### 4. 그래프 구성 및 조건부 라우팅\n",
    "\n",
    "- StateGraph를 생성하고 노드들을 추가하세요.\n",
    "- chatbot 노드와 ToolNode를 추가합니다.\n",
    "- chatbot에서 조건부 라우팅을 설정합니다 (tools_condition 사용).\n",
    "- tools 노드는 다시 chatbot으로 연결됩니다."
   ]
  },
  {
   "cell_type": "code",
   "execution_count": null,
   "metadata": {},
   "outputs": [],
   "source": [
    "# 실습 코드\n",
    "# TODO: 그래프를 구성하세요.\n",
    "builder = # 코드 입력\n",
    "\n",
    "# TODO: 노드들을 추가하세요.\n",
    "builder.add_node(# 코드 입력)\n",
    "builder.add_node(# 코드 입력)\n",
    "\n",
    "# TODO: 엣지를 추가하세요.\n",
    "builder.add_edge(# 코드 입력)\n",
    "builder.add_conditional_edges(# 코드 입력)\n",
    "builder.add_edge(# 코드 입력)\n",
    "\n",
    "# TODO: 그래프를 컴파일하세요.\n",
    "app = # 코드 입력"
   ]
  },
  {
   "cell_type": "code",
   "execution_count": null,
   "metadata": {},
   "outputs": [],
   "source": [
    "# 정답 코드\n",
    "# TODO: 그래프를 구성하세요.\n",
    "builder = StateGraph(State)\n",
    "\n",
    "# TODO: 노드들을 추가하세요.\n",
    "builder.add_node(\"chatbot\", chatbot)\n",
    "builder.add_node(\"tools\", ToolNode(tools))\n",
    "\n",
    "# TODO: 엣지를 추가하세요.\n",
    "builder.add_edge(START, \"chatbot\")\n",
    "builder.add_conditional_edges(\"chatbot\", tools_condition)\n",
    "builder.add_edge(\"tools\", \"chatbot\")\n",
    "\n",
    "# TODO: 그래프를 컴파일하세요.\n",
    "app = builder.compile()"
   ]
  },
  {
   "cell_type": "markdown",
   "metadata": {},
   "source": [
    "### 5. 그래프 시각화 및 실행\n",
    "\n",
    "- 컴파일된 그래프를 시각화하세요.\n",
    "- 제조업 관련 질문으로 그래프를 실행하고 결과를 확인하세요.\n",
    "- 예시: \"한국의 산업용 로봇 시장 현황과 주요 기업은?\""
   ]
  },
  {
   "cell_type": "code",
   "execution_count": null,
   "metadata": {},
   "outputs": [],
   "source": [
    "# 실습 코드\n",
    "# TODO: 그래프를 시각화하세요.\n",
    "from langchain_teddynote.graphs import visualize_graph\n",
    "\n",
    "# 코드 입력"
   ]
  },
  {
   "cell_type": "code",
   "execution_count": null,
   "metadata": {},
   "outputs": [],
   "source": [
    "# 정답 코드\n",
    "# TODO: 그래프를 시각화하세요.\n",
    "from langchain_teddynote.graphs import visualize_graph\n",
    "\n",
    "visualize_graph(app)"
   ]
  },
  {
   "cell_type": "code",
   "execution_count": null,
   "metadata": {},
   "outputs": [],
   "source": [
    "# 실습 코드\n",
    "# TODO: 제조업 관련 질문으로 실행하세요.\n",
    "from langchain_teddynote.messages import stream_graph\n",
    "from langchain_core.runnables import RunnableConfig\n",
    "\n",
    "config = RunnableConfig(recursion_limit=10)\n",
    "\n",
    "inputs = {\n",
    "    \"messages\": [\n",
    "        # 코드 입력: HumanMessage로 질문 작성\n",
    "    ]\n",
    "}\n",
    "\n",
    "# 코드 입력: stream_graph로 실행"
   ]
  },
  {
   "cell_type": "code",
   "execution_count": null,
   "metadata": {},
   "outputs": [],
   "source": [
    "# 정답 코드\n",
    "# TODO: 제조업 관련 질문으로 실행하세요.\n",
    "from langchain_teddynote.messages import stream_graph\n",
    "from langchain_core.runnables import RunnableConfig\n",
    "\n",
    "config = RunnableConfig(recursion_limit=10)\n",
    "\n",
    "inputs = {\n",
    "    \"messages\": [HumanMessage(content=\"한국의 산업용 로봇 시장 현황과 주요 기업은?\")]\n",
    "}\n",
    "\n",
    "stream_graph(app, inputs=inputs, config=config)"
   ]
  },
  {
   "cell_type": "markdown",
   "metadata": {},
   "source": [
    "### 추가 연습\n",
    "\n",
    "다음 제조업 관련 질문들로 챗봇을 테스트해보세요:\n",
    "- \"스마트 팩토리 구축에 필요한 핵심 기술은?\"\n",
    "- \"최신 제조업 자동화 트렌드와 AI 활용 사례는?\"\n",
    "- \"글로벌 제조업 디지털 전환 성공 사례를 알려줘\""
   ]
  }
 ],
 "metadata": {
  "kernelspec": {
   "display_name": ".venv",
   "language": "python",
   "name": "python3"
  },
  "language_info": {
   "codemirror_mode": {
    "name": "ipython",
    "version": 3
   },
   "file_extension": ".py",
   "mimetype": "text/x-python",
   "name": "python",
   "nbconvert_exporter": "python",
   "pygments_lexer": "ipython3",
   "version": "3.12.8"
  }
 },
 "nbformat": 4,
 "nbformat_minor": 4
}

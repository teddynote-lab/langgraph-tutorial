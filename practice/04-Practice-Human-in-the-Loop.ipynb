{
 "cells": [
  {
   "cell_type": "markdown",
   "metadata": {},
   "source": [
    "## Part 4. Human in the Loop 실습 - 이메일 회신 챗봇\n",
    "\n",
    "목표\n",
    "- 고객사로부터 받은 이메일에 대한 회신을 작성하는 챗봇을 구현합니다.\n",
    "- 챗봇이 작성한 초안을 사람이 검토하고 승인/수정할 수 있는 Human-in-the-Loop 시스템을 구축합니다.\n",
    "- interrupt와 Command를 활용하여 실행을 제어합니다.\n",
    "\n",
    "시나리오\n",
    "- 고객사(TechCorp)로부터 제품 문의 이메일이 도착했습니다.\n",
    "- 챗봇이 자동으로 회신 초안을 작성합니다.\n",
    "- 담당자가 초안을 검토하여 승인 또는 수정 요청을 합니다.\n",
    "- 최종 승인된 이메일이 발송됩니다.\n",
    "\n",
    "샘플 이메일\n",
    "```\n",
    "보내는 사람: kim@techcorp.com\n",
    "제목: AI 솔루션 도입 문의\n",
    "\n",
    "안녕하세요,\n",
    "\n",
    "저희 회사에서 고객 서비스 자동화를 위한 AI 솔루션 도입을 검토하고 있습니다.\n",
    "귀사의 LangGraph 기반 솔루션에 대해 다음 사항을 문의드립니다:\n",
    "\n",
    "1. 기업용 라이선스 가격\n",
    "2. 기술 지원 범위\n",
    "3. 커스터마이징 가능 여부\n",
    "4. 도입 사례\n",
    "\n",
    "빠른 회신 부탁드립니다.\n",
    "\n",
    "감사합니다.\n",
    "김철수 부장\n",
    "TechCorp\n",
    "```"
   ]
  },
  {
   "cell_type": "code",
   "execution_count": null,
   "metadata": {},
   "outputs": [],
   "source": [
    "from dotenv import load_dotenv\n",
    "from langchain_teddynote import logging\n",
    "\n",
    "load_dotenv(override=True)\n",
    "\n",
    "# 프로젝트 이름\n",
    "logging.langsmith(\"LangGraph-Exercises\")"
   ]
  },
  {
   "cell_type": "code",
   "execution_count": null,
   "metadata": {},
   "outputs": [],
   "source": [
    "# 준비 코드\n",
    "from typing import Annotated, Literal\n",
    "from typing_extensions import TypedDict\n",
    "\n",
    "from langchain_openai import ChatOpenAI\n",
    "from langchain_core.messages import HumanMessage, AIMessage, SystemMessage\n",
    "from langgraph.graph import StateGraph, START, END\n",
    "from langgraph.graph.message import add_messages\n",
    "from langgraph.checkpoint.memory import InMemorySaver\n",
    "from langgraph.types import Command, interrupt"
   ]
  },
  {
   "cell_type": "markdown",
   "metadata": {},
   "source": [
    "### 1. State 정의 및 모델 설정\n",
    "\n",
    "- 이메일 회신 챗봇을 위한 State를 정의하세요.\n",
    "- State에는 messages, email_draft, approval_status가 포함되어야 합니다.\n",
    "- ChatOpenAI 모델(gpt-4.1, temperature=0.3)을 생성하세요."
   ]
  },
  {
   "cell_type": "code",
   "execution_count": null,
   "metadata": {},
   "outputs": [],
   "source": [
    "# 실습 코드\n",
    "# TODO: State를 정의하세요. messages, email_draft, approval_status, human_feedback 필드를 포함해야 합니다.\n",
    "\n",
    "class EmailState(TypedDict):\n",
    "    messages: # 코드 입력: add_messages 사용\n",
    "    email_draft: # 코드 입력: str 타입\n",
    "    approval_status: # 코드 입력: Literal[\"pending\", \"approved\", \"rejected\"] 타입\n",
    "    human_feedback: # 코드 입력: str 타입 (수정 요청 피드백 저장)\n",
    "\n",
    "# TODO: LLM 모델을 정의하세요.\n",
    "llm = # 코드 입력"
   ]
  },
  {
   "cell_type": "code",
   "execution_count": null,
   "metadata": {},
   "outputs": [],
   "source": [
    "# 정답 코드\n",
    "# TODO: State를 정의하세요. messages, email_draft, approval_status, human_feedback 필드를 포함해야 합니다.\n",
    "\n",
    "\n",
    "class EmailState(TypedDict):\n",
    "    messages: Annotated[list, add_messages]\n",
    "    email_draft: str\n",
    "    approval_status: Literal[\"pending\", \"approved\", \"rejected\"]\n",
    "    human_feedback: str  # 수정 요청 피드백 저장\n",
    "\n",
    "\n",
    "# TODO: LLM 모델을 정의하세요.\n",
    "llm = ChatOpenAI(model=\"gpt-4.1\", temperature=0.3)"
   ]
  },
  {
   "cell_type": "markdown",
   "metadata": {},
   "source": [
    "### 2. 이메일 초안 작성 노드\n",
    "\n",
    "- 받은 이메일을 분석하고 회신 초안을 작성하는 노드를 구현하세요.\n",
    "- 시스템 프롬프트를 활용하여 전문적이고 친근한 톤으로 작성하도록 지시하세요.\n",
    "- email_draft와 approval_status를 \"pending\"으로 설정하여 반환하세요."
   ]
  },
  {
   "cell_type": "code",
   "execution_count": null,
   "metadata": {},
   "outputs": [],
   "source": [
    "# 실습 코드\n",
    "# TODO: 이메일 초안을 작성하는 노드를 구현하세요.\n",
    "\n",
    "def draft_email(state: EmailState):\n",
    "    \"\"\"받은 이메일에 대한 회신 초안을 작성합니다.\"\"\"\n",
    "    \n",
    "    # 시스템 프롬프트 설정\n",
    "    system_prompt = # 코드 입력: 이메일 회신 작성 지시\n",
    "    \n",
    "    # human_feedback이 있으면 프롬프트에 추가\n",
    "    if state.get(\"human_feedback\"):\n",
    "        system_prompt += # 코드 입력: feedback 반영 지시 추가\n",
    "    \n",
    "    # 메시지 구성\n",
    "    messages = # 코드 입력: SystemMessage와 state의 messages 결합\n",
    "    \n",
    "    # LLM으로 초안 생성\n",
    "    response = # 코드 입력\n",
    "    \n",
    "    return {\n",
    "        # 코드 입력: email_draft와 approval_status 반환\n",
    "    }"
   ]
  },
  {
   "cell_type": "code",
   "execution_count": null,
   "metadata": {},
   "outputs": [],
   "source": [
    "# 정답 코드\n",
    "# TODO: 이메일 초안을 작성하는 노드를 구현하세요.\n",
    "\n",
    "\n",
    "def draft_email(state: EmailState):\n",
    "    \"\"\"받은 이메일에 대한 회신 초안을 작성합니다.\"\"\"\n",
    "\n",
    "    # 시스템 프롬프트 설정\n",
    "    system_prompt = \"\"\"당신은 전문적인 비즈니스 이메일 작성 도우미입니다.\n",
    "    고객의 문의에 대해 친절하고 전문적으로 답변하세요.\n",
    "    구체적인 정보를 제공하되, 과도한 약속은 피하세요.\n",
    "    회신 이메일만 작성하고, 다른 설명은 포함하지 마세요.\"\"\"\n",
    "\n",
    "    # human_feedback이 있으면 프롬프트에 추가\n",
    "    if state.get(\"human_feedback\"):\n",
    "        system_prompt += f\"\\n\\n[중요] 다음 피드백을 반영하여 이메일을 재작성하세요: {state['human_feedback']}\"\n",
    "\n",
    "    # 메시지 구성\n",
    "    messages = [SystemMessage(content=system_prompt)] + state[\"messages\"]\n",
    "\n",
    "    # LLM으로 초안 생성\n",
    "    response = llm.invoke(messages)\n",
    "\n",
    "    return {\"email_draft\": response.content, \"approval_status\": \"pending\"}"
   ]
  },
  {
   "cell_type": "markdown",
   "metadata": {},
   "source": [
    "### 3. Human Review 노드 구현\n",
    "\n",
    "- interrupt를 사용하여 사람의 검토를 요청하는 노드를 구현하세요.\n",
    "- 초안을 보여주고 승인/수정 요청을 받아 처리하세요.\n",
    "- Command 객체로 받은 피드백을 처리하여 상태를 업데이트하세요."
   ]
  },
  {
   "cell_type": "code",
   "execution_count": null,
   "metadata": {},
   "outputs": [],
   "source": [
    "# 실습 코드\n",
    "# TODO: Human Review 노드를 구현하세요.\n",
    "\n",
    "def human_review(state: EmailState):\n",
    "    \"\"\"사람의 검토를 요청하고 피드백을 받습니다.\"\"\"\n",
    "    \n",
    "    print(\"\\n===== 이메일 초안 검토 요청 =====\")\n",
    "    print(f\"\\n{state['email_draft']}\")\n",
    "    print(\"\\n================================\")\n",
    "    print(\"옵션: approve(승인) / reject(수정요청)\")\n",
    "    \n",
    "    # interrupt를 호출하여 사람의 입력 대기\n",
    "    human_input = # 코드 입력: interrupt 호출\n",
    "    \n",
    "    # 피드백 처리\n",
    "    if human_input.get(\"action\") == \"approve\":\n",
    "        return # 코드 입력: approval_status를 \"approved\"로 설정\n",
    "    else:\n",
    "        # 수정 요청시 피드백을 human_feedback에 저장\n",
    "        feedback = # 코드 입력: human_input에서 feedback 가져오기\n",
    "        return # 코드 입력: human_feedback과 approval_status를 \"rejected\"로 설정"
   ]
  },
  {
   "cell_type": "code",
   "execution_count": null,
   "metadata": {},
   "outputs": [],
   "source": [
    "# 정답 코드\n",
    "# TODO: Human Review 노드를 구현하세요.\n",
    "\n",
    "\n",
    "def human_review(state: EmailState):\n",
    "    \"\"\"사람의 검토를 요청하고 피드백을 받습니다.\"\"\"\n",
    "\n",
    "    print(\"\\n===== 이메일 초안 검토 요청 =====\")\n",
    "    print(f\"\\n{state['email_draft']}\")\n",
    "    print(\"\\n================================\")\n",
    "    print(\"옵션: approve(승인) / reject(수정요청)\")\n",
    "\n",
    "    # interrupt를 호출하여 사람의 입력 대기\n",
    "    human_input = interrupt({\"draft\": state[\"email_draft\"]})\n",
    "\n",
    "    # 피드백 처리\n",
    "    if human_input.get(\"action\") == \"approve\":\n",
    "        return {\"approval_status\": \"approved\"}\n",
    "    else:\n",
    "        # 수정 요청시 피드백을 human_feedback에 저장\n",
    "        feedback = human_input.get(\"feedback\", \"다시 작성해주세요.\")\n",
    "        return {\"human_feedback\": feedback, \"approval_status\": \"rejected\"}"
   ]
  },
  {
   "cell_type": "markdown",
   "metadata": {},
   "source": [
    "### 4. 조건부 라우팅 구현\n",
    "\n",
    "- approval_status에 따라 다음 노드를 결정하는 라우팅 함수를 구현하세요.\n",
    "- pending: human_review 노드로\n",
    "- approved: send_email 노드로\n",
    "- rejected: draft_email 노드로 (재작성)"
   ]
  },
  {
   "cell_type": "code",
   "execution_count": null,
   "metadata": {},
   "outputs": [],
   "source": [
    "# 실습 코드\n",
    "# TODO: 조건부 라우팅 함수를 구현하세요.\n",
    "\n",
    "def route_approval(state: EmailState) -> str:\n",
    "    \"\"\"승인 상태에 따라 다음 노드를 결정합니다.\"\"\"\n",
    "    status = # 코드 입력: state에서 approval_status 가져오기\n",
    "    \n",
    "    if status == \"pending\":\n",
    "        return # 코드 입력: \"human_review\" 반환\n",
    "    elif status == \"approved\":\n",
    "        return # 코드 입력: \"send_email\" 반환\n",
    "    else:  # rejected\n",
    "        return # 코드 입력: \"draft_email\" 반환\n",
    "\n",
    "# TODO: 이메일 발송 노드를 구현하세요.\n",
    "def send_email(state: EmailState):\n",
    "    \"\"\"최종 승인된 이메일을 발송합니다.\"\"\"\n",
    "    print(\"\\n✅ 이메일이 발송되었습니다!\")\n",
    "    print(f\"\\n{state['email_draft']}\")\n",
    "    return # 코드 입력: AIMessage로 발송 완료 메시지 반환"
   ]
  },
  {
   "cell_type": "code",
   "execution_count": null,
   "metadata": {},
   "outputs": [],
   "source": [
    "# 정답 코드\n",
    "# TODO: 조건부 라우팅 함수를 구현하세요.\n",
    "\n",
    "\n",
    "def route_approval(state: EmailState) -> str:\n",
    "    \"\"\"승인 상태에 따라 다음 노드를 결정합니다.\"\"\"\n",
    "    status = state.get(\"approval_status\", \"pending\")\n",
    "\n",
    "    if status == \"pending\":\n",
    "        return \"human_review\"\n",
    "    elif status == \"approved\":\n",
    "        return \"send_email\"\n",
    "    else:  # rejected\n",
    "        return \"draft_email\"\n",
    "\n",
    "\n",
    "# TODO: 이메일 발송 노드를 구현하세요.\n",
    "def send_email(state: EmailState):\n",
    "    \"\"\"최종 승인된 이메일을 발송합니다.\"\"\"\n",
    "    print(\"\\n✅ 이메일이 발송되었습니다!\")\n",
    "    print(f\"\\n{state['email_draft']}\")\n",
    "    return {\"messages\": [AIMessage(content=\"이메일이 성공적으로 발송되었습니다.\")]}"
   ]
  },
  {
   "cell_type": "markdown",
   "metadata": {},
   "source": [
    "### 5. 완전한 그래프 구성 및 실행\n",
    "\n",
    "- 모든 노드를 연결하여 완전한 그래프를 구성하세요.\n",
    "- checkpointer를 설정하여 상태를 저장할 수 있도록 하세요.\n",
    "- 샘플 이메일로 그래프를 실행하고 interrupt와 Command를 사용하여 상호작용하세요."
   ]
  },
  {
   "cell_type": "code",
   "execution_count": null,
   "metadata": {},
   "outputs": [],
   "source": [
    "# 실습 코드\n",
    "# TODO: 완전한 그래프를 구성하세요.\n",
    "\n",
    "# 그래프 빌더 생성\n",
    "builder = # 코드 입력: StateGraph 생성\n",
    "\n",
    "# 노드 추가\n",
    "builder.# 코드 입력: draft_email 노드 추가\n",
    "builder.# 코드 입력: human_review 노드 추가\n",
    "builder.# 코드 입력: send_email 노드 추가\n",
    "\n",
    "# 엣지 추가\n",
    "builder.# 코드 입력: START → draft_email\n",
    "builder.# 코드 입력: draft_email → route_approval (조건부)\n",
    "builder.# 코드 입력: human_review → route_approval (조건부)\n",
    "builder.# 코드 입력: send_email → END\n",
    "\n",
    "# 체크포인터 설정 및 컴파일\n",
    "memory = # 코드 입력: InMemorySaver 생성\n",
    "app = builder.# 코드 입력: checkpointer와 함께 컴파일"
   ]
  },
  {
   "cell_type": "code",
   "execution_count": null,
   "metadata": {},
   "outputs": [],
   "source": [
    "# 정답 코드\n",
    "# TODO: 완전한 그래프를 구성하세요.\n",
    "\n",
    "# 그래프 빌더 생성\n",
    "builder = StateGraph(EmailState)\n",
    "\n",
    "# 노드 추가\n",
    "builder.add_node(\"draft_email\", draft_email)\n",
    "builder.add_node(\"human_review\", human_review)\n",
    "builder.add_node(\"send_email\", send_email)\n",
    "\n",
    "# 엣지 추가\n",
    "builder.add_edge(START, \"draft_email\")\n",
    "builder.add_conditional_edges(\"draft_email\", route_approval)\n",
    "builder.add_conditional_edges(\"human_review\", route_approval)\n",
    "builder.add_edge(\"send_email\", END)\n",
    "\n",
    "# 체크포인터 설정 및 컴파일\n",
    "memory = InMemorySaver()\n",
    "app = builder.compile(checkpointer=memory)"
   ]
  },
  {
   "cell_type": "markdown",
   "metadata": {},
   "source": [
    "### 6. 그래프 시각화 및 실행\n",
    "\n",
    "- 그래프를 시각화하고 샘플 이메일로 실행하세요.\n",
    "- interrupt 시점에서 Command를 사용하여 승인 또는 수정 요청을 보내세요."
   ]
  },
  {
   "cell_type": "code",
   "execution_count": null,
   "metadata": {},
   "outputs": [],
   "source": [
    "# 실습 코드\n",
    "# TODO: 그래프를 시각화하세요.\n",
    "from langchain_teddynote.graphs import visualize_graph\n",
    "\n",
    "# 코드 입력: 그래프 시각화"
   ]
  },
  {
   "cell_type": "code",
   "execution_count": null,
   "metadata": {},
   "outputs": [],
   "source": [
    "# 정답 코드\n",
    "# TODO: 그래프를 시각화하세요.\n",
    "from langchain_teddynote.graphs import visualize_graph\n",
    "\n",
    "visualize_graph(app)"
   ]
  },
  {
   "cell_type": "markdown",
   "metadata": {},
   "source": [
    "### 7. 테스트 및 결과 확인"
   ]
  },
  {
   "cell_type": "code",
   "execution_count": null,
   "metadata": {},
   "outputs": [],
   "source": [
    "# 실습 코드\n",
    "# TODO: 샘플 이메일로 그래프를 실행하세요.\n",
    "from langchain.core.runnables import RunnableConfig\n",
    "\n",
    "# 샘플 이메일\n",
    "customer_email = \"\"\"보내는 사람: kim@techcorp.com\n",
    "제목: AI 솔루션 도입 문의\n",
    "\n",
    "안녕하세요,\n",
    "\n",
    "저희 회사에서 고객 서비스 자동화를 위한 AI 솔루션 도입을 검토하고 있습니다.\n",
    "귀사의 LangGraph 기반 솔루션에 대해 다음 사항을 문의드립니다:\n",
    "\n",
    "1. 기업용 라이선스 가격\n",
    "2. 기술 지원 범위\n",
    "3. 커스터마이징 가능 여부\n",
    "4. 도입 사례\n",
    "\n",
    "빠른 회신 부탁드립니다.\n",
    "\n",
    "감사합니다.\n",
    "김철수 부장\n",
    "TechCorp\"\"\"\n",
    "\n",
    "# 설정\n",
    "config = # 코드 입력: RunnableConfig 생성 (thread_id 포함)\n",
    "\n",
    "# 그래프 실행 (interrupt에서 중단됨)\n",
    "result = # 코드 입력: app.invoke 실행"
   ]
  },
  {
   "cell_type": "code",
   "execution_count": null,
   "metadata": {},
   "outputs": [],
   "source": [
    "# 정답 코드\n",
    "# TODO: 샘플 이메일로 그래프를 실행하세요.\n",
    "from langchain_core.runnables import RunnableConfig\n",
    "\n",
    "# 샘플 이메일\n",
    "customer_email = \"\"\"보내는 사람: kim@techcorp.com\n",
    "제목: AI 솔루션 도입 문의\n",
    "\n",
    "안녕하세요,\n",
    "\n",
    "저희 회사에서 고객 서비스 자동화를 위한 AI 솔루션 도입을 검토하고 있습니다.\n",
    "귀사의 LangGraph 기반 솔루션에 대해 다음 사항을 문의드립니다:\n",
    "\n",
    "1. 기업용 라이선스 가격\n",
    "2. 기술 지원 범위\n",
    "3. 커스터마이징 가능 여부\n",
    "4. 도입 사례\n",
    "\n",
    "빠른 회신 부탁드립니다.\n",
    "\n",
    "감사합니다.\n",
    "김철수 부장\n",
    "TechCorp\"\"\"\n",
    "\n",
    "# 설정\n",
    "config = RunnableConfig(configurable={\"thread_id\": \"email_001\"})\n",
    "\n",
    "# 그래프 실행 (interrupt에서 중단됨)\n",
    "result = app.invoke({\"messages\": [HumanMessage(content=customer_email)]}, config=config)"
   ]
  },
  {
   "cell_type": "markdown",
   "metadata": {},
   "source": [
    "approve 나 reject 명령어를 사용하여 승인하거나 재작성을 요청하세요."
   ]
  },
  {
   "cell_type": "code",
   "execution_count": null,
   "metadata": {},
   "outputs": [],
   "source": [
    "# 실습 코드\n",
    "# TODO: Command를 사용하여 초안을 승인하거나 수정 요청하세요.\n",
    "\n",
    "# 상태 확인\n",
    "snapshot = # 코드 입력: app.get_state로 현재 상태 확인\n",
    "print(f\"현재 노드: {snapshot.next}\")\n",
    "\n",
    "# 승인하는 경우\n",
    "app.invoke(\n",
    "    # 코드 입력: Command 객체로 승인 액션 전달\n",
    ")\n",
    "\n",
    "# 또는 수정 요청하는 경우\n",
    "# app.invoke(\n",
    "#     # 코드 입력: Command 객체로 수정 요청 전달\n",
    "# )"
   ]
  },
  {
   "cell_type": "code",
   "execution_count": null,
   "metadata": {},
   "outputs": [],
   "source": [
    "# 정답 코드\n",
    "# TODO: Command를 사용하여 초안을 승인하거나 수정 요청하세요.\n",
    "\n",
    "# 상태 확인\n",
    "snapshot = app.get_state(config)\n",
    "print(f\"현재 노드: {snapshot.next}\")\n",
    "\n",
    "# 승인하는 경우\n",
    "# app.invoke(\n",
    "#     Command(\n",
    "#         resume={\"action\": \"approve\"},\n",
    "#     ),\n",
    "#     config=config,\n",
    "# )\n",
    "\n",
    "# 또는 수정 요청하는 경우\n",
    "app.invoke(\n",
    "    Command(\n",
    "        resume={\"action\": \"reject\", \"feedback\": \"emoji 를 잔뜩 써주세요.\"},\n",
    "    ),\n",
    "    config=config,\n",
    ")"
   ]
  }
 ],
 "metadata": {
  "kernelspec": {
   "display_name": ".venv",
   "language": "python",
   "name": "python3"
  },
  "language_info": {
   "codemirror_mode": {
    "name": "ipython",
    "version": 3
   },
   "file_extension": ".py",
   "mimetype": "text/x-python",
   "name": "python",
   "nbconvert_exporter": "python",
   "pygments_lexer": "ipython3",
   "version": "3.12.8"
  }
 },
 "nbformat": 4,
 "nbformat_minor": 4
}

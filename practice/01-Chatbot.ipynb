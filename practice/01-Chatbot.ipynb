{
 "cells": [
  {
   "cell_type": "markdown",
   "id": "d0fdb214",
   "metadata": {},
   "source": [
    "## 기본 챗봇 구축 연습\n",
    "\n",
    "목표\n",
    "- StateGraph와 `messages` 상태를 정의하고, 간단한 챗봇 노드를 만들어 그래프를 실행합니다.\n",
    "- START → chatbot → END 경로를 구성합니다.\n",
    "\n",
    "요구사항\n",
    "- `State` TypedDict에 `messages: Annotated[list, add_messages]`를 정의하세요.\n",
    "- `ChatOpenAI` 모델(gpt-4.1, temperature=0)로 마지막 메시지를 받아 응답을 반환하는 `chatbot` 노드를 구현하세요.\n",
    "- 그래프를 compile 한 뒤, `HumanMessage` 1개로 실행하고 응답을 확인하세요.\n"
   ]
  },
  {
   "cell_type": "code",
   "execution_count": 2,
   "id": "dad0af2b",
   "metadata": {},
   "outputs": [
    {
     "name": "stdout",
     "output_type": "stream",
     "text": [
      "LangSmith 추적을 시작합니다.\n",
      "[프로젝트명]\n",
      "LangGraph-Exercises\n"
     ]
    }
   ],
   "source": [
    "from dotenv import load_dotenv\n",
    "from langchain_teddynote import logging\n",
    "\n",
    "load_dotenv(override=True)\n",
    "\n",
    "# 프로젝트 이름\n",
    "logging.langsmith(\"LangGraph-Exercises\")"
   ]
  },
  {
   "cell_type": "code",
   "execution_count": null,
   "id": "0098e0ca",
   "metadata": {},
   "outputs": [],
   "source": [
    "# Part 1 준비 코드\n",
    "from typing import Annotated\n",
    "from typing_extensions import TypedDict\n",
    "from dotenv import load_dotenv\n",
    "\n",
    "from langchain_teddynote import logging\n",
    "from langchain_openai import ChatOpenAI\n",
    "from langchain_core.messages import HumanMessage\n",
    "from langgraph.graph import StateGraph, START, END\n",
    "from langgraph.graph.message import add_messages"
   ]
  },
  {
   "cell_type": "markdown",
   "id": "f7f59d67",
   "metadata": {},
   "source": [
    "### 1. 모델을 생성해 주세요.\n",
    "\n",
    "- 사용 모델: `ChatOpenAI`, 모델명: `gpt-4.1`, 온도: `0`"
   ]
  },
  {
   "cell_type": "code",
   "execution_count": null,
   "id": "82de1d13",
   "metadata": {},
   "outputs": [],
   "source": [
    "# 실습 코드\n",
    "# TODO: LLM 모델을 정의해 주세요.\n",
    "llm = # 코드 입력"
   ]
  },
  {
   "cell_type": "code",
   "execution_count": null,
   "id": "8cc15a19",
   "metadata": {},
   "outputs": [],
   "source": [
    "# 정답 코드\n",
    "# TODO: LLM 모델을 정의해 주세요.\n",
    "llm = ChatOpenAI(model=\"gpt-4.1\", temperature=0)"
   ]
  },
  {
   "cell_type": "markdown",
   "id": "5b13fee5",
   "metadata": {},
   "source": [
    "### 2. State 정의\n",
    "\n",
    "- 그래프에서 사용할 State를 정의해 주세요."
   ]
  },
  {
   "cell_type": "code",
   "execution_count": null,
   "id": "53bc398c",
   "metadata": {},
   "outputs": [],
   "source": [
    "# 실습 코드\n",
    "# TODO: 그래프에서 사용할 State를 정의해 주세요.\n",
    "\n",
    "class State(TypedDict):\n",
    "    messages: # 코드 입력: add_messages 사용"
   ]
  },
  {
   "cell_type": "code",
   "execution_count": null,
   "id": "f580e81d",
   "metadata": {},
   "outputs": [],
   "source": [
    "# 정답 코드\n",
    "# TODO: 그래프에서 사용할 State를 정의해 주세요.\n",
    "\n",
    "\n",
    "class State(TypedDict):\n",
    "    messages: Annotated[list, add_messages]"
   ]
  },
  {
   "cell_type": "markdown",
   "id": "04419820",
   "metadata": {},
   "source": [
    "### 3. Chatbot 노드 작성\n",
    "\n",
    "- Chatbot 노드를 작성해 주세요.\n",
    "- 노드에서는 LLM 의 추론이 이루어 집니다.\n",
    "- 반환 형식은 `messages` 키에 응답을 배열로 담아 반환해 주세요."
   ]
  },
  {
   "cell_type": "code",
   "execution_count": null,
   "id": "6e7f8113",
   "metadata": {},
   "outputs": [],
   "source": [
    "# 실습 코드\n",
    "# TODO: state[\"messages\"]를 모델에 전달하고, 응답을 반환\n",
    "# 응답 반환시 스키마에 유념하세요.\n",
    "\n",
    "def chatbot(state: State):\n",
    "    response = # 코드 입력\n",
    "    return # 코드 입력"
   ]
  },
  {
   "cell_type": "code",
   "execution_count": null,
   "id": "88e6ed15",
   "metadata": {},
   "outputs": [],
   "source": [
    "# 정답 코드\n",
    "# TODO: state[\"messages\"]를 모델에 전달하고, 응답을 반환\n",
    "# 응답 반환시 스키마에 유념하세요.\n",
    "\n",
    "\n",
    "def chatbot(state: State):\n",
    "    # 코드 입력\n",
    "    response = llm.invoke(state[\"messages\"])  # 예시 구현\n",
    "    return {\"messages\": [response]}"
   ]
  },
  {
   "cell_type": "markdown",
   "id": "58cc1a4c",
   "metadata": {},
   "source": [
    "### 4. 그래프 생성\n",
    "\n",
    "- 그래프는 `StateGraph` 를 사용해 주세요.\n",
    "- 그래프는 `START` → `chatbot` → `END` 경로를 가지도록 주세요."
   ]
  },
  {
   "cell_type": "code",
   "execution_count": null,
   "id": "ff29a21e",
   "metadata": {},
   "outputs": [],
   "source": [
    "# 실습 코드\n",
    "# TODO: 노드를 정의하고 엣지를 구성해 주세요.\n",
    "\n",
    "builder = # 코드 입력\n",
    "builder.# 코드 입력\n",
    "builder.# 코드 입력\n",
    "builder.# 코드 입력\n",
    "\n",
    "app = builder.# 코드 입력"
   ]
  },
  {
   "cell_type": "code",
   "execution_count": null,
   "id": "5721a282",
   "metadata": {},
   "outputs": [],
   "source": [
    "# 정답 코드\n",
    "# TODO: 노드를 정의하고 엣지를 구성해 주세요.\n",
    "\n",
    "builder = StateGraph(State)\n",
    "builder.add_node(\"chatbot\", chatbot)\n",
    "builder.add_edge(START, \"chatbot\")\n",
    "builder.add_edge(\"chatbot\", END)\n",
    "\n",
    "graph = builder.compile()"
   ]
  },
  {
   "cell_type": "markdown",
   "id": "43230cb4",
   "metadata": {},
   "source": [
    "### 5. 그래프 시각화\n",
    "\n",
    "- 컴파일한 그래프를 시각화 하세요."
   ]
  },
  {
   "cell_type": "code",
   "execution_count": null,
   "id": "097a0804",
   "metadata": {},
   "outputs": [],
   "source": [
    "# 실습 코드\n",
    "# TODO: 그래프를 시각화 하세요.\n",
    "\n",
    "from langchain_teddynote.graphs import visualize_graph\n",
    "\n",
    "# 코드 입력"
   ]
  },
  {
   "cell_type": "code",
   "execution_count": null,
   "id": "41f96e63",
   "metadata": {},
   "outputs": [],
   "source": [
    "# 정답 코드\n",
    "# TODO: 그래프를 시각화 하세요.\n",
    "from langchain_teddynote.graphs import visualize_graph\n",
    "\n",
    "visualize_graph(graph)"
   ]
  },
  {
   "cell_type": "markdown",
   "id": "81ca4f71",
   "metadata": {},
   "source": [
    "### 6. 그래프 실행\n",
    "\n",
    "- 메시지를 입력하고 결과를 출력하세요."
   ]
  },
  {
   "cell_type": "code",
   "execution_count": null,
   "id": "f2e95605",
   "metadata": {},
   "outputs": [],
   "source": [
    "# 실습 코드\n",
    "# TODO: 메시지를 입력하고 결과를 출력하세요.\n",
    "from langchain_teddynote.messages import stream_graph\n",
    "\n",
    "inputs = {\n",
    "    \"messages\": [\n",
    "        HumanMessage(content=\"이번 주 팀 회의 공지 초안을 4문장으로 작성해줘.\")\n",
    "    ]\n",
    "}\n",
    "stream_graph(app, inputs=inputs)"
   ]
  },
  {
   "cell_type": "code",
   "execution_count": null,
   "id": "b4052e60",
   "metadata": {},
   "outputs": [],
   "source": [
    "# 정답 코드\n",
    "# TODO: 메시지를 입력하고 결과를 출력하세요.\n",
    "from langchain_teddynote.messages import stream_graph\n",
    "\n",
    "inputs = {\n",
    "    \"messages\": [\n",
    "        HumanMessage(content=\"이번 주 팀 회의 공지 초안을 4문장으로 작성해줘.\")\n",
    "    ]\n",
    "}\n",
    "stream_graph(app, inputs=inputs)"
   ]
  }
 ],
 "metadata": {
  "kernelspec": {
   "display_name": ".venv",
   "language": "python",
   "name": "python3"
  },
  "language_info": {
   "codemirror_mode": {
    "name": "ipython",
    "version": 3
   },
   "file_extension": ".py",
   "mimetype": "text/x-python",
   "name": "python",
   "nbconvert_exporter": "python",
   "pygments_lexer": "ipython3",
   "version": "3.12.8"
  }
 },
 "nbformat": 4,
 "nbformat_minor": 5
}

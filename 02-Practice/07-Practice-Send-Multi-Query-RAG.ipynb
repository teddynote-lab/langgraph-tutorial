{
 "cells": [
  {
   "cell_type": "markdown",
   "metadata": {},
   "source": [
    "## Send를 활용한 RAG Multi-Query Generator 실습\n",
    "\n",
    "목표\n",
    "- Send 기능을 활용하여 동적 라우팅으로 멀티 쿼리를 생성하는 RAG 시스템을 구축합니다.\n",
    "- 사용자의 복잡한 질문을 분해(decomposition)하여 sub-query를 생성하고 조합합니다.\n",
    "- 건설 회사 내부 문서 검색 시스템을 위한 쿼리 생성기를 구현합니다.\n",
    "\n",
    "요구사항\n",
    "- 사용자의 질문을 분석하여 여러 개의 sub-query로 분해합니다.\n",
    "- Send를 사용하여 각 sub-query를 동적으로 생성합니다.\n",
    "- 생성된 sub-query들을 조합하여 최소 5개의 검색 쿼리를 생성합니다.\n",
    "- Multi-hop 질문(여러 단계의 추론이 필요한 질문)을 처리할 수 있어야 합니다.\n",
    "\n",
    "시나리오\n",
    "- 건설 회사의 RAG 기반 사내 문서 검색 챗봇\n",
    "- 프로젝트 관리, 안전 규정, 계약서, 기술 사양서 등의 문서를 검색\n",
    "- 복잡한 질문을 여러 관점에서 검색하여 정확도를 높임"
   ]
  },
  {
   "cell_type": "code",
   "execution_count": null,
   "metadata": {},
   "outputs": [],
   "source": [
    "from dotenv import load_dotenv\n",
    "from langchain_teddynote import logging\n",
    "\n",
    "load_dotenv(override=True)\n",
    "\n",
    "# 프로젝트 이름\n",
    "logging.langsmith(\"LangGraph-Exercises\")"
   ]
  },
  {
   "cell_type": "code",
   "execution_count": null,
   "metadata": {},
   "outputs": [],
   "source": [
    "# 준비 코드\n",
    "from typing import Annotated, List, Dict\n",
    "from typing_extensions import TypedDict\n",
    "\n",
    "from langchain_openai import ChatOpenAI\n",
    "from langchain_core.messages import HumanMessage, SystemMessage\n",
    "from langgraph.graph import StateGraph, START, END\n",
    "from langgraph.graph.message import add_messages, AnyMessage\n",
    "from langgraph.types import Send"
   ]
  },
  {
   "cell_type": "markdown",
   "metadata": {},
   "source": [
    "### 1. State 정의 및 모델 설정\n",
    "\n",
    "- MultiQueryState를 정의하세요. original_question, sub_queries, combined_queries, decomposed_aspects 필드가 필요합니다.\n",
    "- SubQueryState를 정의하세요. aspect, query_number 필드가 필요합니다.\n",
    "- ChatOpenAI 모델(gpt-4.1, temperature=0.7)을 생성하세요."
   ]
  },
  {
   "cell_type": "code",
   "execution_count": null,
   "metadata": {},
   "outputs": [],
   "source": [
    "# 실습 코드\n",
    "# TODO: MultiQueryState를 정의하세요.\n",
    "class MultiQueryState(TypedDict):\n",
    "    original_question: # 코드 입력: str 타입\n",
    "    sub_queries: # 코드 입력: List[str] 타입 with add reducer\n",
    "    combined_queries: # 코드 입력: List[str] 타입\n",
    "    decomposed_aspects: # 코드 입력: List[str] 타입\n",
    "\n",
    "# TODO: SubQueryState를 정의하세요.\n",
    "class SubQueryState(TypedDict):\n",
    "    aspect: # 코드 입력: str 타입\n",
    "    query_number: # 코드 입력: int 타입\n",
    "\n",
    "# TODO: LLM 모델을 정의하세요.\n",
    "llm = # 코드 입력"
   ]
  },
  {
   "cell_type": "markdown",
   "metadata": {},
   "source": [
    "### 2. 질문 분해 노드 구현\n",
    "\n",
    "- 사용자의 원본 질문을 여러 관점(aspects)으로 분해하는 노드를 구현하세요.\n",
    "- 건설 프로젝트 관련 질문을 기술적, 안전, 계약적, 일정 관점으로 분해합니다.\n",
    "- LLM을 사용하여 질문을 분석하고 3-4개의 관점을 추출하세요."
   ]
  },
  {
   "cell_type": "code",
   "execution_count": null,
   "metadata": {},
   "outputs": [],
   "source": [
    "# 실습 코드\n",
    "# TODO: 질문을 분해하는 노드를 구현하세요.\n",
    "\n",
    "def decompose_question(state: MultiQueryState) -> Dict:\n",
    "    \"\"\"원본 질문을 여러 관점으로 분해합니다.\"\"\"\n",
    "    \n",
    "    system_prompt = # 코드 입력: 건설 프로젝트 질문 분해를 위한 시스템 프롬프트\n",
    "    \n",
    "    user_prompt = # 코드 입력: 사용자 질문을 포함한 프롬프트\n",
    "    \n",
    "    # LLM으로 질문 분해\n",
    "    messages = # 코드 입력: SystemMessage와 HumanMessage 리스트\n",
    "    response = # 코드 입력: LLM 호출\n",
    "    \n",
    "    # 응답에서 관점 추출 (간단히 줄바꿈으로 구분)\n",
    "    aspects = # 코드 입력: response.content를 파싱하여 리스트로 변환\n",
    "    \n",
    "    print(f\"\\n🔍 질문 분해 완료: {len(aspects)}개 관점\")\n",
    "    for i, aspect in enumerate(aspects, 1):\n",
    "        print(f\"  {i}. {aspect}\")\n",
    "    \n",
    "    return {\"decomposed_aspects\": aspects}"
   ]
  },
  {
   "cell_type": "markdown",
   "metadata": {},
   "source": [
    "### 3. Sub-query 생성 노드 구현\n",
    "\n",
    "- 각 관점(aspect)에 대해 구체적인 검색 쿼리를 생성하는 노드를 구현하세요.\n",
    "- SubQueryState를 입력으로 받아 sub_queries를 업데이트합니다.\n",
    "- 각 관점당 2-3개의 다양한 쿼리를 생성하세요."
   ]
  },
  {
   "cell_type": "code",
   "execution_count": null,
   "metadata": {},
   "outputs": [],
   "source": [
    "# 실습 코드\n",
    "# TODO: Sub-query를 생성하는 노드를 구현하세요.\n",
    "\n",
    "def generate_subquery(state: SubQueryState) -> Dict:\n",
    "    \"\"\"특정 관점에 대한 sub-query를 생성합니다.\"\"\"\n",
    "    \n",
    "    system_prompt = # 코드 입력: 쿼리 생성을 위한 시스템 프롬프트\n",
    "    \n",
    "    user_prompt = # 코드 입력: aspect를 기반으로 쿼리 생성 요청\n",
    "    \n",
    "    # LLM으로 쿼리 생성\n",
    "    messages = # 코드 입력\n",
    "    response = # 코드 입력\n",
    "    \n",
    "    # 생성된 쿼리들\n",
    "    queries = # 코드 입력: response를 파싱하여 리스트로 변환\n",
    "    \n",
    "    print(f\"  ✅ Query #{state['query_number']}: {queries[0][:50]}...\")\n",
    "    \n",
    "    return {\"sub_queries\": queries}"
   ]
  },
  {
   "cell_type": "markdown",
   "metadata": {},
   "source": [
    "### 4. Query 조합 노드 구현\n",
    "\n",
    "- 생성된 sub-query들을 조합하여 최종 검색 쿼리를 만드는 노드를 구현하세요.\n",
    "- 서로 다른 관점의 쿼리들을 조합하여 multi-hop 쿼리를 생성합니다.\n",
    "- 최소 5개 이상의 최종 쿼리를 생성하세요."
   ]
  },
  {
   "cell_type": "code",
   "execution_count": null,
   "metadata": {},
   "outputs": [],
   "source": [
    "# 실습 코드\n",
    "# TODO: Query들을 조합하는 노드를 구현하세요.\n",
    "\n",
    "def combine_queries(state: MultiQueryState) -> Dict:\n",
    "    \"\"\"Sub-query들을 조합하여 최종 검색 쿼리를 생성합니다.\"\"\"\n",
    "    \n",
    "    sub_queries = state.get(\"sub_queries\", [])\n",
    "    original_question = state.get(\"original_question\", \"\")\n",
    "    \n",
    "    combined = []\n",
    "    \n",
    "    # 1. 원본 질문 추가\n",
    "    combined.append(# 코드 입력: 원본 질문)\n",
    "    \n",
    "    # 2. 모든 sub-query 추가\n",
    "    combined.extend(# 코드 입력: sub_queries)\n",
    "    \n",
    "    # 3. 쿼리 조합 (2개씩 AND 조합)\n",
    "    if len(sub_queries) >= 2:\n",
    "        for i in range(min(3, len(sub_queries)-1)):\n",
    "            combined_query = # 코드 입력: 두 쿼리를 AND로 조합\n",
    "            combined.append(combined_query)\n",
    "    \n",
    "    # 중복 제거 및 최소 5개 보장\n",
    "    combined = # 코드 입력: 중복 제거 로직\n",
    "    \n",
    "    print(f\"\\n🎯 최종 쿼리 생성 완료: {len(combined)}개\")\n",
    "    \n",
    "    return {\"combined_queries\": combined}"
   ]
  },
  {
   "cell_type": "markdown",
   "metadata": {},
   "source": [
    "### 5. Send를 활용한 동적 라우팅 구현\n",
    "\n",
    "- decompose_question 노드 후 Send를 사용하여 동적으로 sub-query 생성을 라우팅하세요.\n",
    "- 각 aspect에 대해 별도의 generate_subquery 노드를 병렬로 실행합니다.\n",
    "- Send 리스트를 반환하는 라우팅 함수를 구현하세요."
   ]
  },
  {
   "cell_type": "code",
   "execution_count": null,
   "metadata": {},
   "outputs": [],
   "source": [
    "# 실습 코드\n",
    "# TODO: Send를 사용한 동적 라우팅 함수를 구현하세요.\n",
    "\n",
    "def route_to_subquery_generation(state: MultiQueryState) -> List[Send]:\n",
    "    \"\"\"각 aspect에 대해 Send로 sub-query 생성을 라우팅합니다.\"\"\"\n",
    "    \n",
    "    aspects = state.get(\"decomposed_aspects\", [])\n",
    "    sends = []\n",
    "    \n",
    "    print(f\"\\n📤 {len(aspects)}개의 sub-query 생성 작업을 시작합니다...\")\n",
    "    \n",
    "    for i, aspect in enumerate(aspects, 1):\n",
    "        # 각 aspect에 대해 Send 객체 생성\n",
    "        send_obj = # 코드 입력: Send 객체 생성 (\"generate_subquery\" 노드로, SubQueryState 전달)\n",
    "        sends.append(send_obj)\n",
    "    \n",
    "    return sends\n",
    "\n",
    "# TODO: 그래프 구성\n",
    "builder = # 코드 입력: StateGraph 생성\n",
    "\n",
    "# 노드 추가\n",
    "builder.# 코드 입력: decompose_question 노드 추가\n",
    "builder.# 코드 입력: generate_subquery 노드 추가\n",
    "builder.# 코드 입력: combine_queries 노드 추가\n",
    "\n",
    "# 엣지 추가\n",
    "builder.# 코드 입력: START → decompose_question\n",
    "builder.# 코드 입력: decompose_question → conditional_edges (Send 사용)\n",
    "builder.# 코드 입력: generate_subquery → combine_queries\n",
    "builder.# 코드 입력: combine_queries → END\n",
    "\n",
    "# 그래프 컴파일\n",
    "app = # 코드 입력"
   ]
  },
  {
   "cell_type": "markdown",
   "metadata": {},
   "source": [
    "### 6. 그래프 시각화 및 실행\n",
    "\n",
    "- 컴파일된 그래프를 시각화하세요.\n",
    "- 건설 프로젝트 관련 Multi-hop 질문 3개로 테스트하세요.\n",
    "- 생성된 쿼리들을 확인하고 품질을 평가하세요."
   ]
  },
  {
   "cell_type": "code",
   "execution_count": null,
   "metadata": {},
   "outputs": [],
   "source": [
    "# 실습 코드\n",
    "# TODO: 그래프를 시각화하세요.\n",
    "from langchain_teddynote.graphs import visualize_graph\n",
    "\n",
    "# 코드 입력: 그래프 시각화"
   ]
  },
  {
   "cell_type": "markdown",
   "metadata": {},
   "source": [
    "아래 코드를 실행하여 결과를 확인하세요"
   ]
  },
  {
   "cell_type": "code",
   "execution_count": null,
   "metadata": {},
   "outputs": [],
   "source": [
    "# TODO: Multi-hop 질문으로 테스트하세요.\n",
    "\n",
    "# 건설 프로젝트 관련 Multi-hop 질문 예제\n",
    "test_questions = [\n",
    "    \"서울 강남 A타워 프로젝트에서 지하 3층 콘크리트 타설 시 안전 규정과 품질 기준을 모두 만족하면서 우기 대비 공정 일정을 어떻게 조정해야 하나요?\",\n",
    "    \"B건설 현장의 크레인 작업 시 풍속 제한 규정과 야간 작업 소음 규제를 고려할 때, 계약서상 공기 준수를 위한 대안은 무엇인가요?\",\n",
    "    \"철근 콘크리트 구조물의 균열 발생 시 보수 방법과 관련 계약 조항, 그리고 추가 비용 청구 절차는 어떻게 되나요?\",\n",
    "]\n",
    "\n",
    "# 첫 번째 질문으로 테스트\n",
    "test_question = test_questions[0]\n",
    "\n",
    "print(f\"\\n{'='*60}\")\n",
    "print(f\"🔍 테스트 질문: {test_question}\")\n",
    "print(f\"{'='*60}\")\n",
    "\n",
    "# 그래프 실행\n",
    "result = app.invoke(\n",
    "    {\n",
    "        \"original_question\": test_question,\n",
    "        \"sub_queries\": [],\n",
    "        \"combined_queries\": [],\n",
    "        \"decomposed_aspects\": [],\n",
    "    }\n",
    ")\n",
    "\n",
    "# 결과 출력\n",
    "print(f\"\\n\\n{'='*60}\")\n",
    "print(\"📊 생성된 Multi-Query 결과\")\n",
    "print(f\"{'='*60}\")\n",
    "\n",
    "for i, query in enumerate(result.get(\"combined_queries\", []), 1):\n",
    "    print(f\"\\n[Query {i}]\")\n",
    "    print(f\"  {query}\")\n",
    "\n",
    "print(\n",
    "    f\"\\n✅ 총 {len(result.get('combined_queries', []))}개의 검색 쿼리가 생성되었습니다.\"\n",
    ")"
   ]
  },
  {
   "cell_type": "markdown",
   "metadata": {},
   "source": [
    "### 추가 테스트\n",
    "\n",
    "다른 Multi-hop 질문들로도 테스트해보세요."
   ]
  },
  {
   "cell_type": "code",
   "execution_count": null,
   "metadata": {},
   "outputs": [],
   "source": [
    "# 추가 테스트 코드\n",
    "# 나머지 질문들로 테스트\n",
    "for idx, question in enumerate(test_questions[1:], 2):\n",
    "    print(f\"\\n\\n{'='*60}\")\n",
    "    print(f\"🔍 테스트 질문 #{idx}: {question[:50]}...\")\n",
    "    print(f\"{'='*60}\")\n",
    "\n",
    "    result = app.invoke(\n",
    "        {\n",
    "            \"original_question\": question,\n",
    "            \"sub_queries\": [],\n",
    "            \"combined_queries\": [],\n",
    "            \"decomposed_aspects\": [],\n",
    "        }\n",
    "    )\n",
    "\n",
    "    print(f\"\\n생성된 쿼리 개수: {len(result.get('combined_queries', []))}개\")\n",
    "    print(\"샘플 쿼리 (처음 3개):\")\n",
    "    for i, query in enumerate(result.get(\"combined_queries\", [])[:3], 1):\n",
    "        print(f\"  {i}. {query[:70]}...\")"
   ]
  }
 ],
 "metadata": {
  "kernelspec": {
   "display_name": ".venv",
   "language": "python",
   "name": "python3"
  },
  "language_info": {
   "codemirror_mode": {
    "name": "ipython",
    "version": 3
   },
   "file_extension": ".py",
   "mimetype": "text/x-python",
   "name": "python",
   "nbconvert_exporter": "python",
   "pygments_lexer": "ipython3",
   "version": "3.12.8"
  }
 },
 "nbformat": 4,
 "nbformat_minor": 4
}

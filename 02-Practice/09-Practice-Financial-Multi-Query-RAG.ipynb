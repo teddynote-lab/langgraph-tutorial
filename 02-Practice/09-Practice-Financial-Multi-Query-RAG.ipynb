{
 "cells": [
  {
   "cell_type": "markdown",
   "metadata": {},
   "source": [
    "## 금융 문서 검색 시스템: 사용자 의도 명확화 및 멀티쿼리 RAG 에이전트 구축 연습\n",
    "\n",
    "목표\n",
    "- 사용자의 질문 의도를 분석하고, 불명확한 경우 구체적인 질문으로 되물어보는 시스템을 구축합니다.\n",
    "- 의도가 명확해지면 보다 풍부한 RAG 검색을 위한 멀티쿼리를 생성하는 에이전트를 만듭니다.\n",
    "- 금융 도메인 문서 검색에 최적화된 쿼리 변환 및 처리 과정을 학습합니다.\n",
    "\n",
    "요구사항\n",
    "- `State` TypedDict에 `messages`, `user_intent`, `search_queries`, `intent_clarity`를 정의하세요.\n",
    "- `ChatOpenAI` 모델(gpt-4.1, temperature=0)을 사용하여 의도 파악 및 쿼리 생성을 수행하세요.\n",
    "- 의도가 불명확한 경우 사용자에게 구체적인 질문을 하고, 명확한 경우 3-5개의 검색 쿼리를 생성하세요.\n",
    "- START → intent_analysis → (clarify_intent OR generate_queries) → END 경로를 구성하세요.\n",
    "\n",
    "도메인 정보\n",
    "- 금융 문서 검색 시스템 (주식, 채권, 펀드, 보험, 대출, 투자 상품 등)\n",
    "- 3가지 프롬프트 지침:\n",
    "  1. **정확성 우선**: 금융 정보의 정확성과 신뢰성을 최우선으로 합니다.\n",
    "  2. **규제 준수**: 금융 관련 법규와 규정을 반드시 고려합니다.\n",
    "  3. **리스크 명시**: 투자나 금융 상품의 위험 요소를 명확히 전달합니다."
   ]
  },
  {
   "cell_type": "code",
   "execution_count": null,
   "metadata": {},
   "outputs": [],
   "source": [
    "from dotenv import load_dotenv\n",
    "from langchain_teddynote import logging\n",
    "\n",
    "load_dotenv(override=True)\n",
    "\n",
    "# 프로젝트 이름\n",
    "logging.langsmith(\"LangGraph-Exercises\")"
   ]
  },
  {
   "cell_type": "code",
   "execution_count": null,
   "metadata": {},
   "outputs": [],
   "source": [
    "# Part 1 준비 코드\n",
    "from typing import Annotated, List, Optional\n",
    "from typing_extensions import TypedDict\n",
    "from dotenv import load_dotenv\n",
    "\n",
    "from langchain_teddynote import logging\n",
    "from langchain_openai import ChatOpenAI\n",
    "from langchain_core.messages import HumanMessage, SystemMessage, AIMessage\n",
    "from langgraph.graph import StateGraph, START, END\n",
    "from langgraph.graph.message import add_messages\n",
    "from pydantic import BaseModel, Field"
   ]
  },
  {
   "cell_type": "markdown",
   "metadata": {},
   "source": [
    "### 1. 모델을 생성해 주세요.\n",
    "\n",
    "- 사용 모델: `ChatOpenAI`, 모델명: `gpt-4.1`, 온도: `0`"
   ]
  },
  {
   "cell_type": "code",
   "execution_count": null,
   "metadata": {},
   "outputs": [],
   "source": [
    "# 실습 코드\n",
    "# TODO: LLM 모델을 정의해 주세요.\n",
    "llm = # 코드 입력"
   ]
  },
  {
   "cell_type": "markdown",
   "metadata": {},
   "source": [
    "### 2. State 및 데이터 모델 정의\n",
    "\n",
    "- 그래프에서 사용할 State를 정의해 주세요.\n",
    "- 사용자 의도와 검색 쿼리를 관리하기 위한 Pydantic 모델도 정의하세요."
   ]
  },
  {
   "cell_type": "code",
   "execution_count": null,
   "metadata": {},
   "outputs": [],
   "source": [
    "# 실습 코드(제공되는 코드)\n",
    "# TODO: 의도 분석 결과를 담을 Pydantic 모델을 정의해 주세요.\n",
    "class IntentAnalysis(BaseModel):\n",
    "    is_clear: bool = Field(description=\"의도가 명확한지 여부\")\n",
    "    intent_category: str = Field(description=\"의도 카테고리 (투자상품, 대출, 보험 등)\")\n",
    "    clarification_questions: List[str] = Field(description=\"되물어볼 질문들\")\n",
    "    confidence_score: float = Field(description=\"의도 파악 신뢰도 (0-1)\")\n",
    "\n",
    "\n",
    "# TODO: 멀티쿼리 생성 결과를 담을 Pydantic 모델을 정의해 주세요.\n",
    "class MultiQueryGeneration(BaseModel):\n",
    "    original_query: str = Field(description=\"원본 쿼리\")\n",
    "    search_queries: List[str] = Field(description=\"생성된 검색 쿼리 리스트\")\n",
    "    query_rationale: List[str] = Field(description=\"각 쿼리 생성 근거\")\n",
    "\n",
    "\n",
    "# TODO: 그래프에서 사용할 State를 정의해 주세요.\n",
    "class State(TypedDict):\n",
    "    messages: Annotated[list, add_messages]\n",
    "    user_intent: Optional[dict]  # 사용자 의도 분석 결과\n",
    "    search_queries: Optional[List[str]]  # 생성된 검색 쿼리들\n",
    "    intent_clarity: bool  # 의도 명확성 여부"
   ]
  },
  {
   "cell_type": "markdown",
   "metadata": {},
   "source": [
    "### 3. 의도 분석 노드 작성\n",
    "\n",
    "- 사용자의 질문에서 의도를 분석하는 노드를 작성해 주세요.\n",
    "- 금융 도메인에 특화된 의도 분석을 수행하고, 불명확한 경우 구체적인 질문을 준비하세요.\n",
    "- IntentAnalysis 모델을 도구로 바인딩하여 구조화된 결과를 반환하세요."
   ]
  },
  {
   "cell_type": "code",
   "execution_count": null,
   "metadata": {},
   "outputs": [],
   "source": [
    "# 실습 코드\n",
    "# TODO: 의도 분석을 위한 시스템 프롬프트를 작성해 주세요.\n",
    "INTENT_ANALYSIS_PROMPT = \"\"\"당신은 금융 문서 검색 시스템의 의도 분석 전문가입니다.\n",
    "사용자의 질문을 분석하여 다음을 판단해주세요:\n",
    "\n",
    "1. 의도가 명확한지 여부 (is_clear: True/False)\n",
    "2. 금융 카테고리 분류 (투자상품, 대출, 보험, 예적금, 카드, 외환, 세금, 부동산금융 등)\n",
    "3. 불명확한 경우 구체적인 되물어볼 질문들 (최대 3개)\n",
    "4. 의도 파악 신뢰도 (0.0-1.0)\n",
    "\n",
    "금융 정보의 정확성과 규제 준수를 고려하여 신중하게 분석하세요.\n",
    "애매한 질문의 경우 반드시 구체적인 정보를 요청하세요.\n",
    "\n",
    "예시 명확한 질문: \"삼성전자 주식의 최근 3개월 주가 동향을 알려주세요\"\n",
    "예시 불명확한 질문: \"좋은 투자 방법 알려주세요\"\n",
    "\"\"\"\n",
    "\n",
    "# TODO: 의도 분석 노드를 구현해 주세요.\n",
    "def analyze_intent(state: State):\n",
    "    # 코드 입력: IntentAnalysis를 도구로 바인딩\n",
    "    llm_with_intent_tool = # 코드 입력\n",
    "    \n",
    "    # 코드 입력: 시스템 메시지와 사용자 메시지 구성\n",
    "    messages = [\n",
    "        # 코드 입력\n",
    "    ]\n",
    "    \n",
    "    # 코드 입력: LLM 호출 및 결과 처리\n",
    "    response = # 코드 입력\n",
    "    \n",
    "    # 코드 입력: 도구 호출 결과 추출\n",
    "    if response.tool_calls:\n",
    "        intent_result = # 코드 입력\n",
    "        return {\n",
    "            \"messages\": [response],\n",
    "            \"user_intent\": intent_result,\n",
    "            \"intent_clarity\": intent_result[\"is_clear\"]\n",
    "        }\n",
    "    \n",
    "    return {\"messages\": [response], \"intent_clarity\": False}"
   ]
  },
  {
   "cell_type": "markdown",
   "metadata": {},
   "source": [
    "### 4. 의도 명확화 노드 작성\n",
    "\n",
    "- 사용자의 의도가 불명확한 경우 구체적인 질문을 하는 노드를 작성해 주세요.\n",
    "- 금융 도메인의 특성을 고려하여 사용자가 더 구체적인 정보를 제공하도록 유도하세요."
   ]
  },
  {
   "cell_type": "code",
   "execution_count": null,
   "metadata": {},
   "outputs": [],
   "source": [
    "# 실습 코드\n",
    "# TODO: 의도 명확화 노드를 구현해 주세요.\n",
    "def clarify_intent(state: State):\n",
    "    user_intent = state[\"user_intent\"]\n",
    "    \n",
    "    if user_intent and user_intent.get(\"clarification_questions\"):\n",
    "        # 코드 입력: 되물어볼 질문들을 포맷팅\n",
    "        questions = # 코드 입력\n",
    "        \n",
    "        clarification_message = f\"\"\"질문을 보다 정확히 이해하기 위해 몇 가지 추가 정보가 필요합니다:\n",
    "\n",
    "{questions}\n",
    "\n",
    "위 정보를 제공해 주시면 더 정확하고 유용한 답변을 드릴 수 있습니다.\"\"\"\n",
    "    else:\n",
    "        clarification_message = \"질문의 의도를 파악하기 어렵습니다. 더 구체적인 질문을 해주시겠어요?\"\n",
    "    \n",
    "    # 코드 입력: AIMessage로 응답 반환\n",
    "    return {\"messages\": [# 코드 입력]}"
   ]
  },
  {
   "cell_type": "markdown",
   "metadata": {},
   "source": [
    "### 5. 멀티쿼리 생성 노드 작성\n",
    "\n",
    "- 사용자의 의도가 명확한 경우 RAG 검색을 위한 여러 개의 검색 쿼리를 생성하는 노드를 작성해 주세요.\n",
    "- 금융 도메인에 특화된 다양한 관점의 검색 쿼리를 생성하세요."
   ]
  },
  {
   "cell_type": "code",
   "execution_count": null,
   "metadata": {},
   "outputs": [],
   "source": [
    "# 실습 코드\n",
    "# TODO: 멀티쿼리 생성을 위한 시스템 프롬프트를 작성해 주세요.\n",
    "MULTI_QUERY_PROMPT = \"\"\"당신은 금융 문서 검색을 위한 쿼리 생성 전문가입니다.\n",
    "사용자의 질문을 바탕으로 보다 풍부하고 정확한 검색을 위해 3-5개의 다양한 검색 쿼리를 생성해주세요.\n",
    "\n",
    "다음 관점을 고려하여 쿼리를 생성하세요:\n",
    "1. 핵심 키워드 중심의 직접적 검색\n",
    "2. 관련 금융 상품이나 서비스 검색\n",
    "3. 규제나 법률적 관점의 검색\n",
    "4. 리스크나 주의사항 관점의 검색\n",
    "5. 대안이나 비교 상품 검색\n",
    "\n",
    "각 쿼리는 구체적이고 검색 가능해야 하며, 중복을 피해야 합니다.\n",
    "생성 근거도 함께 제공해주세요.\n",
    "\"\"\"\n",
    "\n",
    "# TODO: 멀티쿼리 생성 노드를 구현해 주세요.\n",
    "def generate_multi_queries(state: State):\n",
    "    # 코드 입력: MultiQueryGeneration을 도구로 바인딩\n",
    "    llm_with_query_tool = # 코드 입력\n",
    "    \n",
    "    # 코드 입력: 원본 사용자 메시지 추출\n",
    "    original_query = None\n",
    "    for msg in state[\"messages\"]:\n",
    "        if isinstance(msg, HumanMessage):\n",
    "            original_query = msg.content\n",
    "            break\n",
    "    \n",
    "    # 코드 입력: 시스템 메시지와 쿼리 구성\n",
    "    messages = [\n",
    "        SystemMessage(content=MULTI_QUERY_PROMPT),\n",
    "        HumanMessage(content=f\"사용자 질문: {original_query}\")\n",
    "    ]\n",
    "    \n",
    "    # 코드 입력: LLM 호출 및 결과 처리\n",
    "    response = # 코드 입력\n",
    "    \n",
    "    # 코드 입력: 도구 호출 결과 추출\n",
    "    if response.tool_calls:\n",
    "        query_result = # 코드 입력\n",
    "        \n",
    "        # 검색 쿼리 결과를 포맷팅하여 메시지 생성\n",
    "        queries_text = \"\\n\".join([f\"{i+1}. {q}\" for i, q in enumerate(query_result[\"search_queries\"])])\n",
    "        result_message = f\"\"\"✅ 다음과 같은 검색 쿼리들을 생성했습니다:\n",
    "\n",
    "{queries_text}\n",
    "\n",
    "이 쿼리들을 사용하여 포괄적인 문서 검색을 수행할 수 있습니다.\"\"\"\n",
    "        \n",
    "        return {\n",
    "            \"messages\": [AIMessage(content=result_message)],\n",
    "            \"search_queries\": query_result[\"search_queries\"]\n",
    "        }\n",
    "    \n",
    "    return {\"messages\": [AIMessage(content=\"쿼리 생성에 실패했습니다.\")]}"
   ]
  },
  {
   "cell_type": "markdown",
   "metadata": {},
   "source": [
    "### 6. 그래프 생성 및 조건부 엣지 설정\n",
    "\n",
    "- 그래프를 생성하고 조건부 엣지를 설정해 주세요.\n",
    "- 의도가 명확하지 않으면 명확화 노드로, 명확하면 멀티쿼리 생성 노드로 이동하도록 구성하세요."
   ]
  },
  {
   "cell_type": "code",
   "execution_count": null,
   "metadata": {},
   "outputs": [],
   "source": [
    "# 실습 코드\n",
    "# TODO: 상태 결정 함수를 구현해 주세요.\n",
    "def determine_next_step(state: State):\n",
    "    # 코드 입력: intent_clarity 값에 따라 다음 단계 결정\n",
    "    if state.get(\"intent_clarity\", False):\n",
    "        return # 코드 입력\n",
    "    else:\n",
    "        return # 코드 입력\n",
    "\n",
    "# TODO: 그래프를 생성하고 노드와 엣지를 구성해 주세요.\n",
    "builder = # 코드 입력\n",
    "\n",
    "# 노드 추가\n",
    "builder.# 코드 입력\n",
    "builder.# 코드 입력\n",
    "builder.# 코드 입력\n",
    "\n",
    "# 엣지 구성\n",
    "builder.# 코드 입력  # START에서 의도 분석으로\n",
    "\n",
    "# 조건부 엣지 설정\n",
    "builder.# 코드 입력\n",
    "\n",
    "# 종료 엣지\n",
    "builder.# 코드 입력\n",
    "builder.# 코드 입력\n",
    "\n",
    "# 그래프 컴파일\n",
    "graph = builder.# 코드 입력"
   ]
  },
  {
   "cell_type": "markdown",
   "metadata": {},
   "source": [
    "### 7. 그래프 시각화\n",
    "\n",
    "- 컴파일한 그래프를 시각화 하세요."
   ]
  },
  {
   "cell_type": "code",
   "execution_count": null,
   "metadata": {},
   "outputs": [],
   "source": [
    "# 실습 코드\n",
    "# TODO: 그래프를 시각화 하세요.\n",
    "\n",
    "from langchain_teddynote.graphs import visualize_graph\n",
    "\n",
    "# 코드 입력"
   ]
  },
  {
   "cell_type": "markdown",
   "metadata": {},
   "source": [
    "### 8. 그래프 실행 및 테스트\n",
    "\n",
    "- 금융 도메인의 다양한 질문으로 그래프를 테스트해보세요.\n",
    "- 명확한 질문과 불명확한 질문을 모두 시도해보세요."
   ]
  },
  {
   "cell_type": "markdown",
   "metadata": {},
   "source": [
    "아래의 코드를 실행하여 결과를 확인하세요"
   ]
  },
  {
   "cell_type": "code",
   "execution_count": null,
   "metadata": {},
   "outputs": [],
   "source": [
    "# TODO: 불명확한 질문으로 테스트해보세요.\n",
    "from langchain_teddynote.messages import stream_graph, random_uuid\n",
    "from langchain_core.runnables import RunnableConfig\n",
    "\n",
    "config = RunnableConfig(configurable={\"thread_id\": random_uuid()})\n",
    "\n",
    "# 불명확한 질문 예시\n",
    "unclear_inputs = {\n",
    "    \"messages\": [HumanMessage(content=\"좋은 투자 방법 알려주세요\")],\n",
    "    \"intent_clarity\": False,\n",
    "}\n",
    "\n",
    "print(\"=== 불명확한 질문 테스트 ===\")\n",
    "stream_graph(graph, inputs=unclear_inputs, config=config)"
   ]
  },
  {
   "cell_type": "code",
   "execution_count": null,
   "metadata": {},
   "outputs": [],
   "source": [
    "# 불명확한 질문 예시\n",
    "unclear_inputs = {\n",
    "    \"messages\": [\n",
    "        HumanMessage(\n",
    "            content=\"주식에 대한 투자 방법을 찾고 있어요. 투자 기간은 중기, 수익률은 10% 이상, 위험은 5% 이하로 해주세요.\"\n",
    "        )\n",
    "    ],\n",
    "    \"intent_clarity\": False,\n",
    "}\n",
    "\n",
    "print(\"=== 불명확한 질문 테스트 ===\")\n",
    "stream_graph(graph, inputs=unclear_inputs, config=config)"
   ]
  },
  {
   "cell_type": "code",
   "execution_count": null,
   "metadata": {},
   "outputs": [],
   "source": [
    "# TODO: 명확한 질문으로 테스트해보세요.\n",
    "\n",
    "# 명확한 질문 예시\n",
    "clear_inputs = {\n",
    "    \"messages\": [\n",
    "        HumanMessage(\n",
    "            content=\"삼성전자 주식의 최근 6개월 주가 변동과 배당 정보를 알려주세요\"\n",
    "        )\n",
    "    ],\n",
    "    \"intent_clarity\": False,\n",
    "}\n",
    "\n",
    "print(\"\\n=== 명확한 질문 테스트 ===\")\n",
    "stream_graph(graph, inputs=clear_inputs, config=config)"
   ]
  },
  {
   "cell_type": "code",
   "execution_count": null,
   "metadata": {},
   "outputs": [],
   "source": [
    "# 추가 테스트 - 다양한 금융 도메인 질문들\n",
    "test_questions = [\n",
    "    \"주택담보대출 금리 비교해주세요\",\n",
    "    \"연금보험 상품 추천해주세요\",\n",
    "    \"비트코인 ETF 투자 위험성에 대해 알려주세요\",\n",
    "    \"ISA 계좌 개설 조건과 세제 혜택을 설명해주세요\",\n",
    "]\n",
    "\n",
    "for i, question in enumerate(test_questions, 1):\n",
    "    print(f\"\\n=== 테스트 {i}: {question} ===\")\n",
    "    test_inputs = {\n",
    "        \"messages\": [HumanMessage(content=question)],\n",
    "        \"intent_clarity\": False,\n",
    "    }\n",
    "    stream_graph(graph, inputs=test_inputs, config=config)"
   ]
  }
 ],
 "metadata": {
  "kernelspec": {
   "display_name": ".venv",
   "language": "python",
   "name": "python3"
  },
  "language_info": {
   "codemirror_mode": {
    "name": "ipython",
    "version": 3
   },
   "file_extension": ".py",
   "mimetype": "text/x-python",
   "name": "python",
   "nbconvert_exporter": "python",
   "pygments_lexer": "ipython3",
   "version": "3.12.8"
  }
 },
 "nbformat": 4,
 "nbformat_minor": 4
}

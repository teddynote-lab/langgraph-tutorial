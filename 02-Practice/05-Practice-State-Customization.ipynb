{
 "cells": [
  {
   "cell_type": "markdown",
   "metadata": {},
   "source": [
    "## Part 5. 상태 커스터마이징 실습\n",
    "\n",
    "목표\n",
    "- 웹 검색 도구를 통합한 챗봇을 구축하고, 상태 replay 기능을 활용하여 검색어를 수정하고 재실행하는 방법을 학습합니다.\n",
    "- 첫 번째 검색: `기계식 키보드 추천`으로 일반 검색을 수행합니다.\n",
    "- 두 번째 검색: replay 기능을 사용하여 검색어를 `기계식 키보드 추천 2025 site:quasarzone.com`으로 수정하고 재실행합니다.\n",
    "\n",
    "요구사항\n",
    "- `TavilySearch` 도구를 설정하고 LLM에 바인딩하세요.\n",
    "- 메모리 기능이 있는 그래프를 구축하세요.\n",
    "- 상태 히스토리를 확인하고 `update_tool_call`을 사용하여 검색어를 수정하세요.\n",
    "- 수정된 상태로 그래프를 재실행하세요."
   ]
  },
  {
   "cell_type": "code",
   "execution_count": null,
   "metadata": {},
   "outputs": [],
   "source": [
    "from dotenv import load_dotenv\n",
    "from langchain_teddynote import logging\n",
    "\n",
    "load_dotenv(override=True)\n",
    "\n",
    "# 프로젝트 이름\n",
    "logging.langsmith(\"LangGraph-Exercises\")"
   ]
  },
  {
   "cell_type": "code",
   "execution_count": null,
   "metadata": {},
   "outputs": [],
   "source": [
    "# 준비 코드\n",
    "from typing import Annotated\n",
    "from typing_extensions import TypedDict\n",
    "\n",
    "from langchain_openai import ChatOpenAI\n",
    "from langchain_core.messages import HumanMessage\n",
    "from langgraph.graph import StateGraph, START, END\n",
    "from langgraph.graph.message import add_messages\n",
    "from langgraph.checkpoint.memory import InMemorySaver\n",
    "from langchain_teddynote.messages import stream_graph\n",
    "from langchain_teddynote.graphs import visualize_graph"
   ]
  },
  {
   "cell_type": "markdown",
   "metadata": {},
   "source": [
    "### 1. 웹 검색 도구 설정\n",
    "\n",
    "- `TavilySearch` 도구를 설정하세요.\n",
    "- 최대 검색 결과 수는 2개로 설정하세요."
   ]
  },
  {
   "cell_type": "code",
   "execution_count": null,
   "metadata": {},
   "outputs": [],
   "source": [
    "# 실습 코드\n",
    "from langchain_tavily import TavilySearch\n",
    "from langgraph.prebuilt import ToolNode, tools_condition\n",
    "\n",
    "# TODO: TavilySearch 도구를 설정하세요 (max_results=2)\n",
    "tool = # 코드 입력\n",
    "tools = # 코드 입력"
   ]
  },
  {
   "cell_type": "code",
   "execution_count": null,
   "metadata": {},
   "outputs": [],
   "source": [
    "# 정답 코드\n",
    "from langchain_tavily import TavilySearch\n",
    "from langgraph.prebuilt import ToolNode, tools_condition\n",
    "\n",
    "# TODO: TavilySearch 도구를 설정하세요 (max_results=2)\n",
    "tool = TavilySearch(max_results=2)\n",
    "tools = [tool]"
   ]
  },
  {
   "cell_type": "markdown",
   "metadata": {},
   "source": [
    "### 2. LLM과 State 정의\n",
    "\n",
    "- ChatOpenAI 모델을 생성하고 도구를 바인딩하세요.\n",
    "- 모델명: `gpt-4.1`, 온도: `0`\n",
    "- 그래프 State를 정의하세요."
   ]
  },
  {
   "cell_type": "code",
   "execution_count": null,
   "metadata": {},
   "outputs": [],
   "source": [
    "# 실습 코드\n",
    "# TODO: LLM 모델을 생성하고 도구를 바인딩하세요\n",
    "llm = # 코드 입력\n",
    "llm_with_tools = # 코드 입력\n",
    "\n",
    "# TODO: State를 정의하세요\n",
    "class State(TypedDict):\n",
    "    messages: # 코드 입력"
   ]
  },
  {
   "cell_type": "code",
   "execution_count": null,
   "metadata": {},
   "outputs": [],
   "source": [
    "# 정답 코드\n",
    "# TODO: LLM 모델을 생성하고 도구를 바인딩하세요\n",
    "llm = ChatOpenAI(model=\"gpt-4.1\", temperature=0)\n",
    "llm_with_tools = llm.bind_tools(tools)\n",
    "\n",
    "\n",
    "# TODO: State를 정의하세요\n",
    "class State(TypedDict):\n",
    "    messages: Annotated[list, add_messages]"
   ]
  },
  {
   "cell_type": "markdown",
   "metadata": {},
   "source": [
    "### 3. 챗봇 노드와 그래프 구성\n",
    "\n",
    "- 챗봇 노드를 작성하세요.\n",
    "- ToolNode를 생성하세요.\n",
    "- StateGraph를 구성하고 노드와 엣지를 추가하세요.\n",
    "- 메모리 기능을 추가하여 컴파일하세요."
   ]
  },
  {
   "cell_type": "code",
   "execution_count": null,
   "metadata": {},
   "outputs": [],
   "source": [
    "# 실습 코드\n",
    "# TODO: 챗봇 노드를 작성하세요\n",
    "def chatbot(state: State):\n",
    "    # 코드 입력\n",
    "    pass\n",
    "\n",
    "# TODO: 그래프를 구성하세요\n",
    "builder = # 코드 입력\n",
    "builder.add_node(# 코드 입력)\n",
    "\n",
    "# TODO: ToolNode를 추가하세요\n",
    "tool_node = # 코드 입력\n",
    "builder.add_node(# 코드 입력)\n",
    "\n",
    "# TODO: 엣지를 추가하세요\n",
    "builder.add_conditional_edges(# 코드 입력)\n",
    "builder.add_edge(# 코드 입력)\n",
    "builder.add_edge(# 코드 입력)\n",
    "\n",
    "# TODO: 메모리와 함께 컴파일하세요\n",
    "memory = # 코드 입력\n",
    "graph = # 코드 입력"
   ]
  },
  {
   "cell_type": "code",
   "execution_count": null,
   "metadata": {},
   "outputs": [],
   "source": [
    "# 정답 코드\n",
    "# TODO: 챗봇 노드를 작성하세요\n",
    "def chatbot(state: State):\n",
    "    message = llm_with_tools.invoke(state[\"messages\"])\n",
    "    return {\"messages\": [message]}\n",
    "\n",
    "\n",
    "# TODO: 그래프를 구성하세요\n",
    "builder = StateGraph(State)\n",
    "builder.add_node(\"chatbot\", chatbot)\n",
    "\n",
    "# TODO: ToolNode를 추가하세요\n",
    "tool_node = ToolNode(tools=tools)\n",
    "builder.add_node(\"tools\", tool_node)\n",
    "\n",
    "# TODO: 엣지를 추가하세요\n",
    "builder.add_conditional_edges(\"chatbot\", tools_condition)\n",
    "builder.add_edge(\"tools\", \"chatbot\")\n",
    "builder.add_edge(START, \"chatbot\")\n",
    "\n",
    "# TODO: 메모리와 함께 컴파일하세요\n",
    "memory = InMemorySaver()\n",
    "graph = builder.compile(checkpointer=memory)"
   ]
  },
  {
   "cell_type": "markdown",
   "metadata": {},
   "source": [
    "### 4. 첫 번째 검색 실행\n",
    "\n",
    "- `기계식 키보드 추천`이라는 검색어로 첫 번째 실행을 수행하세요.\n",
    "- thread_id는 `keyboard-001`로 설정하세요."
   ]
  },
  {
   "cell_type": "code",
   "execution_count": null,
   "metadata": {},
   "outputs": [],
   "source": [
    "# 실습 코드\n",
    "# TODO: 첫 번째 검색을 실행하세요\n",
    "config = # 코드 입력\n",
    "inputs = # 코드 입력\n",
    "\n",
    "# 그래프 실행\n",
    "stream_graph(graph, inputs=inputs, config=config)"
   ]
  },
  {
   "cell_type": "code",
   "execution_count": null,
   "metadata": {},
   "outputs": [],
   "source": [
    "# 정답 코드\n",
    "# TODO: 첫 번째 검색을 실행하세요\n",
    "config = {\"configurable\": {\"thread_id\": \"keyboard-001\"}}\n",
    "inputs = {\"messages\": [HumanMessage(content=\"기계식 키보드 추천 정보를 찾아주세요.\")]}\n",
    "\n",
    "# 그래프 실행\n",
    "stream_graph(graph, inputs=inputs, config=config)"
   ]
  },
  {
   "cell_type": "markdown",
   "metadata": {},
   "source": [
    "### 5. 상태 히스토리 확인 및 Replay 대상 찾기\n",
    "\n",
    "- 상태 히스토리를 확인하고 도구 호출이 있는 체크포인트를 찾으세요.\n",
    "- 해당 체크포인트를 `to_replay` 변수에 저장하세요."
   ]
  },
  {
   "cell_type": "code",
   "execution_count": null,
   "metadata": {},
   "outputs": [],
   "source": [
    "# 실습 코드\n",
    "# TODO: 상태 히스토리를 확인하고 replay할 체크포인트를 찾으세요\n",
    "to_replay = None\n",
    "\n",
    "for state in graph.get_state_history(config):\n",
    "    # 도구 호출이 있는 상태를 찾으세요\n",
    "    if state.next == (\"tools\",) and to_replay is None:\n",
    "        # 코드 입력\n",
    "        break\n",
    "\n",
    "if to_replay:\n",
    "    print(\n",
    "        f\"✅ Replay할 체크포인트 ID: {to_replay.config['configurable']['checkpoint_id']}\"\n",
    "    )"
   ]
  },
  {
   "cell_type": "code",
   "execution_count": null,
   "metadata": {},
   "outputs": [],
   "source": [
    "# 정답 코드\n",
    "# TODO: 상태 히스토리를 확인하고 replay할 체크포인트를 찾으세요\n",
    "to_replay = None\n",
    "\n",
    "for state in graph.get_state_history(config):\n",
    "    # 도구 호출이 있는 상태를 찾으세요\n",
    "    if state.next == (\"tools\",) and to_replay is None:\n",
    "        to_replay = state\n",
    "        break\n",
    "\n",
    "if to_replay:\n",
    "    print(\n",
    "        f\"✅ Replay할 체크포인트 ID: {to_replay.config['configurable']['checkpoint_id']}\"\n",
    "    )"
   ]
  },
  {
   "cell_type": "markdown",
   "metadata": {},
   "source": [
    "### 6. 검색어 수정 및 재실행\n",
    "\n",
    "- `update_tool_call` 함수를 사용하여 검색어를 수정하세요.\n",
    "- 새로운 검색어: `기계식 키보드 추천 2025 site:quasarzone.com`\n",
    "- 수정된 상태로 그래프를 재실행하세요."
   ]
  },
  {
   "cell_type": "code",
   "execution_count": null,
   "metadata": {},
   "outputs": [],
   "source": [
    "# 실습 코드\n",
    "from langchain_teddynote.tools import update_tool_call\n",
    "\n",
    "# TODO: 검색어를 수정하세요\n",
    "updated_message = update_tool_call(\n",
    "    # 코드 입력 - 마지막 메시지\n",
    "    tool_name=\"tavily_search\",\n",
    "    tool_args=# 코드 입력 - 새로운 검색어\n",
    ")\n",
    "\n",
    "# TODO: 수정된 메시지로 상태를 업데이트하고 재실행하세요\n",
    "graph.update_state(\n",
    "    to_replay.config,\n",
    "    {\"messages\": # 코드 입력}\n",
    ")\n",
    "\n",
    "# 수정된 상태에서 재실행\n",
    "stream_graph(graph, inputs=None, config=to_replay.config)"
   ]
  },
  {
   "cell_type": "code",
   "execution_count": null,
   "metadata": {},
   "outputs": [],
   "source": [
    "# 정답 코드\n",
    "from langchain_teddynote.tools import update_tool_call\n",
    "\n",
    "# TODO: 검색어를 수정하세요\n",
    "updated_message = update_tool_call(\n",
    "    to_replay.values[\"messages\"][-1],\n",
    "    tool_name=\"tavily_search\",\n",
    "    tool_args={\n",
    "        \"query\": \"기계식 키보드 추천 2025 site:quasarzone.com\",\n",
    "        \"search_depth\": \"basic\",\n",
    "    },\n",
    ")\n",
    "\n",
    "# TODO: 수정된 메시지로 상태를 업데이트하고 재실행하세요\n",
    "updated_state = graph.update_state(to_replay.config, {\"messages\": [updated_message]})\n",
    "\n",
    "# 수정된 상태에서 재실행\n",
    "stream_graph(graph, inputs=None, config=updated_state)"
   ]
  }
 ],
 "metadata": {
  "kernelspec": {
   "display_name": ".venv",
   "language": "python",
   "name": "python3"
  },
  "language_info": {
   "codemirror_mode": {
    "name": "ipython",
    "version": 3
   },
   "file_extension": ".py",
   "mimetype": "text/x-python",
   "name": "python",
   "nbconvert_exporter": "python",
   "pygments_lexer": "ipython3",
   "version": "3.12.8"
  }
 },
 "nbformat": 4,
 "nbformat_minor": 4
}
